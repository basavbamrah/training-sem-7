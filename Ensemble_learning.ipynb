{
 "cells": [
  {
   "cell_type": "markdown",
   "metadata": {},
   "source": [
    "# 04/11/22"
   ]
  },
  {
   "cell_type": "markdown",
   "metadata": {},
   "source": [
    "## **Ensemble Learning**"
   ]
  },
  {
   "cell_type": "markdown",
   "metadata": {},
   "source": [
    "- it is usage of different models at one time to predict something\n",
    "- it is a technique that combines the predictions from multiple machine learning algorithms together to make more accurate predictions than any individual model."
   ]
  },
  {
   "cell_type": "markdown",
   "metadata": {},
   "source": [
    "**Types**\n",
    "1. Bagging: \n",
    "2. Boosting\n",
    "3. Pasting\n",
    "\n",
    "- In bagging and pasting we train different models parallely and we get the prediction by combining their all prediction.\n",
    "- In bosting we train different models sequentially \n",
    "- In bosting error given by one model is passed to the input of one model and so on, so we can say that upper model is boosting the lower model.\n",
    "\n",
    "**Note:** model is also called estimator, predictor, learner\n",
    "<!-- 4. Stacking -->"
   ]
  },
  {
   "cell_type": "code",
   "execution_count": 1,
   "metadata": {},
   "outputs": [],
   "source": [
    "# bagging is sampling with replacement (random forest: bagging with decision tree) and pasting is sampling without replacement\n",
    "# from sklearn.ensemble import RandomForestClassifier\n",
    "\n",
    "# classifier=RandomForestClassifier(n_estimators=100) # n_estimator: cout of decision tree\n",
    "# classifier.fit(X_train,y_train)"
   ]
  },
  {
   "cell_type": "code",
   "execution_count": null,
   "metadata": {},
   "outputs": [],
   "source": [
    "# from sklearn.ensemble import RandomForestRegressor\n",
    "\n",
    "# regressor=RandomForestRegressor()\n",
    "# regressor.fit(x,y)\n"
   ]
  }
 ],
 "metadata": {
  "kernelspec": {
   "display_name": "Python 3.9.12 ('base')",
   "language": "python",
   "name": "python3"
  },
  "language_info": {
   "codemirror_mode": {
    "name": "ipython",
    "version": 3
   },
   "file_extension": ".py",
   "mimetype": "text/x-python",
   "name": "python",
   "nbconvert_exporter": "python",
   "pygments_lexer": "ipython3",
   "version": "3.9.12"
  },
  "orig_nbformat": 4,
  "vscode": {
   "interpreter": {
    "hash": "73fa04910e3d127807ceeedb19e1b3e59ccb4070037b8d0933101bf9843736ea"
   }
  }
 },
 "nbformat": 4,
 "nbformat_minor": 2
}
