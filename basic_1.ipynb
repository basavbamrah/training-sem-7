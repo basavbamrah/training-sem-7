{
 "cells": [
  {
   "cell_type": "markdown",
   "metadata": {},
   "source": [
    "# 17/08/22\n"
   ]
  },
  {
   "cell_type": "markdown",
   "metadata": {},
   "source": [
    "**Data types**\n",
    "int, float, string, bool\n",
    "python is dynamic in nature\n"
   ]
  },
  {
   "cell_type": "markdown",
   "metadata": {},
   "source": [
    "**Variables**\n",
    "valid variales\n",
    "rules:\n",
    "\n",
    "1. start with alpha or \\_\n",
    "2. use numbers\n",
    "3. no special characters like @, # etc only \\_ can be used\n",
    "4. no keywords can be used\n"
   ]
  },
  {
   "cell_type": "code",
   "execution_count": 2,
   "metadata": {},
   "outputs": [
    {
     "name": "stdout",
     "output_type": "stream",
     "text": [
      "56\n",
      "556\n",
      "a\n"
     ]
    }
   ],
   "source": [
    "print(56)\n",
    "a = 556\n",
    "print(a)\n",
    "print(\"a\")\n"
   ]
  },
  {
   "cell_type": "markdown",
   "metadata": {},
   "source": [
    "**operators**\n",
    "\n",
    "1. Arthematic operators: + - \\* / //(double div or floor div) % \\*\\*\n",
    "2. comparison operators/conditional operators: < > <= >= == !=\n",
    "3. Assignment operator: = += -= \\*= /= %= //=\n",
    "4. logical operators: and or not\n"
   ]
  },
  {
   "cell_type": "code",
   "execution_count": 11,
   "metadata": {},
   "outputs": [
    {
     "name": "stdout",
     "output_type": "stream",
     "text": [
      "3.0\n",
      "3\n",
      "1\n",
      "True\n",
      "None\n"
     ]
    }
   ],
   "source": [
    "# operators\n",
    "# arthematic\n",
    "print(6 / 2)\n",
    "print(6 // 2)\n",
    "print(6 // 5)\n",
    "# comparison\n",
    "a = 6\n",
    "b = 3\n",
    "c = a > b\n",
    "d = print(c)\n",
    "print(d)\n"
   ]
  },
  {
   "cell_type": "markdown",
   "metadata": {},
   "source": [
    "# 18/08/22\n"
   ]
  },
  {
   "cell_type": "markdown",
   "metadata": {},
   "source": [
    "**Strings in python**\n"
   ]
  },
  {
   "cell_type": "code",
   "execution_count": 4,
   "metadata": {},
   "outputs": [
    {
     "name": "stdout",
     "output_type": "stream",
     "text": [
      "11\n"
     ]
    }
   ],
   "source": [
    "# string\n",
    "\"\"\"this is multi\n",
    "line \n",
    "comment\n",
    "\"\"\"\n",
    "s = \"hello world\"\n",
    "print(len(s))\n",
    "# lst index length-1\n"
   ]
  },
  {
   "cell_type": "code",
   "execution_count": 6,
   "metadata": {},
   "outputs": [
    {
     "name": "stdout",
     "output_type": "stream",
     "text": [
      "d\n",
      "h\n",
      "d\n"
     ]
    }
   ],
   "source": [
    "print(s[-1])  # last character\n",
    "print(s[0])\n",
    "print(s[len(s) - 1])\n"
   ]
  },
  {
   "cell_type": "markdown",
   "metadata": {},
   "source": [
    "# slicing\n"
   ]
  },
  {
   "cell_type": "code",
   "execution_count": 12,
   "metadata": {},
   "outputs": [
    {
     "name": "stdout",
     "output_type": "stream",
     "text": [
      "hello\n",
      "world\n",
      "hello\n",
      "hello world\n"
     ]
    }
   ],
   "source": [
    "print(s[0:5])  # from 0 to 5\n",
    "print(s[6:])  # from 6 to end\n",
    "print(s[:5])  # from 0 to 5\n",
    "print(s[:])  # from 0 to end\n"
   ]
  },
  {
   "cell_type": "code",
   "execution_count": 28,
   "metadata": {},
   "outputs": [
    {
     "name": "stdout",
     "output_type": "stream",
     "text": [
      "hlo\n",
      "dlrow\n",
      " olleh\n",
      "dlrow olleh\n"
     ]
    }
   ],
   "source": [
    "print(s[0:5:2])  # from 0 to 5 with step 2\n",
    "print(s[10:5:-1])  # from 10 to 5 with step -1\n",
    "print(s[5::-1])  # from 5 to end with step -1\n",
    "print(s[::-1])  # from 0 to end with step -1\n"
   ]
  },
  {
   "cell_type": "code",
   "execution_count": 32,
   "metadata": {},
   "outputs": [
    {
     "name": "stdout",
     "output_type": "stream",
     "text": [
      "1\n",
      "6\n"
     ]
    },
    {
     "ename": "ValueError",
     "evalue": "substring not found",
     "output_type": "error",
     "traceback": [
      "\u001b[1;31m---------------------------------------------------------------------------\u001b[0m",
      "\u001b[1;31mValueError\u001b[0m                                Traceback (most recent call last)",
      "\u001b[1;32mc:\\Users\\DarkLord\\Desktop\\Training\\python\\basics.ipynb Cell 14\u001b[0m in \u001b[0;36m<cell line: 4>\u001b[1;34m()\u001b[0m\n\u001b[0;32m      <a href='vscode-notebook-cell:/c%3A/Users/DarkLord/Desktop/Training/python/basics.ipynb#X21sZmlsZQ%3D%3D?line=1'>2</a>\u001b[0m \u001b[39mprint\u001b[39m(s\u001b[39m.\u001b[39mindex(\u001b[39m'\u001b[39m\u001b[39me\u001b[39m\u001b[39m'\u001b[39m))\n\u001b[0;32m      <a href='vscode-notebook-cell:/c%3A/Users/DarkLord/Desktop/Training/python/basics.ipynb#X21sZmlsZQ%3D%3D?line=2'>3</a>\u001b[0m \u001b[39mprint\u001b[39m(s\u001b[39m.\u001b[39mindex(\u001b[39m'\u001b[39m\u001b[39me\u001b[39m\u001b[39m'\u001b[39m,\u001b[39m4\u001b[39m))\n\u001b[1;32m----> <a href='vscode-notebook-cell:/c%3A/Users/DarkLord/Desktop/Training/python/basics.ipynb#X21sZmlsZQ%3D%3D?line=3'>4</a>\u001b[0m \u001b[39mprint\u001b[39m(s\u001b[39m.\u001b[39;49mindex(\u001b[39m'\u001b[39;49m\u001b[39me\u001b[39;49m\u001b[39m'\u001b[39;49m,\u001b[39m4\u001b[39;49m,\u001b[39m6\u001b[39;49m))\n",
      "\u001b[1;31mValueError\u001b[0m: substring not found"
     ]
    }
   ],
   "source": [
    "s = \"hello e world e\"\n",
    "print(s.index(\"e\"))  # index of first e\n",
    "print(s.index(\"e\", 4))  # index of first e from 4\n",
    "print(s.index(\"e\", 4, 6))  # index of first e from 4 to 6\n"
   ]
  },
  {
   "cell_type": "code",
   "execution_count": 34,
   "metadata": {},
   "outputs": [
    {
     "name": "stdout",
     "output_type": "stream",
     "text": [
      "1\n",
      "-1\n"
     ]
    }
   ],
   "source": [
    "print(s.find(\"e\"))\n",
    "print(s.find(\"e\", 4, 6))  # if string not present then return -1\n",
    "\n"
   ]
  },
  {
   "cell_type": "code",
   "execution_count": 38,
   "metadata": {},
   "outputs": [
    {
     "name": "stdout",
     "output_type": "stream",
     "text": [
      "helloeee\n",
      "elloeee\n"
     ]
    }
   ],
   "source": [
    "s = input(\"Enter a string: \\n\")\n",
    "print(s)\n",
    "a = s.find(\"e\")\n",
    "print(s[a:])\n"
   ]
  },
  {
   "cell_type": "code",
   "execution_count": 41,
   "metadata": {},
   "outputs": [
    {
     "name": "stdout",
     "output_type": "stream",
     "text": [
      "end\n"
     ]
    }
   ],
   "source": [
    "# abc{def}sdfe\n",
    "s = input(\"enter a string\")s = input(\"enter a string\")\n",
    "st = s.find(\"{\")\n",
    "end = s.find\n",
    "print(s[(st + 1): end])(\"}\")\n",
    "st = s.find(\"{\")\n",
    "end = s.find\n",
    "print(s[(st + 1): end])(\"}\")\n"
   ]
  },
  {
   "cell_type": "code",
   "execution_count": 48,
   "metadata": {},
   "outputs": [
    {
     "name": "stdout",
     "output_type": "stream",
     "text": [
      "2\n",
      "1\n",
      "hzllo wzlcomE\n",
      "hello welcomE\n",
      "hzllo wzlcomE\n"
     ]
    }
   ],
   "source": [
    "# count\n",
    "s = \"hello welcomE\"\n",
    "print(s.count(\"e\"))\n",
    "print(s.count(\"e\", 2))\n",
    "print(s.replace(\"e\", \"z\"))\n",
    "print(s)  # immutable\n",
    "# methods which return values dont apply changes : methods that do not return values apply changes\n",
    "s = s.replace(\"e\", \"z\")\n",
    "print(s)\n"
   ]
  },
  {
   "cell_type": "code",
   "execution_count": 3,
   "metadata": {},
   "outputs": [
    {
     "name": "stdout",
     "output_type": "stream",
     "text": [
      "name _ age ___ marks __\n",
      "name abc age 55 marks 5\n"
     ]
    }
   ],
   "source": [
    "msg = input(\"enter msg: \")\n",
    "name = input('Enter a name: ')\n",
    "marks = input('Enter marks:')\n",
    "age = input('Enter age')\n",
    "# msg = msg.replace('1', name)\n",
    "# msg = msg.replace('2', marks)\n",
    "# msg = msg.replace('3', age)\n",
    "print(msg)\n",
    "msg = msg.replace('___', age)\n",
    "msg = msg.replace('__', marks)\n",
    "msg = msg.replace('_', name)\n",
    "\n",
    "print(msg)\n"
   ]
  },
  {
   "cell_type": "code",
   "execution_count": 49,
   "metadata": {},
   "outputs": [
    {
     "name": "stdout",
     "output_type": "stream",
     "text": [
      "name: abc | email: abc@gmail.com\n"
     ]
    }
   ],
   "source": [
    "n = 'abc'\n",
    "e = 'abc@gmail.com'\n",
    "print(f'name: {n} | email: {e}')\n"
   ]
  },
  {
   "cell_type": "code",
   "execution_count": 14,
   "metadata": {},
   "outputs": [
    {
     "name": "stdout",
     "output_type": "stream",
     "text": [
      "HELLO HOW ARE U\n",
      "Hello How Are U\n",
      "     hello how are u     \n",
      "hello how are u\n",
      "hello how are u     \n",
      "     hello how are u\n",
      "hello how are u\n"
     ]
    }
   ],
   "source": [
    "s = 'hello how are u'\n",
    "print(s.upper())\n",
    "s = 'hello hoW arE u'\n",
    "print(s.title())\n",
    "s = '     hello how are u     '\n",
    "print(s)\n",
    "print(s.strip())\n",
    "print(s.lstrip())\n",
    "print(s.rstrip())\n",
    "s = '****hello how are u*****'\n",
    "print(s.strip('*'))\n"
   ]
  },
  {
   "cell_type": "code",
   "execution_count": 5,
   "metadata": {},
   "outputs": [
    {
     "name": "stdout",
     "output_type": "stream",
     "text": [
      "hellowelcome\n",
      "*****\n",
      "****\n",
      "***\n",
      "**\n",
      "*\n"
     ]
    }
   ],
   "source": [
    "s = 'hello'\n",
    "s1 = 'welcome'\n",
    "s += s1\n",
    "print(s)\n",
    "s = '*'\n",
    "print(s*5)\n",
    "print(s*4)\n",
    "print(s*3)\n",
    "print(s*2)\n",
    "print(s*1)\n"
   ]
  },
  {
   "cell_type": "markdown",
   "metadata": {},
   "source": [
    "# 19/08/22\n"
   ]
  },
  {
   "cell_type": "code",
   "execution_count": 10,
   "metadata": {},
   "outputs": [
    {
     "name": "stdout",
     "output_type": "stream",
     "text": [
      "hello\n",
      "welcome\n",
      "hello\twelcome\n",
      "hello\\welcome\n",
      "hello\\welcome\n",
      "hello\\welcome\n"
     ]
    }
   ],
   "source": [
    "s = 'hello\\nwelcome'\n",
    "print(s)\n",
    "s = 'hello\\twelcome'\n",
    "print(s)\n",
    "s = 'hello\\\\welcome'\n",
    "print(s)\n",
    "s = r'hello\\welcome'\n",
    "print(s)\n",
    "s = 'hello\\\\welcome'\n",
    "print(s)\n"
   ]
  },
  {
   "cell_type": "code",
   "execution_count": 15,
   "metadata": {},
   "outputs": [
    {
     "name": "stdout",
     "output_type": "stream",
     "text": [
      "\n",
      "True\n",
      "True\n"
     ]
    }
   ],
   "source": [
    "email = 'abc@gmail.com'\n",
    "print()\n",
    "print(('.com' or '.co' or '.in' and '@') in email)\n",
    "print(('.com' in email or '.co' in email or '.in' in email) and '@' in email)\n"
   ]
  },
  {
   "cell_type": "code",
   "execution_count": 20,
   "metadata": {},
   "outputs": [
    {
     "name": "stdout",
     "output_type": "stream",
     "text": [
      "True\n",
      "False\n",
      "True\n",
      "True\n",
      "False\n",
      "True\n"
     ]
    }
   ],
   "source": [
    "s = 'hello'\n",
    "print(s.islower())\n",
    "s = 'hEllo'\n",
    "print(s.islower())\n",
    "s = 'h3llo'\n",
    "print(s.islower())\n",
    "s = 'h!llo'\n",
    "print(s.islower())\n",
    "# print(s.isalnum())\n",
    "s = 'hello world'\n",
    "print(s.isalpha())\n",
    "s = 'helloworld'\n",
    "print(s.isalpha())\n",
    "# .isdigit() .isalnum()\n"
   ]
  },
  {
   "cell_type": "markdown",
   "metadata": {},
   "source": [
    "**Type Casting** process to change a variable's data type to another data type\n"
   ]
  },
  {
   "cell_type": "code",
   "execution_count": 3,
   "metadata": {},
   "outputs": [
    {
     "name": "stdout",
     "output_type": "stream",
     "text": [
      "<class 'int'>\n",
      "True\n",
      "34.0\n",
      "<class 'float'>\n",
      "34.0\n"
     ]
    }
   ],
   "source": [
    "s = '34'\n",
    "s = int(s)\n",
    "print(type(s))\n",
    "s = bool(s)\n",
    "print(s)\n",
    "s = '34'\n",
    "s = float(s)\n",
    "print(s)\n",
    "print(type(s))\n",
    "s = str(s)\n",
    "print(s)\n"
   ]
  },
  {
   "cell_type": "code",
   "execution_count": 8,
   "metadata": {},
   "outputs": [
    {
     "name": "stdout",
     "output_type": "stream",
     "text": [
      "False\n",
      "True\n",
      "True\n",
      "True\n",
      "True\n",
      "True\n"
     ]
    }
   ],
   "source": [
    "s = '  34  '\n",
    "print(s.isdigit())  # .isdigit() returns false but it can be type casted to int\n",
    "s = int(34)\n",
    "s = '  34  '\n",
    "s = s.strip()\n",
    "print(s.isdigit())\n",
    "\n",
    "s = '124'\n",
    "print(s.isalnum())\n",
    "s = '124avc'\n",
    "print(s.isalnum())\n",
    "s = 'abc'\n",
    "print(s.isalnum())\n",
    "s = '1245 5 '\n",
    "print(s[4].isspace())\n"
   ]
  },
  {
   "cell_type": "code",
   "execution_count": 1,
   "metadata": {},
   "outputs": [
    {
     "name": "stdout",
     "output_type": "stream",
     "text": [
      "True\n",
      "hellow\n",
      "False\n",
      "False\n"
     ]
    }
   ],
   "source": [
    "# special characters\n",
    "s = 'hello@'\n",
    "print(not s.isalpha() and ' ' not in s)\n",
    "\n",
    "s = 'h e l l o  w'\n",
    "s = s.replace(' ', '')\n",
    "print(s)\n",
    "print(not s.isalpha() and ' ' not in s)\n",
    "\n",
    "s = 'hello asfss'\n",
    "print(not s.isalpha() and ' ' not in s)\n",
    "\n",
    "\n",
    "s = 'hello12'\n",
    "# print( in s)\n",
    "\n",
    "# check there should be atleat one number\n"
   ]
  },
  {
   "cell_type": "markdown",
   "metadata": {},
   "source": [
    "**Conditons**\n"
   ]
  },
  {
   "cell_type": "code",
   "execution_count": 4,
   "metadata": {},
   "outputs": [
    {
     "name": "stdout",
     "output_type": "stream",
     "text": [
      "enter a number: 55\n",
      "enter a number: 60\n",
      "115\n"
     ]
    }
   ],
   "source": [
    "a = input(\"enter a number: \").strip()\n",
    "b = input(\"enter a number: \").strip()\n",
    "if a.isdigit() and b.isdigit():\n",
    "    print(int(a)+int(b))\n",
    "else:\n",
    "    print(\"Enter a number\")\n"
   ]
  },
  {
   "cell_type": "code",
   "execution_count": 5,
   "metadata": {},
   "outputs": [
    {
     "name": "stdout",
     "output_type": "stream",
     "text": [
      "bye\n"
     ]
    }
   ],
   "source": [
    "if 5 == 6:\n",
    "    print(\"hello\")\n",
    "else:\n",
    "    print(\"bye\")\n"
   ]
  },
  {
   "cell_type": "code",
   "execution_count": 6,
   "metadata": {},
   "outputs": [
    {
     "name": "stdout",
     "output_type": "stream",
     "text": [
      "enter age: 50\n",
      "Group D\n"
     ]
    }
   ],
   "source": [
    "age = int(input(\"enter age: \"))\n",
    "if age >= 18 and age <= 25:\n",
    "    print(\"Group A\")\n",
    "elif age >= 26 and age <= 30:\n",
    "    print(\"Group B\")\n",
    "elif age >= 3 and age <= 35:\n",
    "    print(\"Group C\")\n",
    "else:\n",
    "    print(\"Group D\")\n"
   ]
  },
  {
   "cell_type": "code",
   "execution_count": 12,
   "metadata": {},
   "outputs": [
    {
     "name": "stdout",
     "output_type": "stream",
     "text": [
      "enter a number: 5\n",
      "enter a number: 6\n",
      "Enter operator: /\n",
      "0.8333333333333334\n"
     ]
    }
   ],
   "source": [
    "val1 = int(input(\"enter a number: \"))\n",
    "val2 = int(input(\"enter a number: \"))\n",
    "\n",
    "op = input(\"Enter operator: \")\n",
    "\n",
    "if op == '+':\n",
    "    print(val1+val2)\n",
    "elif op == '-':\n",
    "    print(val1-val2)\n",
    "elif op == '/':\n",
    "    print(val1/val2)\n",
    "elif op == '//':\n",
    "    print(val1//val2)\n",
    "elif op == \"%\":\n",
    "    print(val1 % val2)\n",
    "elif op == \"*\":\n",
    "    print(val1*val2)\n",
    "elif op == \"**\":\n",
    "    print(val1**val2)\n",
    "else:\n",
    "    print(\"Enter a valid operator\")\n"
   ]
  },
  {
   "cell_type": "code",
   "execution_count": 3,
   "metadata": {},
   "outputs": [],
   "source": [
    "# user input: username\n",
    "\n",
    "#  output valid/invalid\n",
    "# atleast 1 no\n",
    "# 1 special char\n",
    "# alphabets with one uppercase alphabet\n",
    "# >=8\n"
   ]
  },
  {
   "cell_type": "code",
   "execution_count": 27,
   "metadata": {},
   "outputs": [
    {
     "name": "stdout",
     "output_type": "stream",
     "text": [
      "VALID\n"
     ]
    }
   ],
   "source": [
    "# h/w\n",
    "username = input('Enter username: ')\n",
    "f = 0\n",
    "if len(username) >= 8:\n",
    "    if '0' in username or '1' in username or '2' in username or '3' in username or '4' in username or '5' in username or '6' in username or '7' in username or '8' in username or '9' in username:\n",
    "        if not username.isalpha() and ' ' not in username:\n",
    "            if 'A' in username or 'B' in username or 'C' in username or \"D\" in username or \"E\" in username or 'F' in username or \"G\" in username or \"H\" in username or \"I\" in username or \"J\" in username or \"K\" in username or \"L\" in username or \"M\" in username or \"N\" in username or \"O\" in username or \"P\" in username or \"Q\" in username or \"R\" in username or \"S\" in username or \"T\" in username or \"U\" in username or 'V' in username or \"W\" in username or \"X\" in username or 'Y' in username or 'Z' in username:\n",
    "                f = 1\n",
    "                print(\"VALID\")\n",
    "\n",
    "if f == 0:\n",
    "    print(\"NOT VALID\")\n"
   ]
  },
  {
   "cell_type": "code",
   "execution_count": 32,
   "metadata": {},
   "outputs": [
    {
     "name": "stdout",
     "output_type": "stream",
     "text": [
      "VALID\n"
     ]
    }
   ],
   "source": [
    "username = input('Enter username: ')\n",
    "\n",
    "f1 = 0\n",
    "f2 = 0\n",
    "f3 = 0\n",
    "if len(username) >= 8:\n",
    "    for c in username:\n",
    "        if c.isdigit():\n",
    "            f1 = 1\n",
    "        elif c.isupper():\n",
    "            f2 = 1\n",
    "        elif not c.isalpha() and ' ' not in c:\n",
    "            f3 = 1\n",
    "\n",
    "    if f1 == 1 and f2 == 1 and f3 == 1:\n",
    "        print(\"VALID\")\n",
    "    else:\n",
    "        print(\"NOT VALID\")\n",
    "else:\n",
    "    print(\"NOT VALID\")\n"
   ]
  },
  {
   "cell_type": "markdown",
   "metadata": {},
   "source": [
    "# 22/08/22\n"
   ]
  },
  {
   "cell_type": "code",
   "execution_count": 1,
   "metadata": {},
   "outputs": [
    {
     "name": "stdout",
     "output_type": "stream",
     "text": [
      "Person is from INdia.\n",
      "Person can vote.\n"
     ]
    }
   ],
   "source": [
    "age = int(input(\"Enter age:\"))\n",
    "nation = input(\"Enter name:\")\n",
    "if (nation == \"india\" or nation == \"ind\" or nation == \"IND\"):\n",
    "    print(\"Person is from INdia.\")\n",
    "    if age >= 18:\n",
    "        print(\"Person can vote.\")\n",
    "    else:\n",
    "        print(\"Person can not vote\")\n",
    "else:\n",
    "    print(\"Person can not vote because it does not belong to India.\")\n"
   ]
  },
  {
   "cell_type": "markdown",
   "metadata": {},
   "source": [
    "**loop**\n"
   ]
  },
  {
   "cell_type": "code",
   "execution_count": 2,
   "metadata": {},
   "outputs": [
    {
     "name": "stdout",
     "output_type": "stream",
     "text": [
      "Hello\n",
      "Hello\n",
      "Hello\n",
      "Hello\n",
      "Hello\n",
      "1\n",
      "2\n",
      "3\n",
      "4\n",
      "5\n",
      "6\n",
      "7\n",
      "8\n",
      "9\n",
      "10\n",
      "100\n",
      "99\n",
      "98\n",
      "97\n",
      "96\n",
      "95\n",
      "94\n",
      "93\n",
      "92\n",
      "91\n",
      "90\n",
      "s\n",
      "d\n",
      "f\n",
      "g\n"
     ]
    }
   ],
   "source": [
    "# While loop\n",
    "a = 0\n",
    "while a < 5:\n",
    "    print(\"Hello\")\n",
    "    a += 1\n",
    "\n",
    "a = 1\n",
    "while a <= 10:\n",
    "    print(a)\n",
    "    a += 1\n",
    "\n",
    "a = 100\n",
    "while a >= 90:\n",
    "    print(a)\n",
    "    a -= 1\n",
    "\n",
    "s = input(\"Enter a string:\")\n",
    "a = 0\n",
    "l = len(s)-1\n",
    "while a <= l:\n",
    "    print(s[a])\n",
    "    a += 1\n"
   ]
  },
  {
   "cell_type": "code",
   "execution_count": 3,
   "metadata": {},
   "outputs": [
    {
     "name": "stdout",
     "output_type": "stream",
     "text": [
      "0\n",
      "1\n",
      "2\n",
      "3\n",
      "4\n"
     ]
    }
   ],
   "source": [
    "# break\n",
    "a = 0\n",
    "while a <= 10:\n",
    "    if a == 5:\n",
    "        break\n",
    "    print(a)\n",
    "    a += 1\n"
   ]
  },
  {
   "cell_type": "code",
   "execution_count": null,
   "metadata": {},
   "outputs": [],
   "source": [
    "# solution 3\n",
    "s = input(\"Enter Username:\")\n",
    "num = False\n",
    "spc = False\n",
    "u = False\n",
    "low = False\n",
    "a = 0\n",
    "e = len(s)-1\n",
    "while a <= e:\n",
    "    if s[a].isdigit():\n",
    "        num = True\n",
    "        break\n",
    "    elif s[a].isalpha():\n",
    "        if s[a].isupper():\n",
    "            u = True\n",
    "        else:\n",
    "            low = True\n",
    "    elif s[a].isspace():\n",
    "        pass\n",
    "    else:\n",
    "        spc = True\n",
    "    a += 1\n",
    "if num and spc and u and low and len(s) >= 8:\n",
    "    print(\" Valid Username\")\n",
    "else:\n",
    "    print(\"Invalid\")\n"
   ]
  },
  {
   "cell_type": "code",
   "execution_count": null,
   "metadata": {},
   "outputs": [],
   "source": [
    "# sollution 4\n",
    "dig = '0123456789'\n",
    "spc = '@#$%^&*()|'\n",
    "username = 'abc123'\n",
    "a = 0\n",
    "b = len(username)-1\n",
    "num = False\n",
    "sp = False\n",
    "while a <= b:\n",
    "    if username[a] in dig:\n",
    "        num = True\n",
    "    elif username[a] in spc:\n",
    "        sp = True\n",
    "    a += 1\n",
    "print(num)\n",
    "print(sp)\n"
   ]
  },
  {
   "cell_type": "code",
   "execution_count": null,
   "metadata": {},
   "outputs": [],
   "source": [
    "s = input(\"Enter a string:\")\n",
    "vowel = 'aeiou'\n",
    "cons = 'bcdfghjklmnpqrstvwxyz'\n",
    "vowel += vowel.upper()\n",
    "cons += cons.upper()\n",
    "v = 0\n",
    "c = 0\n",
    "num = 0\n",
    "space = 0\n",
    "spc = 0\n",
    "\n",
    "a = 0\n",
    "b = len(s)-1\n",
    "while a <= b:\n",
    "    if s[a].isdigit():\n",
    "        num += 1\n",
    "    elif s[a].isspace():\n",
    "        space += 1\n",
    "    elif s[a] in vowel:\n",
    "        v += 1\n",
    "    elif s[a] in cons:\n",
    "        c += 1\n",
    "    else:\n",
    "        spc += 1\n",
    "    a += 1\n",
    "# print(v)\n",
    "# print(c)\n",
    "print(\n",
    "    f'total vowels:{v} | total consonants: {c} | total numbers:{num}| total spaces:{space} | total specials={spc}')\n"
   ]
  },
  {
   "cell_type": "code",
   "execution_count": null,
   "metadata": {},
   "outputs": [],
   "source": [
    "# continue\n",
    "a = 0\n",
    "while a <= 10:\n",
    "    a += 1\n",
    "    if a == 5:\n",
    "        break\n",
    "    if a == 2:\n",
    "        continue\n",
    "    print(a)\n"
   ]
  },
  {
   "cell_type": "code",
   "execution_count": null,
   "metadata": {},
   "outputs": [],
   "source": [
    "a = 0\n",
    "while a <= 1:\n",
    "    b = 0\n",
    "    while b <= 1:\n",
    "        print(a, b)\n",
    "        b += 1\n",
    "    a += 1\n",
    "\n",
    "a = 0\n",
    "b = 0\n",
    "while a <= 1:\n",
    "    while b <= 1:\n",
    "        print(a, b)\n",
    "        b += 1\n",
    "    a += 1\n"
   ]
  },
  {
   "cell_type": "code",
   "execution_count": null,
   "metadata": {},
   "outputs": [],
   "source": [
    "a = 0\n",
    "while a <= 1:\n",
    "    b = 0\n",
    "    while b <= 1:\n",
    "        c = 0\n",
    "        while c <= 1:\n",
    "            print(a, b, c)\n",
    "            c += 1\n",
    "        b += 1\n",
    "    a += 1\n"
   ]
  },
  {
   "cell_type": "markdown",
   "metadata": {},
   "source": [
    "# H/w\n"
   ]
  },
  {
   "cell_type": "code",
   "execution_count": 5,
   "metadata": {},
   "outputs": [
    {
     "name": "stdout",
     "output_type": "stream",
     "text": [
      "71\n",
      "-61\n"
     ]
    }
   ],
   "source": [
    "# calculator\n",
    "val1 = int(input(\"Enter a number: \"))\n",
    "val2 = int(input(\"Enter a number: \"))\n",
    "\n",
    "op = input(\"enter an operator: \")\n",
    "\n",
    "a = 1\n",
    "while a == 1:\n",
    "    if op == '+':\n",
    "        print(val1+val2)\n",
    "    elif op == '-':\n",
    "        print(val1-val2)\n",
    "    elif op == '/':\n",
    "        print(val1/val2)\n",
    "    elif op == '//':\n",
    "        print(val1//val2)\n",
    "    elif op == \"%\":\n",
    "        print(val1 % val2)\n",
    "    elif op == \"*\":\n",
    "        print(val1*val2)\n",
    "    elif op == \"**\":\n",
    "        print(val1**val2)\n",
    "    else:\n",
    "        print(\"Enter a valid operator\")\n",
    "\n",
    "    # a = int(input(\"Enter 0 to exit and 1 to continue: \"))\n",
    "    # if a == 1:\n",
    "    #     op = input(\"enter an operator: \")\n",
    "    while True:\n",
    "        if a == 0:\n",
    "            break\n",
    "        else:\n",
    "            a = int(input(\"Enter 0 to exit and 1 to continue: \"))\n",
    "            if a == 1:\n",
    "                op = input(\"enter an operator: \")\n",
    "            elif a == 0:\n",
    "                break\n",
    "            else:\n",
    "                continue\n"
   ]
  },
  {
   "cell_type": "code",
   "execution_count": 10,
   "metadata": {},
   "outputs": [
    {
     "name": "stdout",
     "output_type": "stream",
     "text": [
      "0 0 0\n",
      "0 0 1\n",
      "0 0 2\n",
      "0 0 3\n",
      "0 1 0\n",
      "0 1 1\n",
      "0 1 2\n",
      "0 1 3\n",
      "0 2 0\n",
      "0 2 1\n",
      "0 2 2\n",
      "0 2 3\n",
      "1 0 0\n",
      "1 0 1\n",
      "1 0 2\n",
      "1 0 3\n",
      "1 1 0\n",
      "1 1 1\n",
      "1 1 2\n",
      "1 1 3\n",
      "1 2 0\n",
      "1 2 1\n",
      "1 2 2\n",
      "1 2 3\n"
     ]
    }
   ],
   "source": [
    "# combination\n",
    "a = int(input('Enter a number: '))\n",
    "b = int(input('Enter a number: '))\n",
    "c = int(input('Enter a number: '))\n",
    "s = \"\"\n",
    "p = 0\n",
    "while p <= a:\n",
    "    q = 0\n",
    "    while q <= b:\n",
    "        r = 0\n",
    "        while r <= c:\n",
    "            print(p, q, r)\n",
    "            r += 1\n",
    "        q += 1\n",
    "    p += 1\n"
   ]
  },
  {
   "cell_type": "code",
   "execution_count": 17,
   "metadata": {},
   "outputs": [
    {
     "name": "stdout",
     "output_type": "stream",
     "text": [
      "1 2 3\n",
      "1 3 2\n",
      "2 1 3\n",
      "2 3 1\n",
      "3 1 2\n",
      "3 2 1\n"
     ]
    }
   ],
   "source": [
    "# combination\n",
    "# while loop\n",
    "p = input('Enter a number: ')\n",
    "q = input('Enter a number: ')\n",
    "r = input('Enter a number: ')\n",
    "s = p+q+r\n",
    "# print(s)\n",
    "a = 0\n",
    "while a < 3:\n",
    "    b = 0\n",
    "    while b < 3:\n",
    "        c = 0\n",
    "        while c < 3:\n",
    "            if a == b or b == c or c == a:\n",
    "                pass\n",
    "            else:\n",
    "                print(s[a], s[b], s[c])\n",
    "            c += 1\n",
    "        b += 1\n",
    "    a += 1\n"
   ]
  },
  {
   "cell_type": "markdown",
   "metadata": {},
   "source": [
    "# 23/08/22\n"
   ]
  },
  {
   "cell_type": "markdown",
   "metadata": {},
   "source": [
    "**List**\n",
    "\n",
    "1. list is mutable\n",
    "2. list can be used to store multiple data types\n",
    "3. list is ordered\n",
    "4. list is indexed\n",
    "5. list is iterable\n"
   ]
  },
  {
   "cell_type": "code",
   "execution_count": 38,
   "metadata": {},
   "outputs": [
    {
     "name": "stdout",
     "output_type": "stream",
     "text": [
      "[12, 34, 56, 78, 90]\n",
      "12\n",
      "5\n",
      "90\n",
      "270\n",
      "12\n",
      "90\n",
      "[50, 34, 56, 78, 90]\n",
      "[60, 34, 56, 78, 90]\n",
      "[60, 34, 56, 78, 90, 100]\n",
      "[60, 10, 34, 56, 78, 90, 100]\n",
      "[60, 10, 34, 56, 78, 90, 100, [5, 3, 2, 1, 4]]\n",
      "5\n",
      "Extended list\n",
      "[60, 10, 34, 56, 78, 90, 100, [5, 3, 2, 1, 4], 5, 3, 2, 1, 4]\n",
      "[['abc', 56], ['xyz', 78], ['pqr', 90]]\n",
      "abc\n",
      "78\n",
      "b\n"
     ]
    }
   ],
   "source": [
    "# list comprehension\n",
    "l = [12, 34, 56, 78, 90]\n",
    "print(l)\n",
    "print(l[0])  # indexing\n",
    "print(len(l))  # length of list\n",
    "print(l[len(l)-1])  # last element\n",
    "print(sum(l))  # sum of all elements in list\n",
    "print(min(l))  # minimum value in list\n",
    "print(max(l))  # maximum value in list\n",
    "l[0] = 50  # indexing\n",
    "print(l)\n",
    "l[0] += 10\n",
    "print(l)\n",
    "l.append(100)  # add element to the end of the list\n",
    "print(l)  # print the list\n",
    "l.insert(1, 10)  # insert element at index 1 (index:value)\n",
    "print(l)\n",
    "l2 = [5, 3, 2, 1, 4]\n",
    "l.append(l2)  # append list to the list\n",
    "print(l)\n",
    "print(l[-1][0])  # print the first element of the last list in the list\n",
    "print(\"Extended list\")\n",
    "l.extend(l2)  # extend the list with another list\n",
    "print(l)\n",
    "# nested list\n",
    "\n",
    "lst = [['abc', 56], ['xyz', 78], ['pqr', 90]]\n",
    "print(lst)\n",
    "print(lst[0][0])  # first element of first list\n",
    "print(lst[1][1])  # second element of second list\n",
    "print(lst[0][0][1])\n"
   ]
  },
  {
   "cell_type": "code",
   "execution_count": 39,
   "metadata": {},
   "outputs": [
    {
     "name": "stdout",
     "output_type": "stream",
     "text": [
      "[60, 34, 56, 78, 90, 100, [5, 3, 2, 1, 4], 5, 3, 2, 1, 4]\n",
      "[60, 34, 56, 78, 90, 100, [5, 3, 2, 1, 4], 5, 3, 2, 1]\n"
     ]
    },
    {
     "data": {
      "text/plain": [
       "60"
      ]
     },
     "execution_count": 39,
     "metadata": {},
     "output_type": "execute_result"
    }
   ],
   "source": [
    "# Remove element from list\n",
    "# remove element from the list (if element is present) (first occurrence)\n",
    "l.remove(10)\n",
    "print(l)\n",
    "l.pop()  # remove last element from the list\n",
    "print(l)\n",
    "l.pop(0)  # remove element at index 0 from the list\n",
    "print(l)\n"
   ]
  },
  {
   "cell_type": "code",
   "execution_count": 36,
   "metadata": {},
   "outputs": [
    {
     "name": "stdout",
     "output_type": "stream",
     "text": [
      "[60, 34, 56, 78, 90, 100, [5, 3, 2, 1, 4], 5, 3, 2, 1]\n",
      "[60, 34, 56]\n",
      "[60, 34, 56]\n",
      "[78, 90, 100, [5, 3, 2, 1, 4], 5, 3, 2, 1]\n",
      "1\n",
      "[1, 2, 3, 5, [5, 3, 2, 1, 4], 100, 90, 78, 56, 34, 60]\n",
      "[100, [5, 3, 2, 1, 4]]\n",
      "[56, 90, [5, 3, 2, 1, 4]]\n"
     ]
    }
   ],
   "source": [
    "# list comprehension\n",
    "print(l)\n",
    "print(l[0:3])  # slicing: start index and end index\n",
    "print(l[:3])  # slicing: start index and end index\n",
    "print(l[3:])  # slicing: start index and end index\n",
    "print(l[-1])  # last element\n",
    "print(l[::-1])  # reverse the list\n",
    "print(l[5:7])\n",
    "print(l[2:7:2])  # start index, end index, step size\n"
   ]
  },
  {
   "cell_type": "code",
   "execution_count": 41,
   "metadata": {},
   "outputs": [
    {
     "name": "stdout",
     "output_type": "stream",
     "text": [
      "[1, 2, 3, 4, 5, 6, 7, 8, 9, 10]\n",
      "[10, 9, 8, 7, 6, 5, 4, 3, 2, 1]\n"
     ]
    }
   ],
   "source": [
    "lst = [5, 9, 3, 2, 1, 4, 6, 7, 8, 10]\n",
    "lst.sort()  # sort the list in ascending order (default) or descending order (reverse=True)\n",
    "print(lst)\n",
    "lst.sort(reverse=True)  # sort the list in descending order\n",
    "print(lst)\n",
    "lst.reverse()  # reverse the list\n"
   ]
  },
  {
   "cell_type": "code",
   "execution_count": 45,
   "metadata": {},
   "outputs": [
    {
     "name": "stdout",
     "output_type": "stream",
     "text": [
      "2\n",
      "5\n"
     ]
    }
   ],
   "source": [
    "# Get the index of an element in the list\n",
    "lst = [1, 3, 5, 3, 2, 5, 2, 7, 8]\n",
    "print(lst.index(5))  # get the index of 5 in the list\n",
    "print(lst.index(5, 3))  # get the index of 5 in the list starting from index 2\n",
    "# get the index of 5 in the list starting from index 2 and ending at index 6\n",
    "print(lst.index(5, 3, 6))\n"
   ]
  },
  {
   "cell_type": "code",
   "execution_count": 51,
   "metadata": {},
   "outputs": [
    {
     "name": "stdout",
     "output_type": "stream",
     "text": [
      "['Hello', 'how', 'are', 'you']\n",
      "['Hello', ' how', ' are', ' you']\n",
      "['1', '2', '3', '4', '5']\n",
      "[]\n",
      "[]\n",
      "[]\n"
     ]
    }
   ],
   "source": [
    "# split a string into a list\n",
    "s = \"Hello how are you\"\n",
    "lst = s.split()  # split the string into list of words\n",
    "print(lst)\n",
    "s = 'Hello, how, are, you'\n",
    "lst = s.split(',')  # split the string into list of words\n",
    "print(lst)\n",
    "lst = input(\"Enter numbers: \").split()\n",
    "print(lst)\n",
    "# lst=[ ]\n",
    "# print(lst)\n",
    "# store int input in a list\n",
    "lst2 = []\n",
    "a = 0\n",
    "e = len(lst)-1\n",
    "while a <= e:\n",
    "    val = int(lst[a])\n",
    "    lst2.append(val)\n",
    "    a += 1\n",
    "print(lst2)\n",
    "\n",
    "# or\n",
    "\n",
    "lst = [int(x) for x in input(\"Enter numbers: \").split()]\n",
    "print(lst)\n"
   ]
  },
  {
   "cell_type": "code",
   "execution_count": null,
   "metadata": {},
   "outputs": [],
   "source": [
    "# store int input in a list\n",
    "lst2 = []\n",
    "a = 0\n",
    "e = len(lst)-1\n",
    "while a <= e:\n",
    "    val = int(lst[a])\n",
    "    lst2.append(val)\n",
    "    a += 1\n",
    "print(lst2)\n",
    "\n",
    "# or\n",
    "a = 0\n",
    "e = len(lst)-1\n",
    "while a <= e:\n",
    "    lst[a] = int(lst[a])\n",
    "    a += 1\n",
    "print(lst)\n",
    "\n",
    "# OR\n",
    "\n",
    "lst = [int(x) for x in input(\"Enter numbers: \").split()]\n",
    "print(lst)\n"
   ]
  },
  {
   "cell_type": "code",
   "execution_count": 55,
   "metadata": {},
   "outputs": [
    {
     "name": "stdout",
     "output_type": "stream",
     "text": [
      "1\n"
     ]
    }
   ],
   "source": [
    "lst = [1, 2, 3, 4, 5, 6, 7, 8, 9, 10]\n",
    "print(lst.count(1))  # count the number of times 2 is present in the list\n"
   ]
  },
  {
   "cell_type": "markdown",
   "metadata": {},
   "source": [
    "# H/w\n"
   ]
  },
  {
   "cell_type": "code",
   "execution_count": 1,
   "metadata": {},
   "outputs": [
    {
     "name": "stdout",
     "output_type": "stream",
     "text": [
      "3\n"
     ]
    }
   ],
   "source": [
    "# count a substring in supper string\n",
    "\n",
    "# count the number of times substring is present in the string\n",
    "st = input(\"Enter a string: \")\n",
    "substr = input(\"Enter a substring: \")\n",
    "print(st.count(substr))\n"
   ]
  },
  {
   "cell_type": "code",
   "execution_count": 34,
   "metadata": {},
   "outputs": [
    {
     "name": "stdout",
     "output_type": "stream",
     "text": [
      "second highest number in the list is:  55\n"
     ]
    }
   ],
   "source": [
    "# print the 2nd highest number in the list in\n",
    "\n",
    "lst = [int(x) for x in input(\"Enter a number: \").split()]\n",
    "cp = lst.copy()\n",
    "m = max(cp)\n",
    "for i in cp:\n",
    "    if m not in cp:\n",
    "        break\n",
    "    cp.remove(m)\n",
    "\n",
    "m = max(cp)\n",
    "print(\"second highest number in the list is: \", m)\n"
   ]
  },
  {
   "cell_type": "markdown",
   "metadata": {},
   "source": [
    "# 24/08/22\n"
   ]
  },
  {
   "cell_type": "code",
   "execution_count": 5,
   "metadata": {},
   "outputs": [
    {
     "name": "stdout",
     "output_type": "stream",
     "text": [
      "1\n",
      "3\n",
      "5\n",
      "2\n",
      "4\n",
      "4\n",
      "6\n"
     ]
    }
   ],
   "source": [
    "# print a list\n",
    "lst = [1, 3, 5, 2, 4, 4, 6]\n",
    "\n",
    "# a=0; l=len(lst)-1\n",
    "# while a<=l:\n",
    "#     print(lst[a])\n",
    "#     a+=1\n",
    "\n",
    "for i in lst:\n",
    "    print(i)\n"
   ]
  },
  {
   "cell_type": "markdown",
   "metadata": {},
   "source": [
    "1. for loop is used to iterate over a list\n",
    "2. for loop is where number of iterations is known\n"
   ]
  },
  {
   "cell_type": "code",
   "execution_count": 11,
   "metadata": {},
   "outputs": [
    {
     "name": "stdout",
     "output_type": "stream",
     "text": [
      "10\n",
      "11\n",
      "12\n",
      "13\n",
      "14\n",
      "15\n",
      "16\n",
      "17\n",
      "18\n",
      "19\n",
      "20\n",
      "**********\n",
      "10\n",
      "12\n",
      "14\n",
      "16\n",
      "18\n",
      "20\n"
     ]
    }
   ],
   "source": [
    "# for i in range(10):\n",
    "# print(i)\n",
    "\n",
    "# print(range(10))\n",
    "for i in range(10, 21):\n",
    "    print(i)\n",
    "\n",
    "print(\"*\"*10)\n",
    "for i in range(10, 21, 2):\n",
    "    print(i)\n"
   ]
  },
  {
   "cell_type": "code",
   "execution_count": 12,
   "metadata": {},
   "outputs": [
    {
     "name": "stdout",
     "output_type": "stream",
     "text": [
      "100\n",
      "99\n",
      "98\n",
      "97\n",
      "96\n",
      "95\n",
      "94\n",
      "93\n",
      "92\n",
      "91\n",
      "90\n"
     ]
    }
   ],
   "source": [
    "for i in range(100, 89, -1):\n",
    "    print(i)\n"
   ]
  },
  {
   "cell_type": "code",
   "execution_count": 26,
   "metadata": {},
   "outputs": [
    {
     "name": "stdout",
     "output_type": "stream",
     "text": [
      "['abc', 'b', 'c']\n",
      "[45, 56, 560]\n",
      "[['abc', 45], ['b', 56], ['c', 560]]\n"
     ]
    }
   ],
   "source": [
    "name = [['abc', 45], ['b', 56], ['c', 560]]\n",
    "names = []\n",
    "marks = []\n",
    "for i in name:\n",
    "    names.append(i[0])\n",
    "    marks.append(i[1])\n",
    "\n",
    "print(names)\n",
    "print(marks)\n",
    "\n",
    "n = []\n",
    "for i in range(len(names)):\n",
    "    n.append([names[i], marks[i]])\n",
    "\n",
    "print(n)\n"
   ]
  },
  {
   "cell_type": "code",
   "execution_count": 32,
   "metadata": {},
   "outputs": [
    {
     "name": "stdout",
     "output_type": "stream",
     "text": [
      "[35, 46, 67, 67]\n",
      "67\n",
      "d\n",
      "e\n"
     ]
    }
   ],
   "source": [
    "name = ['a', 'b', 'c', 'd', 'e']\n",
    "marks = [35, 46, 78, 67, 67]\n",
    "# mk = marks.copy()  # make a copy of list\n",
    "# mk.sort()  # sort the 2nd list\n",
    "# mrk = mk[-2]  # store the 2nd highest marks\n",
    "# for i in range(len(marks)):\n",
    "#     if marks[i] == mrk:\n",
    "#       print(name[i])  # print the names using pos\n",
    "\n",
    "\n",
    "# OR\n",
    "\n",
    "mar = marks.copy()\n",
    "m = max(marks)\n",
    "\n",
    "while True:\n",
    "    if m in mar:\n",
    "        mar.remove(m)\n",
    "    else:\n",
    "        break\n",
    "\n",
    "print(mar)\n",
    "second = max(mar)\n",
    "print(second)\n",
    "\n",
    "for i in range(len(marks)):\n",
    "    if marks[i] == second:\n",
    "        print(name[i])\n"
   ]
  },
  {
   "cell_type": "markdown",
   "metadata": {},
   "source": [
    "**H/w**\n"
   ]
  },
  {
   "cell_type": "code",
   "execution_count": 28,
   "metadata": {},
   "outputs": [
    {
     "name": "stdout",
     "output_type": "stream",
     "text": [
      "Pattern 1\n",
      "* \n",
      "* * \n",
      "* * * \n",
      "* * * * \n",
      "* * * * * \n",
      "\n",
      "################# Pattern 2 #####################\n",
      "\n",
      "* * * * * \n",
      "* * * * \n",
      "* * * \n",
      "* * \n",
      "* \n",
      "\n"
     ]
    }
   ],
   "source": [
    "'''if input 5 then \n",
    "*\n",
    "**\n",
    "***\n",
    "****\n",
    "*****\n",
    "\n",
    "its reverse\n",
    "*****\n",
    "****\n",
    "***\n",
    "**\n",
    "*\n",
    "\n",
    "'''\n",
    "n = int(input(\"Enter a number: \"))\n",
    "print(\"Pattern 1\")\n",
    "for i in range(1, n+1):\n",
    "    print(\"* \"*i)\n",
    "print()\n",
    "print(\"################# Pattern 2 #####################\")\n",
    "print()\n",
    "for i in range(n, 0, -1):\n",
    "    print(\"* \"*i)\n",
    "print()\n"
   ]
  },
  {
   "cell_type": "code",
   "execution_count": 31,
   "metadata": {},
   "outputs": [
    {
     "name": "stdout",
     "output_type": "stream",
     "text": [
      "*                 * \n",
      "* *             * * \n",
      "* * *         * * * \n",
      "* * * *     * * * * \n",
      "* * * * * * * * * * \n"
     ]
    }
   ],
   "source": [
    "''' \n",
    "combination\n",
    "*        *\n",
    "**      **\n",
    "***    ***\n",
    "****  ****\n",
    "**********\n",
    "'''\n",
    "\n",
    "\n",
    "for i in range(1, n+1):\n",
    "    print(\"* \"*i, end=\"\")\n",
    "    for j in range(1, (n-i)*2+1):\n",
    "        print(\"  \", end=\"\")\n",
    "    print('* '*i)\n"
   ]
  },
  {
   "cell_type": "code",
   "execution_count": 21,
   "metadata": {},
   "outputs": [
    {
     "name": "stdout",
     "output_type": "stream",
     "text": [
      "      * \n",
      "     * * \n",
      "    * * * \n",
      "   * * * * \n",
      "  * * * * * \n",
      " * * * * * * \n"
     ]
    }
   ],
   "source": [
    "'''\n",
    "full triangle\n",
    "     *\n",
    "    * *\n",
    "   * * *\n",
    "  * * * *\n",
    " * * * * *  \n",
    "\n",
    "'''\n",
    "n = int(input(\"Enter  a number: \"))\n",
    "for i in range(n, 0, -1):\n",
    "    print(\" \"*i, end=\"\")\n",
    "    print('* '*(n-i+1))\n"
   ]
  },
  {
   "cell_type": "markdown",
   "metadata": {},
   "source": [
    "1. in a runtime list separate even and odd numbers in two lists\n",
    "2. in a list [1,2,1,2,1,3] value =[1,2,3] count=[3,2,1]\n"
   ]
  },
  {
   "cell_type": "code",
   "execution_count": 25,
   "metadata": {},
   "outputs": [
    {
     "name": "stdout",
     "output_type": "stream",
     "text": [
      "You entered:  [54, 8, 7, 2, 4, 3, 1, 8, 31, 8]\n",
      "odd list is:  [7, 3, 1, 31]\n",
      "Even list is:  [54, 8, 2, 4, 8, 8]\n"
     ]
    }
   ],
   "source": [
    "#  separate odd/even\n",
    "\n",
    "lst = [int(x) for x in input(\"Enter numbers: \").split()]\n",
    "print(\"You entered: \", lst)\n",
    "\n",
    "odd = []\n",
    "even = []\n",
    "for i in range(len(lst)):\n",
    "    if lst[i] % 2 == 0:\n",
    "        even.append(lst[i])\n",
    "    else:\n",
    "        odd.append(lst[i])\n",
    "\n",
    "print(\"odd list is: \", odd)\n",
    "print(\"Even list is: \", even)\n"
   ]
  },
  {
   "cell_type": "code",
   "execution_count": 33,
   "metadata": {},
   "outputs": [
    {
     "name": "stdout",
     "output_type": "stream",
     "text": [
      "Entered numbers:  [1, 2, 1, 21, 21, 21, 21, 21, 1, 1, 2, 2, 2, 1, 1, 3]\n",
      "values are:  [1, 2, 21, 3]\n",
      "count is:  [6, 4, 5, 1]\n"
     ]
    }
   ],
   "source": [
    "#  value and count\n",
    "\n",
    "lst = [int(x) for x in input(\"Enter numbers: \").split()]\n",
    "\n",
    "print(\"Entered numbers: \", lst)\n",
    "value = []\n",
    "count = []\n",
    "\n",
    "for i in lst:\n",
    "    if i not in value:\n",
    "        value.append(i)\n",
    "        count.append(lst.count(i))\n",
    "\n",
    "print(\"values are: \", value)\n",
    "print(\"count is: \", count)\n"
   ]
  },
  {
   "cell_type": "markdown",
   "metadata": {},
   "source": [
    "# 25/08/22\n"
   ]
  },
  {
   "cell_type": "markdown",
   "metadata": {},
   "source": [
    "**Tuples**\n",
    "\n",
    "i) ordered ii) imuatable iii) allow duplicate data\n"
   ]
  },
  {
   "cell_type": "code",
   "execution_count": 2,
   "metadata": {},
   "outputs": [
    {
     "name": "stdout",
     "output_type": "stream",
     "text": [
      "5\n",
      "5\n",
      "2\n",
      "2\n",
      "6\n",
      "17\n",
      "1\n",
      "5\n"
     ]
    }
   ],
   "source": [
    "# Tuple\n",
    "\n",
    "\n",
    "a = (1, 2, 4, 1, 4, 5)\n",
    "\n",
    "print(a[-1])\n",
    "\n",
    "print(a[-1])\n",
    "\n",
    "print(a.index(4))\n",
    "\n",
    "print(a.count(1))\n",
    "\n",
    "print(len(a))\n",
    "\n",
    "print(sum(a))\n",
    "\n",
    "print(min(a))\n",
    "\n",
    "print(max(a))\n"
   ]
  },
  {
   "cell_type": "code",
   "execution_count": 3,
   "metadata": {},
   "outputs": [
    {
     "name": "stdout",
     "output_type": "stream",
     "text": [
      "(1, 6, 1)\n"
     ]
    }
   ],
   "source": [
    "# TUPLE is imutable but we can change it by converting it into LIST.\n",
    "a = (1, 4, 1)\n",
    "a = list(a)\n",
    "a[1] += 2\n",
    "a = tuple(a)\n",
    "print(a)\n"
   ]
  },
  {
   "cell_type": "code",
   "execution_count": 4,
   "metadata": {},
   "outputs": [
    {
     "name": "stdout",
     "output_type": "stream",
     "text": [
      "1\n",
      "2\n",
      "3\n",
      "(1, 2, 3)\n",
      "<class 'tuple'>\n"
     ]
    }
   ],
   "source": [
    "# the numnber of variables should be equal to number of values. otherwise it gives errror\n",
    "a, b, c = (1, 2, 3)\n",
    "print(a)\n",
    "print(b)\n",
    "print(c)\n",
    "\n",
    "a = 1, 2, 3            # it gives tuple\n",
    "print(a)\n",
    "print(type(a))\n"
   ]
  },
  {
   "cell_type": "code",
   "execution_count": 5,
   "metadata": {},
   "outputs": [
    {
     "name": "stdout",
     "output_type": "stream",
     "text": [
      "('a', 'b', 'd')\n",
      "(5, 6, 6)\n"
     ]
    }
   ],
   "source": [
    "# tuple\n",
    "\n",
    "tup = ((\"a\", 5), (\"b\", 6), (\"d\", 6))\n",
    "\n",
    "name = []\n",
    "marks = []\n",
    "\n",
    "for i in tup:\n",
    "    name.append(i[0])\n",
    "    marks.append(i[1])\n",
    "\n",
    "print(tuple(name))\n",
    "print(tuple(marks))\n"
   ]
  },
  {
   "cell_type": "code",
   "execution_count": null,
   "metadata": {},
   "outputs": [],
   "source": [
    "# practice question: Enter the name and marks as tuples inside the list\n",
    "\n",
    "inp = int(input(\"Enter the number:\"))\n",
    "lst = []\n",
    "for i in range(inp):\n",
    "    name = input(\"Enter name:\")\n",
    "    marks = int(input(\"Enter marks\"))\n",
    "    lst.append((name, marks))\n",
    "print(lst)\n"
   ]
  },
  {
   "cell_type": "code",
   "execution_count": null,
   "metadata": {},
   "outputs": [],
   "source": [
    "# practice question\n",
    "lst = ['1234567890']\n",
    "lst2 = []\n",
    "lst2.extend(lst[0])\n",
    "print(lst2)\n"
   ]
  },
  {
   "cell_type": "code",
   "execution_count": 7,
   "metadata": {},
   "outputs": [
    {
     "name": "stdout",
     "output_type": "stream",
     "text": [
      "[['12', '22']]\n",
      "[['12', '22'], ['12', '55']]\n",
      "12\n",
      "22\n",
      "12\n",
      "55\n"
     ]
    }
   ],
   "source": [
    "# practice question\n",
    "inp = int(input(\"Enter the number:\"))\n",
    "lst = []\n",
    "for i in range(inp):\n",
    "    a = input().split()\n",
    "    lst.append(a)\n",
    "    print(lst)\n",
    "for i in range(len(lst)):\n",
    "    for j in range(len(lst[i])):\n",
    "        print(lst[i][j])\n"
   ]
  },
  {
   "cell_type": "code",
   "execution_count": 6,
   "metadata": {},
   "outputs": [
    {
     "name": "stdout",
     "output_type": "stream",
     "text": [
      "<class 'list'>\n",
      "<class 'tuple'>\n",
      "<class 'set'>\n"
     ]
    }
   ],
   "source": [
    "\n",
    "lst = list()\n",
    "t = tuple()\n",
    "s = set()\n",
    "print(type(lst))\n",
    "print(type(t))\n",
    "print(type(s))\n"
   ]
  },
  {
   "cell_type": "markdown",
   "metadata": {},
   "source": [
    "**SETS**\n"
   ]
  },
  {
   "cell_type": "code",
   "execution_count": 8,
   "metadata": {},
   "outputs": [
    {
     "name": "stdout",
     "output_type": "stream",
     "text": [
      "{0, 1, 2, 3, 4, 5, 8, 9}\n"
     ]
    }
   ],
   "source": [
    "\n",
    "# SET is unordered    so there is no indexing in set.\n",
    "# Insert values by add() method\n",
    "s = {1, 2, 3, 4, 5}\n",
    "s.add(9)\n",
    "s.add(8)\n",
    "s.add(0)\n",
    "print(s)\n"
   ]
  },
  {
   "cell_type": "code",
   "execution_count": 9,
   "metadata": {},
   "outputs": [
    {
     "name": "stdout",
     "output_type": "stream",
     "text": [
      "{1, 2, 3, 4, 5, 6, 7, 9, 10}\n"
     ]
    }
   ],
   "source": [
    "\n",
    "# merge two sets by union method.\n",
    "\n",
    "# NOTE :union method is giving the value but not applying changes in original set\n",
    "\n",
    "s = {2, 1, 3, 1, 4, 5}\n",
    "s1 = {4, 6, 7, 9, 10}\n",
    "print(s.union(s1))\n"
   ]
  },
  {
   "cell_type": "code",
   "execution_count": 10,
   "metadata": {},
   "outputs": [
    {
     "name": "stdout",
     "output_type": "stream",
     "text": [
      "{1, 2, 3, 4, 5}\n"
     ]
    }
   ],
   "source": [
    "\n",
    "# update method\n",
    "\n",
    "# NOTE : update is change applying method . it applies changes on original set and does not return any value.\n",
    "\n",
    "s = {2, 1, 3, 1, 4, 5}\n",
    "s1 = {4, 6, 7, 9, 10}\n",
    "s.update()  # it will update the set with the given set\n",
    "print(s)\n"
   ]
  },
  {
   "cell_type": "code",
   "execution_count": 11,
   "metadata": {},
   "outputs": [
    {
     "name": "stdout",
     "output_type": "stream",
     "text": [
      "{1, 2, 3, 5}\n"
     ]
    }
   ],
   "source": [
    "# difference method\n",
    "s = {2, 1, 3, 1, 4, 5}\n",
    "s1 = {4, 6, 7, 9, 10}\n",
    "print(s.difference(s1))  # it gives the values which are not in s1\n"
   ]
  },
  {
   "cell_type": "code",
   "execution_count": null,
   "metadata": {},
   "outputs": [],
   "source": [
    "\n",
    "# to apply changes on original set\n",
    "s = {2, 1, 3, 1, 4, 5}\n",
    "s1 = {4, 6, 7, 9, 10}\n",
    "s.difference_update(s1)  # it will update the set with the given set\n",
    "print(s)\n"
   ]
  },
  {
   "cell_type": "code",
   "execution_count": 13,
   "metadata": {},
   "outputs": [
    {
     "name": "stdout",
     "output_type": "stream",
     "text": [
      "{4}\n",
      "{4}\n"
     ]
    }
   ],
   "source": [
    "\n",
    "# INTERSECTION METHOD\n",
    "\n",
    "s = {2, 1, 3, 1, 4, 5}\n",
    "s1 = {4, 6, 7, 9, 10}\n",
    "print(s.intersection(s1))\n",
    "\n",
    "s = {2, 1, 3, 1, 4, 5}\n",
    "s1 = {4, 6, 7, 9, 10}\n",
    "s.intersection_update(s1)\n",
    "print(s)\n"
   ]
  },
  {
   "cell_type": "code",
   "execution_count": 12,
   "metadata": {},
   "outputs": [
    {
     "name": "stdout",
     "output_type": "stream",
     "text": [
      "5\n",
      "15\n",
      "5\n",
      "1\n"
     ]
    }
   ],
   "source": [
    "s = {2, 1, 3, 1, 4, 5}\n",
    "print(len(s))\n",
    "print(sum(s))\n",
    "print(max(s))\n",
    "print(min(s))\n"
   ]
  },
  {
   "cell_type": "code",
   "execution_count": null,
   "metadata": {},
   "outputs": [],
   "source": [
    "# To delete items in set use remove() method\n",
    "s = {2, 1, 3, 1, 4, 5}\n",
    "s.remove(5)\n",
    "print(s)\n"
   ]
  },
  {
   "cell_type": "code",
   "execution_count": null,
   "metadata": {},
   "outputs": [],
   "source": [
    "# to delete all the values inside set use clear() method\n",
    "s = {2, 1, 3, 1, 4, 5}\n",
    "s.clear()\n",
    "print(s)\n"
   ]
  },
  {
   "cell_type": "code",
   "execution_count": 14,
   "metadata": {},
   "outputs": [
    {
     "name": "stdout",
     "output_type": "stream",
     "text": [
      "{1, 3, 4, 5, 10}\n"
     ]
    }
   ],
   "source": [
    "\n",
    "# to delete the whole set use del keyword\n",
    "s1 = {4, 6, 7, 9, 10}\n",
    "del s1\n",
    "\n",
    "# instead of 2 add 10 in set\n",
    "s = {2, 1, 3, 1, 4, 5}\n",
    "s.remove(2)\n",
    "s.add(10)\n",
    "print(s)\n"
   ]
  },
  {
   "cell_type": "code",
   "execution_count": 15,
   "metadata": {},
   "outputs": [
    {
     "name": "stdout",
     "output_type": "stream",
     "text": [
      "78\n"
     ]
    }
   ],
   "source": [
    "# find the second highest method\n",
    "\n",
    "marks = [89, 89, 78, 78, 56]\n",
    "mark = marks.copy()\n",
    "mark = list(set(mark))\n",
    "mark.sort()\n",
    "print(mark[-2])\n"
   ]
  },
  {
   "cell_type": "markdown",
   "metadata": {},
   "source": [
    "**DICTIONARY**\n"
   ]
  },
  {
   "cell_type": "code",
   "execution_count": 16,
   "metadata": {},
   "outputs": [
    {
     "name": "stdout",
     "output_type": "stream",
     "text": [
      "abc\n",
      "hello\n"
     ]
    }
   ],
   "source": [
    "\n",
    "# DICT is key: values pair\n",
    "d = {'name': 'abc',\n",
    "     'roll': 15,\n",
    "     1: 'hello'}\n",
    "\n",
    "# simply get the values through key\n",
    "print(d['name'])\n",
    "print(d[1])\n"
   ]
  },
  {
   "cell_type": "code",
   "execution_count": 18,
   "metadata": {},
   "outputs": [
    {
     "name": "stdout",
     "output_type": "stream",
     "text": [
      "hello\n",
      "b\n",
      "{'name': 'b', 'roll': 15, 1: 'hello', 2: 6}\n",
      "{'name': 'b', 'roll': 15, 1: 'hello', 2: 6}\n"
     ]
    }
   ],
   "source": [
    "\n",
    "# get method\n",
    "\n",
    "print(d.get(1))\n",
    "print(d.get('name'))\n",
    "\n",
    "# update\n",
    "d['name'] = 'b'\n",
    "print(d)\n",
    "\n",
    "d[2] = 6           # it will create a new key\n",
    "print(d)\n"
   ]
  },
  {
   "cell_type": "code",
   "execution_count": 19,
   "metadata": {},
   "outputs": [
    {
     "name": "stdout",
     "output_type": "stream",
     "text": [
      "dict_keys(['name', 'roll', 1, 2])\n",
      "['name', 'roll', 1, 2]\n",
      "dict_values(['b', 15, 'hello', 6])\n",
      "dict_items([('name', 'b'), ('roll', 15), (1, 'hello'), (2, 6)])\n"
     ]
    }
   ],
   "source": [
    "\n",
    "# .keys() method\n",
    "print(d.keys())\n",
    "print(list(d.keys()))\n",
    "\n",
    "# values method\n",
    "print(d.values())\n",
    "\n",
    "# items method : gives the key:value pair values as \"tuples\" inside  a list\n",
    "print(d.items())\n"
   ]
  },
  {
   "cell_type": "code",
   "execution_count": 20,
   "metadata": {},
   "outputs": [
    {
     "name": "stdout",
     "output_type": "stream",
     "text": [
      "name\n",
      "roll\n",
      "1\n",
      "abc\n",
      "15\n",
      "hello\n",
      "('name', 'abc')\n",
      "('roll', 15)\n",
      "(1, 'hello')\n",
      "name abc\n",
      "roll 15\n",
      "1 hello\n"
     ]
    }
   ],
   "source": [
    "\n",
    "# accessing dict through loops\n",
    "\n",
    "d = {'name': 'abc',\n",
    "     'roll': 15,\n",
    "     1: 'hello'}\n",
    "for i in d:         # it gives the key\n",
    "    print(i)\n",
    "\n",
    "for i in d.values():  # it gives values\n",
    "    print(i)\n",
    "\n",
    "\n",
    "for i in d.items():   # it gives key value pairs as \"tuples\"\n",
    "    print(i)\n",
    "\n",
    "for key, value in d.items():    # it gives key,value differently\n",
    "    print(key, value)\n"
   ]
  },
  {
   "cell_type": "code",
   "execution_count": 21,
   "metadata": {},
   "outputs": [
    {
     "name": "stdout",
     "output_type": "stream",
     "text": [
      "{'roll': 15, 1: 'hello'}\n",
      "{'roll': 15}\n"
     ]
    }
   ],
   "source": [
    "# delete items from pop\n",
    "d = {'name': 'abc',\n",
    "     'roll': 15,\n",
    "     1: 'hello'}\n",
    "\n",
    "d.pop('name')\n",
    "print(d)\n",
    "\n",
    "d.popitem()             # it deletes the last key:value pair\n",
    "print(d)\n"
   ]
  },
  {
   "cell_type": "code",
   "execution_count": 22,
   "metadata": {},
   "outputs": [
    {
     "name": "stdout",
     "output_type": "stream",
     "text": [
      "{'students': [{'name': 'abc', 'roll': 45, 'marks': 98}, {'name': 'b', 'roll': 78, 'marks': 99}], 'teachers': [{'name': 'abc', 'sub': 'chemistry'}, {'name': 'b', 'sub': 'physics'}]}\n",
      "abc\n",
      "physics\n"
     ]
    }
   ],
   "source": [
    "\n",
    "d = {}\n",
    "d['students'] = [\n",
    "    {'name': 'abc',\n",
    "     'roll': 45,\n",
    "     'marks': 98},\n",
    "    {'name': 'b',\n",
    "     'roll': 78,\n",
    "     'marks': 99\n",
    "     }\n",
    "]\n",
    "d['teachers'] = [{'name': 'abc', 'sub': 'chemistry'},\n",
    "                 {'name': 'b', 'sub': 'physics'}]\n",
    "print(d)\n",
    "\n",
    "print(d['students'][0]['name'])\n",
    "\n",
    "print(d['teachers'][1]['sub'])\n"
   ]
  },
  {
   "cell_type": "code",
   "execution_count": 23,
   "metadata": {},
   "outputs": [
    {
     "name": "stdout",
     "output_type": "stream",
     "text": [
      "Counter({1: 2, 4: 2, 'a': 2, 2: 1, 3: 1})\n"
     ]
    }
   ],
   "source": [
    "\n",
    "from collections import Counter\n",
    "lst = [1, 2, 3, 4, 1, 4, 'a', 'a']\n",
    "lst = Counter(lst)\n",
    "print(lst)\n"
   ]
  },
  {
   "cell_type": "code",
   "execution_count": 2,
   "metadata": {},
   "outputs": [
    {
     "name": "stdout",
     "output_type": "stream",
     "text": [
      "{1: 2}\n",
      "{2: 1}\n",
      "{3: 1}\n",
      "{4: 2}\n",
      "{'a': 2}\n",
      "2ND METHOD:\n",
      "{1: 2, 2: 1, 3: 1, 4: 2, 'a': 2}\n",
      "{1: 2, 2: 1, 3: 1, 4: 2, 'a': 2}\n"
     ]
    }
   ],
   "source": [
    "# 1. lst=[1,2,3,4,1,4,'a','a'] convert it into dictionary with unique values as keys and count of values as values\n",
    "lst = [1, 2, 3, 4, 1, 4, 'a', 'a']\n",
    "lst2 = lst.copy()\n",
    "lst2 = set(lst2)\n",
    "for i in lst2:\n",
    "    d = {i: lst.count(i)}\n",
    "    print(d)\n",
    "\n",
    "# OR\n",
    "print(\"2ND METHOD:\")\n",
    "\n",
    "lst = [1, 2, 3, 4, 1, 4, 'a', 'a']\n",
    "lst2 = lst.copy()\n",
    "lst2 = set(lst2)\n",
    "d = {i: lst.count(i) for i in lst2}\n",
    "print(d)\n",
    "\n",
    "# OR\n",
    "\n",
    "d = {}\n",
    "for i in lst:\n",
    "    if i not in d:\n",
    "        d[i] = 1\n",
    "    else:\n",
    "        d[i] += 1\n",
    "\n",
    "print(d)\n"
   ]
  },
  {
   "cell_type": "code",
   "execution_count": 2,
   "metadata": {},
   "outputs": [
    {
     "name": "stdout",
     "output_type": "stream",
     "text": [
      "final= {'maths': 55, 'physics': 78, 'chemistry': 99}\n",
      "{'maths': 55, 'physics': 78, 'chemistry': 99}\n"
     ]
    }
   ],
   "source": [
    "\n",
    "# 2. d={'maths':45 , 'physics':55 ,'chemistry':56}\n",
    "# d1={'english':55,'CS':78,'ADA':99}\n",
    "#final={'maths':55 ,'physics':78 ,'chemistry':99}\n",
    "\n",
    "d = {'maths': 45, 'physics': 55, 'chemistry': 56}\n",
    "d1 = {'english': 55, 'CS': 78, 'ADA': 99}\n",
    "\n",
    "final = {list(d.keys())[i]: list(d1.values())[i] for i in range(len(d))}\n",
    "print(\"final=\", final)\n",
    "\n",
    "# or\n",
    "\n",
    "f = {}\n",
    "key = list(d.keys())\n",
    "value = list(d1.values())\n",
    "for i in range(len(d)):\n",
    "    f[key[i]] = value[i]\n",
    "\n",
    "print(f)\n"
   ]
  },
  {
   "cell_type": "code",
   "execution_count": 26,
   "metadata": {},
   "outputs": [
    {
     "name": "stdout",
     "output_type": "stream",
     "text": [
      "enter 2 string of path\n",
      "up\n",
      "right\n",
      "right\n",
      "------q-----\n",
      "----p---\n",
      "False\n"
     ]
    }
   ],
   "source": [
    "# path = {'d': 0, 'u': 0, 'l': 0, 'r': 0}\n",
    "# n = int(input(\"Enter a number: \"))\n",
    "# print(f\"enter {n} string of path\")\n",
    "# p1 = False\n",
    "# q1 = False\n",
    "# lst = []\n",
    "# for i in range(n):\n",
    "#     a = input().strip()\n",
    "#     lst.append(a)\n",
    "#     if 'p' in a and not q1:\n",
    "#         p1 = True\n",
    "#     if 'q' in a and not p1:\n",
    "#         q1 = True\n",
    "# idxp = 0\n",
    "# indxq = 0\n",
    "# found = 0\n",
    "\n",
    "# for i in range(len(lst)):\n",
    "#     s = lst[i]\n",
    "#     if 'p' in s and 'q' in s: \t\t\t\t# if both are in same input\n",
    "#         if s.index('p') > s.index('q'):\n",
    "#             path['l'] = s.index('p')-s.index('q')\n",
    "#             found = 1\n",
    "#             break\n",
    "#         else:\n",
    "#             path['r'] = s.index('q')-s.index('p')\n",
    "#             found = 1\n",
    "#             break\n",
    "#     if 'p' in s:\n",
    "#         indxp = s.index('p')\n",
    "#     if 'q' in s:\n",
    "#         indxq = s.index('q')\n",
    "#     if p1:\n",
    "#         if 'q' in s:\n",
    "#             if indxp > indxq:\n",
    "#                 path['l'] = indxp-indxq\n",
    "#                 found = 1\n",
    "#                 break\n",
    "#             elif indxp < indxq:\n",
    "#                 path['r'] = indxq-indxp\n",
    "#                 found = 1\n",
    "#                 break\n",
    "#             else:\n",
    "#                 found = 1\n",
    "#                 break\n",
    "#         path['d'] += 1\n",
    "#     else:\n",
    "#         if 'p' in s:\n",
    "#             if indxp > indxq:\n",
    "#                 path['l'] = indxp-indxq\n",
    "#                 found = 1\n",
    "#                 break\n",
    "#             elif indxp < indxq:\n",
    "#                 path['r'] = indxq-indxp\n",
    "#                 found = 1\n",
    "#                 break\n",
    "#             else:\n",
    "#                 found = 1\n",
    "#                 break\n",
    "#         path['u'] += 1\n",
    "\n",
    "# # \ti+=1\n",
    "\n",
    "# if found == 1:\n",
    "\n",
    "#     for key, value in path.items():\n",
    "#         # print(key)\n",
    "#         if key == 'd' and value > 0:\n",
    "#             while path['d'] != 0:\n",
    "#                 print(\"down\")\n",
    "#                 path['d'] -= 1\n",
    "#         elif key == 'u' and value > 0:\n",
    "#             while path['u'] != 0:\n",
    "#                 print(\"up\")\n",
    "#                 path['u'] -= 1\n",
    "\n",
    "#         elif key == 'l' and value > 0:\n",
    "#             while path['l'] != 0:\n",
    "#                 print(\"left\")\n",
    "#                 path['l'] -= 1\n",
    "#         elif key == 'r' and value > 0:\n",
    "#             while path['r'] != 0:\n",
    "#                 print(\"right\")\n",
    "#                 path['r'] -= 1\n",
    "\n",
    "# else:\n",
    "#     print(\"not found\")\n",
    "\n",
    "# for i in lst:\n",
    "#     print(i)\n",
    "\n",
    "# print(p1)\n",
    "\n",
    "# or\n"
   ]
  },
  {
   "cell_type": "markdown",
   "metadata": {},
   "source": [
    "# 29/08/22\n"
   ]
  },
  {
   "cell_type": "markdown",
   "metadata": {},
   "source": [
    "**Function**\n",
    "\n",
    "1. def fun(): without parameters\n",
    "2. def fun(parameters): with parameters\n",
    "3. def fun(parameters=1): with default parameters\n",
    "\n",
    "local and global variables\n",
    "\n",
    "function does not occupy memory space until it is called <br>\n",
    "Recursion function: a function that calls itself\n",
    "\n",
    "inline or lambda function(always returns a value)\n"
   ]
  },
  {
   "cell_type": "code",
   "execution_count": 2,
   "metadata": {},
   "outputs": [
    {
     "name": "stdout",
     "output_type": "stream",
     "text": [
      "hello\n",
      "hello\n",
      "None\n"
     ]
    }
   ],
   "source": [
    "def fxn():\n",
    "    print(\"hello\")\n",
    "\n",
    "\n",
    "fxn()\n",
    "a = fxn()\n",
    "print(a)\n"
   ]
  },
  {
   "cell_type": "code",
   "execution_count": 4,
   "metadata": {},
   "outputs": [
    {
     "name": "stdout",
     "output_type": "stream",
     "text": [
      "Hello\n"
     ]
    }
   ],
   "source": [
    "def fxn():\n",
    "    return \"Hello\"\n",
    "\n",
    "\n",
    "a = fxn()\n",
    "print(a)\n"
   ]
  },
  {
   "cell_type": "code",
   "execution_count": null,
   "metadata": {},
   "outputs": [],
   "source": [
    "def sum(a, b):\n",
    "    return a+b\n",
    "\n",
    "\n",
    "a = sum(2, 3)\n",
    "print(a)\n"
   ]
  },
  {
   "cell_type": "markdown",
   "metadata": {},
   "source": [
    "Top priority goes to local variables and functions in same file <br>\n"
   ]
  },
  {
   "cell_type": "code",
   "execution_count": 6,
   "metadata": {},
   "outputs": [
    {
     "name": "stdout",
     "output_type": "stream",
     "text": [
      "ind is a beautiful country\n",
      "abc is a beautiful country\n"
     ]
    }
   ],
   "source": [
    "def country(a=\"ind\"):\n",
    "    return f'{a} is a beautiful country'\n",
    "\n",
    "\n",
    "print(country())\n",
    "print(country('abc'))\n"
   ]
  },
  {
   "cell_type": "code",
   "execution_count": 8,
   "metadata": {},
   "outputs": [
    {
     "name": "stdout",
     "output_type": "stream",
     "text": [
      "30\n"
     ]
    },
    {
     "ename": "NameError",
     "evalue": "name 'b' is not defined",
     "output_type": "error",
     "traceback": [
      "\u001b[1;31m---------------------------------------------------------------------------\u001b[0m",
      "\u001b[1;31mNameError\u001b[0m                                 Traceback (most recent call last)",
      "\u001b[1;32mc:\\Users\\DarkLord\\Desktop\\Training\\python\\basics.ipynb Cell 121\u001b[0m in \u001b[0;36m<cell line: 8>\u001b[1;34m()\u001b[0m\n\u001b[0;32m      <a href='vscode-notebook-cell:/c%3A/Users/DarkLord/Desktop/Training/python/basics.ipynb#Y235sZmlsZQ%3D%3D?line=3'>4</a>\u001b[0m     \u001b[39mprint\u001b[39m(a\u001b[39m+\u001b[39mb)\n\u001b[0;32m      <a href='vscode-notebook-cell:/c%3A/Users/DarkLord/Desktop/Training/python/basics.ipynb#Y235sZmlsZQ%3D%3D?line=5'>6</a>\u001b[0m fun()\n\u001b[1;32m----> <a href='vscode-notebook-cell:/c%3A/Users/DarkLord/Desktop/Training/python/basics.ipynb#Y235sZmlsZQ%3D%3D?line=7'>8</a>\u001b[0m \u001b[39mprint\u001b[39m(b)\n",
      "\u001b[1;31mNameError\u001b[0m: name 'b' is not defined"
     ]
    }
   ],
   "source": [
    "a = 10\n",
    "\n",
    "\n",
    "def fun():\n",
    "    b = 20\n",
    "    print(a+b)\n",
    "\n",
    "\n",
    "fun()\n",
    "\n",
    "# print(b) # b not defined\n"
   ]
  },
  {
   "cell_type": "code",
   "execution_count": 17,
   "metadata": {},
   "outputs": [
    {
     "name": "stdout",
     "output_type": "stream",
     "text": [
      "30\n",
      "20\n"
     ]
    }
   ],
   "source": [
    "def fun():\n",
    "    global b\n",
    "    b = 20\n",
    "    print(a+b)\n",
    "\n",
    "\n",
    "fun()\n",
    "print(b)\n"
   ]
  },
  {
   "cell_type": "code",
   "execution_count": 18,
   "metadata": {},
   "outputs": [
    {
     "name": "stdout",
     "output_type": "stream",
     "text": [
      "10\n",
      "9\n",
      "8\n",
      "7\n",
      "6\n",
      "5\n",
      "4\n",
      "3\n",
      "2\n",
      "1\n",
      "0\n"
     ]
    }
   ],
   "source": [
    "# recursion\n",
    "\n",
    "def fun(n):\n",
    "    print(n)\n",
    "    if n == 0:\n",
    "        return 0\n",
    "    fun(n-1)\n",
    "\n",
    "\n",
    "fun(10)\n"
   ]
  },
  {
   "cell_type": "markdown",
   "metadata": {},
   "source": [
    "**Dynammic programming**\n"
   ]
  },
  {
   "cell_type": "code",
   "execution_count": 22,
   "metadata": {},
   "outputs": [
    {
     "name": "stdout",
     "output_type": "stream",
     "text": [
      "89\n"
     ]
    }
   ],
   "source": [
    "# fibonacci\n",
    "def fib(n):\n",
    "    if n == 1:\n",
    "        return 0\n",
    "    elif n == 2:\n",
    "        return 1\n",
    "    return fib(n-1)+fib(n-2)\n",
    "\n",
    "\n",
    "print(fib(12))\n"
   ]
  },
  {
   "cell_type": "markdown",
   "metadata": {},
   "source": [
    "# 30/08/22\n"
   ]
  },
  {
   "cell_type": "code",
   "execution_count": 1,
   "metadata": {},
   "outputs": [
    {
     "name": "stdout",
     "output_type": "stream",
     "text": [
      "34\n"
     ]
    }
   ],
   "source": [
    "d = {1: 0, 2: 1}\n",
    "\n",
    "\n",
    "def fib(n):\n",
    "    if n in d:\n",
    "        return d[n]\n",
    "    d[n-1] = fib(n-1)\n",
    "    d[n-2] = fib(n-2)\n",
    "    return d[n-1]+d[n-2]\n",
    "\n",
    "\n",
    "print(fib(10))\n"
   ]
  },
  {
   "cell_type": "code",
   "execution_count": 10,
   "metadata": {},
   "outputs": [
    {
     "name": "stdout",
     "output_type": "stream",
     "text": [
      "{'a': ['hello', 'how r u'], 'b': ['hey', 'what r u doing'], 'c': ['hello everyone']}\n",
      "{'a': ['hello', 'how r u'], 'b': ['hey', 'what r u doing'], 'c': ['hello everyone']}\n"
     ]
    }
   ],
   "source": [
    "names = ['a', 'b', 'a', 'c', 'b']\n",
    "msg = ['hello',\n",
    "       'hey',\n",
    "       'how r u',\n",
    "       'hello everyone',\n",
    "       'what r u doing']\n",
    "\n",
    "# d={}\n",
    "# lst=[]\n",
    "# for i in range(len(names)):\n",
    "#     index=[]\n",
    "#     for j in range(len(names)):\n",
    "#         if names[i]==names[j]:\n",
    "#             index.append(j)\n",
    "#     for j in index:\n",
    "#         lst.append(msg[j])\n",
    "\n",
    "#     d[names[i]]=lst\n",
    "#     lst=[]\n",
    "\n",
    "# print(d)\n",
    "\n",
    "# or\n",
    "\n",
    "d = {}\n",
    "lst = []\n",
    "for i in range(len(names)):\n",
    "    for j in range(len(names)):\n",
    "        if names[i] == names[j]:\n",
    "            lst.append(msg[j])\n",
    "    if names[i] not in d:\n",
    "        d[names[i]] = lst\n",
    "    lst = []\n",
    "\n",
    "print(d)\n",
    "# or\n",
    "\n",
    "d = {}\n",
    "for i in range(len(names)):\n",
    "    if names[i] not in d:\n",
    "        d[names[i]] = [msg[i]]\n",
    "    else:\n",
    "        d[names[i]].append(msg[i])\n",
    "\n",
    "print(d)\n"
   ]
  },
  {
   "cell_type": "code",
   "execution_count": 2,
   "metadata": {},
   "outputs": [
    {
     "name": "stdout",
     "output_type": "stream",
     "text": [
      "{'a': ['hello', 'how r u'], 'b': ['hey', 'what r u doing'], 'c': ['hello everyone']}\n",
      "{'a': ['hello', 'how r u'], 'b': ['hey', 'what r u doing'], 'c': ['hello everyone']}\n"
     ]
    }
   ],
   "source": [
    "names = ['a', 'b', 'a', 'c', 'b']\n",
    "msg = ['hello\\n',\n",
    "       'hey\\n',\n",
    "       'how r u\\n',\n",
    "       'hello everyone\\n',\n",
    "       'what r u doing\\n']\n",
    "\n",
    "\n",
    "d = {}\n",
    "for i in range(len(names)):\n",
    "    if names[i] not in d:\n",
    "        d[names[i]] = [msg[i].strip('\\n')]\n",
    "    else:\n",
    "        d[names[i]].append(msg[i].strip('\\n'))\n",
    "\n",
    "print(d)\n",
    "\n",
    "#  or\n",
    "msg = ['hello\\n',\n",
    "       'hey\\n',\n",
    "       'how r u\\n',\n",
    "       'hel\\nlo everyone\\n',\n",
    "       'what r u doing\\n']\n",
    "\n",
    "d = {}\n",
    "# print(msg)\n",
    "for i in range(len(names)):\n",
    "    if names[i] not in d:\n",
    "        d[names[i]] = [msg[i].replace('\\n', \"\")]\n",
    "    else:\n",
    "        d[names[i]].append(msg[i].replace('\\n', \"\"))\n",
    "\n",
    "print(d)\n"
   ]
  },
  {
   "cell_type": "code",
   "execution_count": 3,
   "metadata": {},
   "outputs": [
    {
     "name": "stdout",
     "output_type": "stream",
     "text": [
      "{'a': ['how', 'u', 'r', 'hello'], 'b': ['hey', 'r', 'doing', 'u', 'what'], 'c': ['everyone', 'hello']}\n"
     ]
    }
   ],
   "source": [
    "names = ['a', 'b', 'a', 'c', 'b']\n",
    "msg = ['hello hello',\n",
    "       'hey',\n",
    "       'hello how r u',\n",
    "       'hello everyone',\n",
    "       'what r u doing']\n",
    "\n",
    "d = {}\n",
    "lst = []\n",
    "for i in range(len(names)):\n",
    "    if names[i] not in d:\n",
    "        d[names[i]] = list(set(msg[i].split()))\n",
    "        # print(d)\n",
    "    else:\n",
    "        lst = d[names[i]]\n",
    "        lst.extend(msg[i].split()) \n",
    "        lst = list(set(lst))\n",
    "        d[names[i]] = lst\n",
    "\n",
    "\n",
    "print(d)\n"
   ]
  },
  {
   "cell_type": "code",
   "execution_count": 40,
   "metadata": {},
   "outputs": [
    {
     "name": "stdout",
     "output_type": "stream",
     "text": [
      "c\n"
     ]
    }
   ],
   "source": [
    "d = {'a': 1, 'b': 2, 'c': 4, 'd': 0}  # name of key with max value\n",
    "# g = 0\n",
    "# key_l = []\n",
    "# keys = list(d.keys())\n",
    "# for i in keys:\n",
    "#     if g < d[i]:\n",
    "#         g = d[i]\n",
    "\n",
    "# for i in list(d.keys()):\n",
    "#     if d[i] == g:\n",
    "#         print(i)\n",
    "\n",
    "# or\n",
    "\n",
    "lst = d.values()\n",
    "g = max(lst)\n",
    "for i in list(d.keys()):\n",
    "    if d[i] == g:\n",
    "        print(i)\n",
    "\n",
    "\n"
   ]
  },
  {
   "cell_type": "markdown",
   "metadata": {},
   "source": [
    "## Continued on file basics2.ipynb"
   ]
  }
 ],
 "metadata": {
  "kernelspec": {
   "display_name": "Python 3.9.12 ('base')",
   "language": "python",
   "name": "python3"
  },
  "language_info": {
   "codemirror_mode": {
    "name": "ipython",
    "version": 3
   },
   "file_extension": ".py",
   "mimetype": "text/x-python",
   "name": "python",
   "nbconvert_exporter": "python",
   "pygments_lexer": "ipython3",
   "version": "3.9.12"
  },
  "vscode": {
   "interpreter": {
    "hash": "73fa04910e3d127807ceeedb19e1b3e59ccb4070037b8d0933101bf9843736ea"
   }
  }
 },
 "nbformat": 4,
 "nbformat_minor": 2
}
