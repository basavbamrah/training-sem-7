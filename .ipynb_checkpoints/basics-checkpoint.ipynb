{
 "cells": [
  {
   "cell_type": "markdown",
   "metadata": {},
   "source": [
    "# 17/08/22\n"
   ]
  },
  {
   "cell_type": "markdown",
   "metadata": {},
   "source": [
    "**Data types**\n",
    "int, float, string, bool\n",
    "python is dynamic in nature\n"
   ]
  },
  {
   "cell_type": "markdown",
   "metadata": {},
   "source": [
    "**Variables**\n",
    "valid variales\n",
    "rules:\n",
    "\n",
    "1. start with alpha or \\_\n",
    "2. use numbers\n",
    "3. no special characters like @, # etc only \\_ can be used\n",
    "4. no keywords can be used\n"
   ]
  },
  {
   "cell_type": "code",
   "execution_count": 2,
   "metadata": {},
   "outputs": [
    {
     "name": "stdout",
     "output_type": "stream",
     "text": [
      "56\n",
      "556\n",
      "a\n"
     ]
    }
   ],
   "source": [
    "print(56)\n",
    "a = 556\n",
    "print(a)\n",
    "print(\"a\")\n"
   ]
  },
  {
   "cell_type": "markdown",
   "metadata": {},
   "source": [
    "**operators**\n",
    "\n",
    "1. Arthematic operators: + - \\* / //(double div or floor div) % \\*\\*\n",
    "2. comparison operators/conditional operators: < > <= >= == !=\n",
    "3. Assignment operator: = += -= \\*= /= %= //=\n",
    "4. logical operators: and or not\n"
   ]
  },
  {
   "cell_type": "code",
   "execution_count": 11,
   "metadata": {},
   "outputs": [
    {
     "name": "stdout",
     "output_type": "stream",
     "text": [
      "3.0\n",
      "3\n",
      "1\n",
      "True\n",
      "None\n"
     ]
    }
   ],
   "source": [
    "# operators\n",
    "# arthematic\n",
    "print(6 / 2)\n",
    "print(6 // 2)\n",
    "print(6 // 5)\n",
    "# comparison\n",
    "a = 6\n",
    "b = 3\n",
    "c = a > b\n",
    "d = print(c)\n",
    "print(d)\n"
   ]
  },
  {
   "cell_type": "markdown",
   "metadata": {},
   "source": [
    "# 18/08/22\n"
   ]
  },
  {
   "cell_type": "markdown",
   "metadata": {},
   "source": [
    "**Strings in python**\n"
   ]
  },
  {
   "cell_type": "code",
   "execution_count": 4,
   "metadata": {},
   "outputs": [
    {
     "name": "stdout",
     "output_type": "stream",
     "text": [
      "11\n"
     ]
    }
   ],
   "source": [
    "# string\n",
    "\"\"\"this is multi\n",
    "line \n",
    "comment\n",
    "\"\"\"\n",
    "s = \"hello world\"\n",
    "print(len(s))\n",
    "# lst index length-1\n"
   ]
  },
  {
   "cell_type": "code",
   "execution_count": 6,
   "metadata": {},
   "outputs": [
    {
     "name": "stdout",
     "output_type": "stream",
     "text": [
      "d\n",
      "h\n",
      "d\n"
     ]
    }
   ],
   "source": [
    "print(s[-1])\n",
    "print(s[0])\n",
    "print(s[len(s) - 1])\n"
   ]
  },
  {
   "cell_type": "markdown",
   "metadata": {},
   "source": [
    "# slicing\n"
   ]
  },
  {
   "cell_type": "code",
   "execution_count": 12,
   "metadata": {},
   "outputs": [
    {
     "name": "stdout",
     "output_type": "stream",
     "text": [
      "hello\n",
      "world\n",
      "hello\n",
      "hello world\n"
     ]
    }
   ],
   "source": [
    "print(s[0:5])\n",
    "print(s[6:])\n",
    "print(s[:5])\n",
    "print(s[:])\n"
   ]
  },
  {
   "cell_type": "code",
   "execution_count": 28,
   "metadata": {},
   "outputs": [
    {
     "name": "stdout",
     "output_type": "stream",
     "text": [
      "hlo\n",
      "dlrow\n",
      " olleh\n",
      "dlrow olleh\n"
     ]
    }
   ],
   "source": [
    "print(s[0:5:2])\n",
    "print(s[10:5:-1])\n",
    "print(s[5::-1])\n",
    "print(s[::-1])\n"
   ]
  },
  {
   "cell_type": "code",
   "execution_count": 32,
   "metadata": {},
   "outputs": [
    {
     "name": "stdout",
     "output_type": "stream",
     "text": [
      "1\n",
      "6\n"
     ]
    },
    {
     "ename": "ValueError",
     "evalue": "substring not found",
     "output_type": "error",
     "traceback": [
      "\u001b[1;31m---------------------------------------------------------------------------\u001b[0m",
      "\u001b[1;31mValueError\u001b[0m                                Traceback (most recent call last)",
      "\u001b[1;32mc:\\Users\\DarkLord\\Desktop\\Training\\python\\basics.ipynb Cell 14\u001b[0m in \u001b[0;36m<cell line: 4>\u001b[1;34m()\u001b[0m\n\u001b[0;32m      <a href='vscode-notebook-cell:/c%3A/Users/DarkLord/Desktop/Training/python/basics.ipynb#X21sZmlsZQ%3D%3D?line=1'>2</a>\u001b[0m \u001b[39mprint\u001b[39m(s\u001b[39m.\u001b[39mindex(\u001b[39m'\u001b[39m\u001b[39me\u001b[39m\u001b[39m'\u001b[39m))\n\u001b[0;32m      <a href='vscode-notebook-cell:/c%3A/Users/DarkLord/Desktop/Training/python/basics.ipynb#X21sZmlsZQ%3D%3D?line=2'>3</a>\u001b[0m \u001b[39mprint\u001b[39m(s\u001b[39m.\u001b[39mindex(\u001b[39m'\u001b[39m\u001b[39me\u001b[39m\u001b[39m'\u001b[39m,\u001b[39m4\u001b[39m))\n\u001b[1;32m----> <a href='vscode-notebook-cell:/c%3A/Users/DarkLord/Desktop/Training/python/basics.ipynb#X21sZmlsZQ%3D%3D?line=3'>4</a>\u001b[0m \u001b[39mprint\u001b[39m(s\u001b[39m.\u001b[39;49mindex(\u001b[39m'\u001b[39;49m\u001b[39me\u001b[39;49m\u001b[39m'\u001b[39;49m,\u001b[39m4\u001b[39;49m,\u001b[39m6\u001b[39;49m))\n",
      "\u001b[1;31mValueError\u001b[0m: substring not found"
     ]
    }
   ],
   "source": [
    "s = \"hello e world e\"\n",
    "print(s.index(\"e\"))\n",
    "print(s.index(\"e\", 4))\n",
    "print(s.index(\"e\", 4, 6))\n"
   ]
  },
  {
   "cell_type": "code",
   "execution_count": 34,
   "metadata": {},
   "outputs": [
    {
     "name": "stdout",
     "output_type": "stream",
     "text": [
      "1\n",
      "-1\n"
     ]
    }
   ],
   "source": [
    "print(s.find(\"e\"))\n",
    "print(s.find(\"e\", 4, 6))  # if string not present then return -1\n"
   ]
  },
  {
   "cell_type": "code",
   "execution_count": 38,
   "metadata": {},
   "outputs": [
    {
     "name": "stdout",
     "output_type": "stream",
     "text": [
      "helloeee\n",
      "elloeee\n"
     ]
    }
   ],
   "source": [
    "s = input(\"Enter a string: \\n\")\n",
    "print(s)\n",
    "a = s.find(\"e\")\n",
    "print(s[a:])\n"
   ]
  },
  {
   "cell_type": "code",
   "execution_count": 41,
   "metadata": {},
   "outputs": [
    {
     "name": "stdout",
     "output_type": "stream",
     "text": [
      "end\n"
     ]
    }
   ],
   "source": [
    "# abc{def}sdfe\n",
    "s = input(\"enter a string\")\n",
    "st = s.find(\"{\")\n",
    "end = s.find\n",
    "print(s[(st + 1): end])(\"}\")\n"
   ]
  },
  {
   "cell_type": "code",
   "execution_count": 48,
   "metadata": {},
   "outputs": [
    {
     "name": "stdout",
     "output_type": "stream",
     "text": [
      "2\n",
      "1\n",
      "hzllo wzlcomE\n",
      "hello welcomE\n",
      "hzllo wzlcomE\n"
     ]
    }
   ],
   "source": [
    "# count\n",
    "s = \"hello welcomE\"\n",
    "print(s.count(\"e\"))\n",
    "print(s.count(\"e\", 2))\n",
    "print(s.replace(\"e\", \"z\"))\n",
    "print(s)  # immutable\n",
    "# methods which return values dont apply changes : methods that do not return values apply changes\n",
    "s = s.replace(\"e\", \"z\")\n",
    "print(s)\n"
   ]
  },
  {
   "cell_type": "code",
   "execution_count": 3,
   "metadata": {},
   "outputs": [
    {
     "name": "stdout",
     "output_type": "stream",
     "text": [
      "name _ age ___ marks __\n",
      "name abc age 55 marks 5\n"
     ]
    }
   ],
   "source": [
    "msg = input(\"enter msg: \")\n",
    "name = input('Enter a name: ')\n",
    "marks = input('Enter marks:')\n",
    "age = input('Enter age')\n",
    "# msg = msg.replace('1', name)\n",
    "# msg = msg.replace('2', marks)\n",
    "# msg = msg.replace('3', age)\n",
    "print(msg)\n",
    "msg = msg.replace('___', age)\n",
    "msg = msg.replace('__', marks)\n",
    "msg = msg.replace('_', name)\n",
    "\n",
    "print(msg)\n"
   ]
  },
  {
   "cell_type": "code",
   "execution_count": 49,
   "metadata": {},
   "outputs": [
    {
     "name": "stdout",
     "output_type": "stream",
     "text": [
      "name: abc | email: abc@gmail.com\n"
     ]
    }
   ],
   "source": [
    "n = 'abc'\n",
    "e = 'abc@gmail.com'\n",
    "print(f'name: {n} | email: {e}')\n"
   ]
  },
  {
   "cell_type": "code",
   "execution_count": 14,
   "metadata": {},
   "outputs": [
    {
     "name": "stdout",
     "output_type": "stream",
     "text": [
      "HELLO HOW ARE U\n",
      "Hello How Are U\n",
      "     hello how are u     \n",
      "hello how are u\n",
      "hello how are u     \n",
      "     hello how are u\n",
      "hello how are u\n"
     ]
    }
   ],
   "source": [
    "s = 'hello how are u'\n",
    "print(s.upper())\n",
    "s = 'hello hoW arE u'\n",
    "print(s.title())\n",
    "s = '     hello how are u     '\n",
    "print(s)\n",
    "print(s.strip())\n",
    "print(s.lstrip())\n",
    "print(s.rstrip())\n",
    "s = '****hello how are u*****'\n",
    "print(s.strip('*'))\n"
   ]
  },
  {
   "cell_type": "code",
   "execution_count": 5,
   "metadata": {},
   "outputs": [
    {
     "name": "stdout",
     "output_type": "stream",
     "text": [
      "hellowelcome\n",
      "*****\n",
      "****\n",
      "***\n",
      "**\n",
      "*\n"
     ]
    }
   ],
   "source": [
    "s = 'hello'\n",
    "s1 = 'welcome'\n",
    "s += s1\n",
    "print(s)\n",
    "s = '*'\n",
    "print(s*5)\n",
    "print(s*4)\n",
    "print(s*3)\n",
    "print(s*2)\n",
    "print(s*1)\n"
   ]
  },
  {
   "cell_type": "markdown",
   "metadata": {},
   "source": [
    "# 19/08/22\n"
   ]
  },
  {
   "cell_type": "code",
   "execution_count": 10,
   "metadata": {},
   "outputs": [
    {
     "name": "stdout",
     "output_type": "stream",
     "text": [
      "hello\n",
      "welcome\n",
      "hello\twelcome\n",
      "hello\\welcome\n",
      "hello\\welcome\n",
      "hello\\welcome\n"
     ]
    }
   ],
   "source": [
    "s = 'hello\\nwelcome'\n",
    "print(s)\n",
    "s = 'hello\\twelcome'\n",
    "print(s)\n",
    "s = 'hello\\\\welcome'\n",
    "print(s)\n",
    "s = r'hello\\welcome'\n",
    "print(s)\n",
    "s = 'hello\\\\welcome'\n",
    "print(s)\n"
   ]
  },
  {
   "cell_type": "code",
   "execution_count": 15,
   "metadata": {},
   "outputs": [
    {
     "name": "stdout",
     "output_type": "stream",
     "text": [
      "\n",
      "True\n",
      "True\n"
     ]
    }
   ],
   "source": [
    "email = 'abc@gmail.com'\n",
    "print()\n",
    "print(('.com' or '.co' or '.in' and '@' ) in email)\n",
    "print(('.com' in email or '.co' in email or '.in' in email) and '@' in email)\n"
   ]
  },
  {
   "cell_type": "code",
   "execution_count": 20,
   "metadata": {},
   "outputs": [
    {
     "name": "stdout",
     "output_type": "stream",
     "text": [
      "True\n",
      "False\n",
      "True\n",
      "True\n",
      "False\n",
      "True\n"
     ]
    }
   ],
   "source": [
    "s='hello'\n",
    "print(s.islower())\n",
    "s='hEllo'\n",
    "print(s.islower())\n",
    "s='h3llo'\n",
    "print(s.islower())\n",
    "s='h!llo'\n",
    "print(s.islower())\n",
    "# print(s.isalnum())\n",
    "s = 'hello world'\n",
    "print(s.isalpha())\n",
    "s = 'helloworld'\n",
    "print(s.isalpha())\n",
    "# .isdigit() .isalnum()"
   ]
  },
  {
   "cell_type": "markdown",
   "metadata": {},
   "source": [
    "**Type Casting** process to change a variable's data type to another data type "
   ]
  },
  {
   "cell_type": "code",
   "execution_count": 3,
   "metadata": {},
   "outputs": [
    {
     "name": "stdout",
     "output_type": "stream",
     "text": [
      "<class 'int'>\n",
      "True\n",
      "34.0\n",
      "<class 'float'>\n",
      "34.0\n"
     ]
    }
   ],
   "source": [
    "s='34'\n",
    "s=int(s)\n",
    "print(type(s))\n",
    "s=bool(s)\n",
    "print(s)\n",
    "s='34'\n",
    "s=float(s)\n",
    "print(s)\n",
    "print(type(s))\n",
    "s= str(s)\n",
    "print(s)"
   ]
  },
  {
   "cell_type": "code",
   "execution_count": 8,
   "metadata": {},
   "outputs": [
    {
     "name": "stdout",
     "output_type": "stream",
     "text": [
      "False\n",
      "True\n",
      "True\n",
      "True\n",
      "True\n",
      "True\n"
     ]
    }
   ],
   "source": [
    "s = '  34  '\n",
    "print(s.isdigit())  # .isdigit() returns false but it can be type casted to int\n",
    "s = int(34)\n",
    "s='  34  '\n",
    "s = s.strip()\n",
    "print(s.isdigit())\n",
    "\n",
    "s= '124'\n",
    "print(s.isalnum())\n",
    "s= '124avc'\n",
    "print(s.isalnum())\n",
    "s= 'abc'\n",
    "print(s.isalnum())\n",
    "s= '1245 5 '\n",
    "print(s[4].isspace())\n"
   ]
  },
  {
   "cell_type": "code",
   "execution_count": 16,
   "metadata": {},
   "outputs": [
    {
     "name": "stdout",
     "output_type": "stream",
     "text": [
      "True\n",
      "hellow\n",
      "False\n",
      "False\n"
     ]
    }
   ],
   "source": [
    "#special characters\n",
    "s='hello@'\n",
    "print(not s.isalpha() and ' ' not in s)\n",
    "s='h e l l o  w'\n",
    "s=s.replace(' ', '')\n",
    "print(s)\n",
    "print(not s.isalpha() and ' ' not in s)\n",
    "\n",
    "s='hello asfss'\n",
    "print(not s.isalpha() and ' ' not in s)\n",
    "\n",
    "\n",
    "\n",
    "s='hello12'\n",
    "# print( in s)\n",
    "\n",
    "#check there should be atleat one number\n",
    "\n",
    "\n",
    "\n"
   ]
  },
  {
   "cell_type": "markdown",
   "metadata": {},
   "source": [
    "**Conditons**"
   ]
  },
  {
   "cell_type": "code",
   "execution_count": 4,
   "metadata": {},
   "outputs": [
    {
     "name": "stdout",
     "output_type": "stream",
     "text": [
      "enter a number: 55\n",
      "enter a number: 60\n",
      "115\n"
     ]
    }
   ],
   "source": [
    "a = input(\"enter a number: \").strip()\n",
    "b = input(\"enter a number: \").strip()\n",
    "if a.isdigit() and b.isdigit():\n",
    "    print(int(a)+int(b))\n",
    "else:\n",
    "    print(\"Enter a number\")\n"
   ]
  },
  {
   "cell_type": "code",
   "execution_count": 5,
   "metadata": {},
   "outputs": [
    {
     "name": "stdout",
     "output_type": "stream",
     "text": [
      "bye\n"
     ]
    }
   ],
   "source": [
    "if 5==6:\n",
    "    print(\"hello\")\n",
    "else:\n",
    "    print(\"bye\")"
   ]
  },
  {
   "cell_type": "code",
   "execution_count": 6,
   "metadata": {},
   "outputs": [
    {
     "name": "stdout",
     "output_type": "stream",
     "text": [
      "enter age: 50\n",
      "Group D\n"
     ]
    }
   ],
   "source": [
    "age = int(input(\"enter age: \"))\n",
    "if age >= 18  and age <= 25:\n",
    "    print(\"Group A\")\n",
    "elif age >=26 and age <= 30:\n",
    "    print(\"Group B\")\n",
    "elif age >=3 and age <= 35:\n",
    "    print(\"Group C\")\n",
    "else:\n",
    "    print(\"Group D\")"
   ]
  },
  {
   "cell_type": "code",
   "execution_count": 12,
   "metadata": {},
   "outputs": [
    {
     "name": "stdout",
     "output_type": "stream",
     "text": [
      "enter a number: 5\n",
      "enter a number: 6\n",
      "Enter operator: /\n",
      "0.8333333333333334\n"
     ]
    }
   ],
   "source": [
    "val1=int(input(\"enter a number: \"))\n",
    "val2=int(input(\"enter a number: \"))\n",
    "\n",
    "op= input(\"Enter operator: \")\n",
    "\n",
    "if op == '+':\n",
    "    print(val1+val2)\n",
    "elif op == '-':\n",
    "    print(val1-val2)\n",
    "elif op == '/':\n",
    "    print(val1/val2)\n",
    "elif op == '//':\n",
    "    print(val1//val2)\n",
    "elif op ==\"%\":\n",
    "    print(val1%val2)\n",
    "elif op == \"*\":\n",
    "    print(val1*val2)\n",
    "elif op == \"**\":\n",
    "    print(val1**val2)\n",
    "else:\n",
    "    print(\"Enter a valid operator\")"
   ]
  },
  {
   "cell_type": "code",
   "execution_count": null,
   "metadata": {},
   "outputs": [],
   "source": [
    "# user input: username\n",
    "username = input('Enter username: ')\n",
    "#  output valid/invalid\n",
    "# atleast 1 no\n",
    "# 1 special char\n",
    "# alphabets with one uppercase alphabet\n",
    "# >=8"
   ]
  }
 ],
 "metadata": {
  "kernelspec": {
   "display_name": "Python 3 (ipykernel)",
   "language": "python",
   "name": "python3"
  },
  "language_info": {
   "codemirror_mode": {
    "name": "ipython",
    "version": 3
   },
   "file_extension": ".py",
   "mimetype": "text/x-python",
   "name": "python",
   "nbconvert_exporter": "python",
   "pygments_lexer": "ipython3",
   "version": "3.9.12"
  },
  "vscode": {
   "interpreter": {
    "hash": "ba95261038f43809f5603486461b5b4c978be2c88c3aae925ff135051399170a"
   }
  }
 },
 "nbformat": 4,
 "nbformat_minor": 2
}
