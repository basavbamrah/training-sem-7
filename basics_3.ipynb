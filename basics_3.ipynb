{
 "cells": [
  {
   "cell_type": "markdown",
   "metadata": {},
   "source": [
    "# 22/09/22\n"
   ]
  },
  {
   "cell_type": "markdown",
   "metadata": {},
   "source": [
    "## Numpy\n"
   ]
  },
  {
   "cell_type": "code",
   "execution_count": 11,
   "metadata": {},
   "outputs": [
    {
     "name": "stdout",
     "output_type": "stream",
     "text": [
      "[[1 2 3]\n",
      " [4 5 6]]\n",
      "int8\n",
      "2\n",
      "(2, 3)\n",
      "6\n"
     ]
    }
   ],
   "source": [
    "import numpy as np\n",
    "arr = np.array([[1, 2, 3], [4, 5, 6]], dtype='int8')\n",
    "print(arr)\n",
    "print(arr.dtype)\n",
    "#  print dimensions\n",
    "print(arr.ndim)\n",
    "# arr.shape\n",
    "print(arr.shape)\n",
    "\n",
    "print(arr.size)\n",
    "print()\n"
   ]
  },
  {
   "cell_type": "code",
   "execution_count": 17,
   "metadata": {},
   "outputs": [
    {
     "name": "stdout",
     "output_type": "stream",
     "text": [
      "[0 0 0 0 0]\n",
      "[[0. 0. 0.]\n",
      " [0. 0. 0.]\n",
      " [0. 0. 0.]\n",
      " [0. 0. 0.]\n",
      " [0. 0. 0.]]\n",
      "\n",
      "\n",
      "[[[0. 0. 0.]\n",
      "  [0. 0. 0.]]\n",
      "\n",
      " [[0. 0. 0.]\n",
      "  [0. 0. 0.]]\n",
      "\n",
      " [[0. 0. 0.]\n",
      "  [0. 0. 0.]]\n",
      "\n",
      " [[0. 0. 0.]\n",
      "  [0. 0. 0.]]\n",
      "\n",
      " [[0. 0. 0.]\n",
      "  [0. 0. 0.]]]\n"
     ]
    }
   ],
   "source": [
    "arr1 = np.zeros((5), dtype='int32')\n",
    "arr2 = np.zeros((5, 3))\n",
    "print(arr1)\n",
    "print(arr2)\n",
    "arr3 = np.zeros((5, 2, 3))\n",
    "print('\\n')\n",
    "print(arr3)\n"
   ]
  },
  {
   "cell_type": "code",
   "execution_count": 30,
   "metadata": {},
   "outputs": [
    {
     "name": "stdout",
     "output_type": "stream",
     "text": [
      "[[1. 1. 1.]\n",
      " [1. 1. 1.]\n",
      " [1. 1. 1.]]\n",
      "[ 0  1  2  3  4  5  6  7  8  9 10 11 12 13 14]\n",
      "[[ 0  1  2  3  4]\n",
      " [ 5  6  7  8  9]\n",
      " [10 11 12 13 14]]\n",
      "\n",
      "[[ 2  3  4  5  6]\n",
      " [ 7  8  9 10 11]\n",
      " [12 13 14 15 16]]\n",
      "\n",
      "[[ 2  4]\n",
      " [ 6  8]\n",
      " [10 12]\n",
      " [14 16]]\n",
      "[[10 20]\n",
      " [30 40]\n",
      " [50 60]\n",
      " [70 80]]\n",
      "[[     32    1024]\n",
      " [   7776   32768]\n",
      " [ 100000  248832]\n",
      " [ 537824 1048576]]\n",
      "[[-3 -1]\n",
      " [ 1  3]\n",
      " [ 5  7]\n",
      " [ 9 11]]\n",
      "[[ 7  9]\n",
      " [11 13]\n",
      " [15 17]\n",
      " [19 21]]\n"
     ]
    }
   ],
   "source": [
    "print(np.ones((3, 3)))\n",
    "arr = np.arange(15)\n",
    "print(arr)\n",
    "\n",
    "arr = arr.reshape((3, 5))\n",
    "print(arr)\n",
    "arr = np.arange(2, 17).reshape(3, 5)\n",
    "print()\n",
    "print(arr)\n",
    "print()\n",
    "arr = np.arange(2, 17, 2).reshape(4, 2)\n",
    "print(arr)\n",
    "print(arr*5)\n",
    "print(arr**5)\n",
    "print(arr-5)\n",
    "print(arr+5)\n"
   ]
  },
  {
   "cell_type": "code",
   "execution_count": 35,
   "metadata": {},
   "outputs": [
    {
     "name": "stdout",
     "output_type": "stream",
     "text": [
      "[[False False]\n",
      " [ True  True]\n",
      " [ True  True]\n",
      " [ True  True]]\n",
      "[[ 120  280]\n",
      " [ 540 1000]\n",
      " [2100 5280]\n",
      " [3850 5280]]\n",
      "[[ True False]\n",
      " [False False]\n",
      " [False  True]\n",
      " [False False]]\n"
     ]
    }
   ],
   "source": [
    "arr = np.arange(2, 17, 2).reshape(4, 2)*5\n",
    "# print(arr)\n",
    "\n",
    "print(arr > 20)\n",
    "\n",
    "arr1 = np.array([[12, 14], [18, 25],\n",
    "                 [42, 88], [55, 66]], dtype='int32')\n",
    "\n",
    "print(arr*arr1)\n",
    "print(arr < arr1)\n"
   ]
  },
  {
   "cell_type": "markdown",
   "metadata": {},
   "source": [
    "# 23/09/22\n"
   ]
  },
  {
   "cell_type": "code",
   "execution_count": 4,
   "metadata": {},
   "outputs": [
    {
     "data": {
      "text/plain": [
       "array([[4, 5, 2],\n",
       "       [6, 7, 2],\n",
       "       [1, 0, 8]], dtype=int8)"
      ]
     },
     "execution_count": 4,
     "metadata": {},
     "output_type": "execute_result"
    }
   ],
   "source": [
    "import numpy as np\n",
    "\n",
    "arr = np.array([[4, 5, 2], [6, 7, 2], [1, 0, 8]], dtype=np.int8)\n",
    "arr.ndim\n",
    "arr\n"
   ]
  },
  {
   "cell_type": "code",
   "execution_count": 5,
   "metadata": {},
   "outputs": [
    {
     "name": "stdout",
     "output_type": "stream",
     "text": [
      "1\n"
     ]
    }
   ],
   "source": [
    "print(arr.itemsize)\n"
   ]
  },
  {
   "cell_type": "code",
   "execution_count": 7,
   "metadata": {},
   "outputs": [
    {
     "name": "stdout",
     "output_type": "stream",
     "text": [
      "[[4 5 2]\n",
      " [6 7 2]\n",
      " [1 0 8]]\n",
      "\n",
      " 35\n"
     ]
    }
   ],
   "source": [
    "print(arr)\n",
    "print('\\n', arr.sum())\n"
   ]
  },
  {
   "cell_type": "code",
   "execution_count": 8,
   "metadata": {},
   "outputs": [
    {
     "name": "stdout",
     "output_type": "stream",
     "text": [
      "[11 12 12]\n"
     ]
    }
   ],
   "source": [
    "print(arr.sum(axis=0))  # it is row wise, axis=1 is column wise\n"
   ]
  },
  {
   "cell_type": "code",
   "execution_count": 12,
   "metadata": {},
   "outputs": [
    {
     "name": "stdout",
     "output_type": "stream",
     "text": [
      "[11 15  9]\n",
      "0\n",
      "[1 0 2]\n",
      "[2 2 0]\n"
     ]
    }
   ],
   "source": [
    "print(arr.sum(axis=1))\n",
    "print(arr.min())\n",
    "print(arr.min(axis=0))\n",
    "print(arr.min(axis=1))\n"
   ]
  },
  {
   "cell_type": "code",
   "execution_count": 13,
   "metadata": {},
   "outputs": [
    {
     "name": "stdout",
     "output_type": "stream",
     "text": [
      "3.888888888888889\n",
      "[3.66666667 4.         4.        ]\n",
      "[3.66666667 5.         3.        ]\n"
     ]
    }
   ],
   "source": [
    "print(arr.mean())\n",
    "print(arr.mean(axis=0))\n",
    "print(arr.mean(axis=1))\n"
   ]
  },
  {
   "cell_type": "code",
   "execution_count": 15,
   "metadata": {},
   "outputs": [
    {
     "name": "stdout",
     "output_type": "stream",
     "text": [
      "2.6434171674156266\n",
      "6.987654320987654\n"
     ]
    }
   ],
   "source": [
    "print(arr.std())\n",
    "print(arr.var())\n"
   ]
  },
  {
   "cell_type": "code",
   "execution_count": 17,
   "metadata": {},
   "outputs": [
    {
     "name": "stdout",
     "output_type": "stream",
     "text": [
      "[[41 59 50]\n",
      " [55 81 64]\n",
      " [34 46 65]]\n",
      "\n",
      "\n",
      "[[41 59 50]\n",
      " [55 81 64]\n",
      " [34 46 65]]\n"
     ]
    }
   ],
   "source": [
    "arr1 = np.array([[2, 6, 1], [5, 5, 6], [4, 5, 8]])\n",
    "# matrix multiplication\n",
    "print(arr.dot(arr1))\n",
    "print('\\n')\n",
    "print(arr @ arr1)\n"
   ]
  },
  {
   "cell_type": "code",
   "execution_count": 20,
   "metadata": {},
   "outputs": [
    {
     "name": "stdout",
     "output_type": "stream",
     "text": [
      "[[4 5 2]\n",
      " [6 7 2]\n",
      " [1 0 8]]\n",
      "[[2 4 5]\n",
      " [2 6 7]\n",
      " [0 1 8]]\n",
      "[[1 0 2]\n",
      " [4 5 2]\n",
      " [6 7 8]]\n",
      "\n"
     ]
    }
   ],
   "source": [
    "print(arr)\n",
    "print(np.sort(arr))  # default axis 1\n",
    "print(np.sort(arr, axis=0))  # default axis 1\n",
    "print()\n"
   ]
  },
  {
   "cell_type": "code",
   "execution_count": 23,
   "metadata": {},
   "outputs": [
    {
     "name": "stdout",
     "output_type": "stream",
     "text": [
      "[4 0 5 2 6 7 2 1 0 8]\n"
     ]
    }
   ],
   "source": [
    "print(np.insert(arr, 1, 0))\n"
   ]
  },
  {
   "cell_type": "code",
   "execution_count": 24,
   "metadata": {},
   "outputs": [
    {
     "name": "stdout",
     "output_type": "stream",
     "text": [
      "[4 0 0 0 5 2 6 7 2 1 0 8]\n"
     ]
    }
   ],
   "source": [
    "print(np.insert(arr, 1, [0, 0, 0]))\n"
   ]
  },
  {
   "cell_type": "code",
   "execution_count": 25,
   "metadata": {},
   "outputs": [
    {
     "name": "stdout",
     "output_type": "stream",
     "text": [
      "[[4 5 2]\n",
      " [1 1 1]\n",
      " [6 7 2]\n",
      " [1 0 8]]\n"
     ]
    }
   ],
   "source": [
    "print(np.insert(arr, 1, [1, 1, 1], axis=0))\n"
   ]
  },
  {
   "cell_type": "code",
   "execution_count": 26,
   "metadata": {},
   "outputs": [
    {
     "name": "stdout",
     "output_type": "stream",
     "text": [
      "[[4 1 5 2]\n",
      " [6 1 7 2]\n",
      " [1 1 0 8]]\n"
     ]
    }
   ],
   "source": [
    "print(np.insert(arr, 1, [1, 1, 1], axis=1))\n"
   ]
  },
  {
   "cell_type": "code",
   "execution_count": 27,
   "metadata": {},
   "outputs": [
    {
     "name": "stdout",
     "output_type": "stream",
     "text": [
      "[4 5 2 6 7 2 1 0 8 1 1 1]\n"
     ]
    }
   ],
   "source": [
    "print(np.append(arr, [1, 1, 1]))\n"
   ]
  },
  {
   "cell_type": "code",
   "execution_count": 28,
   "metadata": {},
   "outputs": [
    {
     "ename": "ValueError",
     "evalue": "all the input arrays must have same number of dimensions, but the array at index 0 has 2 dimension(s) and the array at index 1 has 1 dimension(s)",
     "output_type": "error",
     "traceback": [
      "\u001b[0;31m---------------------------------------------------------------------------\u001b[0m",
      "\u001b[0;31mValueError\u001b[0m                                Traceback (most recent call last)",
      "Cell \u001b[0;32mIn [28], line 1\u001b[0m\n\u001b[0;32m----> 1\u001b[0m \u001b[38;5;28mprint\u001b[39m(\u001b[43mnp\u001b[49m\u001b[38;5;241;43m.\u001b[39;49m\u001b[43mappend\u001b[49m\u001b[43m(\u001b[49m\u001b[43marr\u001b[49m\u001b[43m,\u001b[49m\u001b[43m[\u001b[49m\u001b[38;5;241;43m1\u001b[39;49m\u001b[43m,\u001b[49m\u001b[38;5;241;43m1\u001b[39;49m\u001b[43m,\u001b[49m\u001b[38;5;241;43m1\u001b[39;49m\u001b[43m]\u001b[49m\u001b[43m,\u001b[49m\u001b[43maxis\u001b[49m\u001b[38;5;241;43m=\u001b[39;49m\u001b[38;5;241;43m0\u001b[39;49m\u001b[43m)\u001b[49m)\n",
      "File \u001b[0;32m<__array_function__ internals>:180\u001b[0m, in \u001b[0;36mappend\u001b[0;34m(*args, **kwargs)\u001b[0m\n",
      "File \u001b[0;32m~/.local/lib/python3.10/site-packages/numpy/lib/function_base.py:5444\u001b[0m, in \u001b[0;36mappend\u001b[0;34m(arr, values, axis)\u001b[0m\n\u001b[1;32m   5442\u001b[0m     values \u001b[39m=\u001b[39m ravel(values)\n\u001b[1;32m   5443\u001b[0m     axis \u001b[39m=\u001b[39m arr\u001b[39m.\u001b[39mndim\u001b[39m-\u001b[39m\u001b[39m1\u001b[39m\n\u001b[0;32m-> 5444\u001b[0m \u001b[39mreturn\u001b[39;00m concatenate((arr, values), axis\u001b[39m=\u001b[39;49maxis)\n",
      "File \u001b[0;32m<__array_function__ internals>:180\u001b[0m, in \u001b[0;36mconcatenate\u001b[0;34m(*args, **kwargs)\u001b[0m\n",
      "\u001b[0;31mValueError\u001b[0m: all the input arrays must have same number of dimensions, but the array at index 0 has 2 dimension(s) and the array at index 1 has 1 dimension(s)"
     ]
    }
   ],
   "source": [
    "print(np.append(arr, [1, 1, 1], axis=0))\n"
   ]
  },
  {
   "cell_type": "code",
   "execution_count": 29,
   "metadata": {},
   "outputs": [
    {
     "name": "stdout",
     "output_type": "stream",
     "text": [
      "[[4 5 2]\n",
      " [6 7 2]\n",
      " [1 0 8]\n",
      " [1 1 1]]\n"
     ]
    }
   ],
   "source": [
    "print(np.append(arr, [[1, 1, 1]], axis=0))\n"
   ]
  },
  {
   "cell_type": "code",
   "execution_count": 32,
   "metadata": {},
   "outputs": [
    {
     "name": "stdout",
     "output_type": "stream",
     "text": [
      "[[4 5 2 1]\n",
      " [6 7 2 1]\n",
      " [1 0 8 1]]\n"
     ]
    }
   ],
   "source": [
    "print(np.append(arr, [[1], [1], [1]], axis=1))\n"
   ]
  },
  {
   "cell_type": "code",
   "execution_count": 33,
   "metadata": {},
   "outputs": [
    {
     "name": "stdout",
     "output_type": "stream",
     "text": [
      "[[4 5 2 1 2]\n",
      " [6 7 2 1 2]\n",
      " [1 0 8 1 2]]\n"
     ]
    }
   ],
   "source": [
    "print(np.append(arr, [[1, 2], [1, 2], [1, 2]], axis=1))\n"
   ]
  },
  {
   "cell_type": "code",
   "execution_count": 41,
   "metadata": {},
   "outputs": [
    {
     "name": "stdout",
     "output_type": "stream",
     "text": [
      "[[4 5 2 2 6 1]\n",
      " [6 7 2 5 5 6]\n",
      " [1 0 8 4 5 8]]\n"
     ]
    }
   ],
   "source": [
    "#\n",
    "print(np.append(arr, [arr1[0], arr1[1], arr1[2]], axis=1))\n"
   ]
  },
  {
   "cell_type": "code",
   "execution_count": 43,
   "metadata": {},
   "outputs": [
    {
     "name": "stdout",
     "output_type": "stream",
     "text": [
      "[[4 5 2 2 5 4]\n",
      " [6 7 2 6 5 5]\n",
      " [1 0 8 1 6 8]]\n"
     ]
    }
   ],
   "source": [
    "print(np.append(arr, [arr1.transpose()[0],\n",
    "      arr1.transpose()[1], arr1.transpose()[2]], axis=1))\n"
   ]
  },
  {
   "cell_type": "code",
   "execution_count": 44,
   "metadata": {},
   "outputs": [
    {
     "name": "stdout",
     "output_type": "stream",
     "text": [
      "[[4 5 2]\n",
      " [6 7 2]\n",
      " [1 0 8]\n",
      " [2 6 1]\n",
      " [5 5 6]\n",
      " [4 5 8]]\n"
     ]
    }
   ],
   "source": [
    "print(np.append(arr, [arr1[0], arr1[1], arr1[2]], axis=0))\n"
   ]
  },
  {
   "cell_type": "markdown",
   "metadata": {},
   "source": [
    "# 26/09/22\n"
   ]
  },
  {
   "cell_type": "code",
   "execution_count": 9,
   "metadata": {},
   "outputs": [],
   "source": [
    "import numpy as np"
   ]
  },
  {
   "cell_type": "code",
   "execution_count": 5,
   "metadata": {},
   "outputs": [
    {
     "name": "stdout",
     "output_type": "stream",
     "text": [
      "[[2 3 5]\n",
      " [2 6 7]\n",
      " [8 9 1]]\n",
      "[[5 7 5]\n",
      " [1 6 6]\n",
      " [9 0 2]]\n"
     ]
    }
   ],
   "source": [
    "arr = np.array([[2, 3, 5], [2, 6, 7], [8, 9, 1]])\n",
    "arr1 = np.array([[5, 7, 5], [1, 6, 6], [9, 0, 2]])\n",
    "print(arr)\n",
    "print(arr1)\n"
   ]
  },
  {
   "cell_type": "code",
   "execution_count": 7,
   "metadata": {},
   "outputs": [
    {
     "name": "stdout",
     "output_type": "stream",
     "text": [
      "[[2 3 5]\n",
      " [2 6 7]\n",
      " [8 9 1]\n",
      " [5 7 5]\n",
      " [1 6 6]\n",
      " [9 0 2]]\n",
      "[[2 3 5 5 7 5]\n",
      " [2 6 7 1 6 6]\n",
      " [8 9 1 9 0 2]]\n"
     ]
    }
   ],
   "source": [
    "# merge\n",
    "arr2 = np.concatenate((arr, arr1))\n",
    "print(arr2)\n",
    "arr2 = np.concatenate((arr, arr1), axis=1)\n",
    "print(arr2)\n"
   ]
  },
  {
   "cell_type": "code",
   "execution_count": 11,
   "metadata": {},
   "outputs": [
    {
     "name": "stdout",
     "output_type": "stream",
     "text": [
      "[[0.11848746 0.33293609 0.71880779]\n",
      " [0.07111922 0.4185765  0.37369739]\n",
      " [0.83466946 0.38796372 0.80047066]\n",
      " [0.79728669 0.83594798 0.53436226]]\n",
      "[[17 10 15]\n",
      " [19 16 10]\n",
      " [11 17 13]\n",
      " [18 16 14]]\n"
     ]
    }
   ],
   "source": [
    "# random number arr\n",
    "arr = np.random.rand(4, 3)  # values bw 0 and 1\n",
    "print(arr)\n",
    "arr = np.random.randint(10, 20, (4, 3))  # values bw 10 and 20\n",
    "print(arr)\n"
   ]
  },
  {
   "cell_type": "code",
   "execution_count": 16,
   "metadata": {},
   "outputs": [
    {
     "name": "stdout",
     "output_type": "stream",
     "text": [
      "['hello hello hello hello hello ' 'how how how how how ' 'r r r r r '\n",
      " 'u u u u u ']\n",
      "['hello ***' 'how ***' 'r ***' 'u ***']\n"
     ]
    }
   ],
   "source": [
    "# multiply string with int\n",
    "arr = np.array(['hello ', 'how ', 'r ', 'u '])\n",
    "print(np.char.multiply(arr, 5))\n",
    "# add strint to stirng arr\n",
    "print(np.char.add(arr, '***'))\n"
   ]
  },
  {
   "cell_type": "code",
   "execution_count": 20,
   "metadata": {},
   "outputs": [
    {
     "name": "stdout",
     "output_type": "stream",
     "text": [
      "[['hello' 'hey']\n",
      " ['how' 'hi']]\n",
      "[[7 7]\n",
      " [8 7]]\n"
     ]
    }
   ],
   "source": [
    "a = np.array([['hello', 'hey'], ['how', 'hi']])\n",
    "c = np.array([[' how r u', ' welcome'], ['how r u', 'i am ur friend']])\n",
    "b = np.random.randint(2, 10, (2, 2))\n",
    "print(a)\n",
    "print(b)\n"
   ]
  },
  {
   "cell_type": "code",
   "execution_count": 19,
   "metadata": {},
   "outputs": [
    {
     "name": "stdout",
     "output_type": "stream",
     "text": [
      "[['hellohellohellohellohellohellohellohello' 'heyheyheyheyhey']\n",
      " ['howhowhow' 'rrrr']]\n"
     ]
    }
   ],
   "source": [
    "d = np.char.multiply(a, b)\n",
    "print(d)\n"
   ]
  },
  {
   "cell_type": "code",
   "execution_count": 21,
   "metadata": {},
   "outputs": [
    {
     "name": "stdout",
     "output_type": "stream",
     "text": [
      "[['hello how r u' 'hey welcome']\n",
      " ['howhow r u' 'hii am ur friend']]\n"
     ]
    }
   ],
   "source": [
    "d = np.char.add(a, c)\n",
    "print(d)\n"
   ]
  },
  {
   "cell_type": "code",
   "execution_count": 23,
   "metadata": {},
   "outputs": [
    {
     "name": "stdout",
     "output_type": "stream",
     "text": [
      "[[ 1  2  5]\n",
      " [ 4  6  8]\n",
      " [ 6 12 78]]\n"
     ]
    }
   ],
   "source": [
    "arr = np.array([[1, 2, 5], [4, 6, 8], [6, 12, 78]])\n",
    "print(arr)\n"
   ]
  },
  {
   "cell_type": "code",
   "execution_count": 28,
   "metadata": {},
   "outputs": [
    {
     "name": "stdout",
     "output_type": "stream",
     "text": [
      "ANY\n",
      "False\n",
      "[False  True False]\n",
      "[False  True  True]\n",
      "ALL\n",
      "True\n"
     ]
    }
   ],
   "source": [
    "print('ANY')\n",
    "print(np.all(arr % 2 == 0))  # for whole arr\n",
    "print(np.all(arr % 2 == 0, axis=0))  # for column\n",
    "print(np.all(arr % 2 == 0, axis=1))  # for row\n",
    "\n",
    "print('ALL')\n",
    "print(np.any(arr % 2 == 0))  # for any one\n"
   ]
  },
  {
   "cell_type": "markdown",
   "metadata": {},
   "source": [
    "**Indexing and Slicing**\n"
   ]
  },
  {
   "cell_type": "code",
   "execution_count": 41,
   "metadata": {},
   "outputs": [
    {
     "name": "stdout",
     "output_type": "stream",
     "text": [
      "[[ 1  2  5]\n",
      " [ 4  6  8]\n",
      " [ 6 12 78]]\n",
      "\n",
      "[1 2 5]\n",
      "5\n",
      "[[1 2 5]\n",
      " [4 6 8]]\n",
      "\n",
      "[1 4 6]\n",
      "8\n",
      "\n",
      "[4 6 8]\n",
      "\n",
      "[[ 1  2]\n",
      " [ 4  6]\n",
      " [ 6 12]]\n",
      "\n",
      "[[ 2  5]\n",
      " [ 6  8]\n",
      " [12 78]]\n"
     ]
    }
   ],
   "source": [
    "# indexing\n",
    "print(arr)\n",
    "print()\n",
    "print(arr[0])\n",
    "print(arr[0][2])\n",
    "print(arr[0:2])  # 1st and 2nd row\n",
    "print()\n",
    "print(arr[:, 0])  # all row and 1st column\n",
    "\n",
    "print(arr[1, 2])  # row index 1 index 2\n",
    "print()\n",
    "print(arr[1, :])\n",
    "print()\n",
    "print(arr[:, 0:2])\n",
    "print()\n",
    "print(arr[:, 1:])\n"
   ]
  },
  {
   "cell_type": "code",
   "execution_count": 47,
   "metadata": {},
   "outputs": [
    {
     "name": "stdout",
     "output_type": "stream",
     "text": [
      "1\n"
     ]
    }
   ],
   "source": [
    "a = np.all(arr % 2 == 0, axis=0)\n",
    "b = np.all(arr % 2 == 0, axis=1)\n",
    "\n",
    "\n",
    "a = list(a)\n",
    "print(a.index(True))\n"
   ]
  },
  {
   "cell_type": "code",
   "execution_count": 49,
   "metadata": {},
   "outputs": [],
   "source": [
    "a = np.nonzero(arr % 2 == 0)\n",
    "# array(row number), array(column number)\n"
   ]
  },
  {
   "cell_type": "code",
   "execution_count": 51,
   "metadata": {},
   "outputs": [
    {
     "name": "stdout",
     "output_type": "stream",
     "text": [
      "[0 1 1 1 2 2 2]\n",
      "[1 0 1 2 0 1 2]\n",
      "[(0, 1), (1, 0), (1, 1), (1, 2), (2, 0), (2, 1), (2, 2)]\n"
     ]
    }
   ],
   "source": [
    "print(a[0])\n",
    "print(a[1])\n",
    "\n",
    "a = list(zip(a[0], a[1]))\n",
    "print(a)\n"
   ]
  },
  {
   "cell_type": "code",
   "execution_count": 55,
   "metadata": {},
   "outputs": [
    {
     "name": "stdout",
     "output_type": "stream",
     "text": [
      "[[False False False]\n",
      " [False False False]\n",
      " [False  True  True]]\n"
     ]
    }
   ],
   "source": [
    "# and/or/not operation on np\n",
    "# & | !\n",
    "\n",
    "print((arr % 2 == 0) & (arr >= 10))\n"
   ]
  },
  {
   "cell_type": "code",
   "execution_count": 71,
   "metadata": {},
   "outputs": [
    {
     "name": "stdout",
     "output_type": "stream",
     "text": [
      "(5, 5)\n",
      "[[ 5  3  6 78  3]\n",
      " [18 12 34 12  9]\n",
      " [56 53 52 18  7]\n",
      " [16 17 18 20  1]\n",
      " [ 1  3  6 14  1]]\n"
     ]
    }
   ],
   "source": [
    "a = np.array([[5, 3, 6, 78, 3], [18, 12, 34, 12, 9], [\n",
    "             56, 53, 52, 18, 7], [16, 17, 18, 20, 1], [1, 3, 6, 14, 1]])\n",
    "print(a.shape)\n",
    "print(a)\n"
   ]
  },
  {
   "cell_type": "code",
   "execution_count": 64,
   "metadata": {},
   "outputs": [
    {
     "name": "stdout",
     "output_type": "stream",
     "text": [
      "(array([0, 1, 1, 1, 1, 2, 2, 2, 3, 3, 3, 4]), array([3, 0, 1, 2, 3, 0, 2, 3, 0, 2, 3, 4]))\n",
      "[(0, 3), (1, 0), (1, 1), (1, 2), (1, 3), (2, 0), (2, 2), (2, 3), (3, 0), (3, 2), (3, 3), (4, 4)]\n"
     ]
    }
   ],
   "source": [
    "b = np.nonzero((a % 2 == 0) & (a >= 10))\n",
    "\n",
    "print(b)\n",
    "# print(c)\n",
    "b = list(zip(b[0], b[1]))\n",
    "print(b)\n"
   ]
  },
  {
   "cell_type": "code",
   "execution_count": 74,
   "metadata": {},
   "outputs": [
    {
     "name": "stdout",
     "output_type": "stream",
     "text": [
      "[3]\n"
     ]
    }
   ],
   "source": [
    "b = np.nonzero(np.all((a >= 10) & (a % 2 == 0), axis=0))\n",
    "print(b[0])\n"
   ]
  },
  {
   "cell_type": "markdown",
   "metadata": {},
   "source": [
    "# 27/09/22\n"
   ]
  },
  {
   "cell_type": "code",
   "execution_count": 2,
   "metadata": {},
   "outputs": [
    {
     "name": "stdout",
     "output_type": "stream",
     "text": [
      "[[3 2 5]\n",
      " [6 3 2]\n",
      " [6 4 3]]\n",
      "[[3]\n",
      " [6]\n",
      " [6]]\n",
      "[[3]\n",
      " [6]\n",
      " [6]]\n",
      "[[3 5]\n",
      " [6 2]\n",
      " [6 3]]\n"
     ]
    }
   ],
   "source": [
    "import numpy as np\n",
    "\n",
    "arr = np.array([[3, 2, 5], [6, 3, 2], [6, 4, 3]])\n",
    "print(arr)\n",
    "print(arr[:, [0]])\n",
    "print(arr[:, 0:1])\n",
    "print(arr[:, [0, 2]])\n"
   ]
  },
  {
   "cell_type": "code",
   "execution_count": 7,
   "metadata": {},
   "outputs": [
    {
     "name": "stdout",
     "output_type": "stream",
     "text": [
      "[3 5]\n"
     ]
    }
   ],
   "source": [
    "print(arr[[0, 0], [0, 2]])\n"
   ]
  },
  {
   "cell_type": "code",
   "execution_count": 11,
   "metadata": {},
   "outputs": [
    {
     "name": "stdout",
     "output_type": "stream",
     "text": [
      "(array([0, 1, 1, 2, 2]), array([1, 0, 2, 0, 1]))\n",
      "[0 1 1 2 2]\n",
      "[1 0 2 0 1]\n"
     ]
    }
   ],
   "source": [
    "temp = np.nonzero(arr % 2 == 0)\n",
    "print(temp)\n",
    "print(temp[0])\n",
    "print(temp[1])\n"
   ]
  },
  {
   "cell_type": "markdown",
   "metadata": {},
   "source": [
    "**Masking**\n"
   ]
  },
  {
   "cell_type": "code",
   "execution_count": 12,
   "metadata": {},
   "outputs": [
    {
     "name": "stdout",
     "output_type": "stream",
     "text": [
      "[2 6 2 6 4]\n"
     ]
    }
   ],
   "source": [
    "print(arr[temp[0], temp[1]])  # masking\n"
   ]
  },
  {
   "cell_type": "code",
   "execution_count": 13,
   "metadata": {},
   "outputs": [
    {
     "name": "stdout",
     "output_type": "stream",
     "text": [
      "[[False  True False]\n",
      " [ True False  True]\n",
      " [ True  True False]]\n"
     ]
    }
   ],
   "source": [
    "temp = arr % 2 == 0\n",
    "print(temp)\n"
   ]
  },
  {
   "cell_type": "code",
   "execution_count": 14,
   "metadata": {},
   "outputs": [
    {
     "data": {
      "text/plain": [
       "array([2, 6, 2, 6, 4])"
      ]
     },
     "execution_count": 14,
     "metadata": {},
     "output_type": "execute_result"
    }
   ],
   "source": [
    "arr[temp]\n"
   ]
  },
  {
   "cell_type": "code",
   "execution_count": 30,
   "metadata": {},
   "outputs": [
    {
     "name": "stdout",
     "output_type": "stream",
     "text": [
      "[[ 2  2 54]\n",
      " [ 6  3  2]\n",
      " [ 6  4  6]]\n"
     ]
    }
   ],
   "source": [
    "arr = np.array([[2, 2, 54], [6, 3, 2], [6, 4, 6]])\n",
    "print(arr)\n"
   ]
  },
  {
   "cell_type": "code",
   "execution_count": 31,
   "metadata": {},
   "outputs": [
    {
     "name": "stdout",
     "output_type": "stream",
     "text": [
      "[0 2]\n"
     ]
    }
   ],
   "source": [
    "temp = np.nonzero(np.all(arr % 2 == 0, axis=0))\n",
    "print(temp[0])\n"
   ]
  },
  {
   "cell_type": "code",
   "execution_count": 35,
   "metadata": {},
   "outputs": [
    {
     "name": "stdout",
     "output_type": "stream",
     "text": [
      "[[ 2 54]\n",
      " [ 6  2]\n",
      " [ 6  6]]\n"
     ]
    }
   ],
   "source": [
    "print(arr[:, temp[0]])\n"
   ]
  },
  {
   "cell_type": "code",
   "execution_count": 37,
   "metadata": {},
   "outputs": [
    {
     "name": "stdout",
     "output_type": "stream",
     "text": [
      "(array([0, 0, 0, 1, 1, 2, 2, 2]), array([0, 1, 2, 0, 2, 0, 1, 2]))\n",
      "[(0, 0), (0, 1), (0, 2), (1, 0), (1, 2), (2, 0), (2, 1), (2, 2)]\n"
     ]
    }
   ],
   "source": [
    "temp = np.where(arr % 2 == 0)\n",
    "print(temp)\n",
    "l = list(zip(temp[0], temp[1]))\n",
    "print(l)\n"
   ]
  },
  {
   "cell_type": "code",
   "execution_count": 39,
   "metadata": {},
   "outputs": [
    {
     "name": "stdout",
     "output_type": "stream",
     "text": [
      "[[ True  True  True]\n",
      " [ True False  True]\n",
      " [ True  True  True]]\n"
     ]
    }
   ],
   "source": [
    "temp = np.where(arr % 2 == 0, True, False)  # cannot be done using nonzero()\n",
    "print(temp)\n"
   ]
  },
  {
   "cell_type": "code",
   "execution_count": 40,
   "metadata": {},
   "outputs": [
    {
     "name": "stdout",
     "output_type": "stream",
     "text": [
      "[[6 5 6]\n",
      " [4 2 4]\n",
      " [4 5 6]]\n"
     ]
    }
   ],
   "source": [
    "arr = np.array([[3, 2, 5], [6, 3, 2], [6, 4, 3]])\n",
    "print(np.where(arr % 2 == 0, [[4, 5, 4],\n",
    "                              [4, 5, 4],\n",
    "                              [4, 5, 4]], [[6, 2, 6],\n",
    "                                           [6, 2, 6],\n",
    "                                           [6, 2, 6]]))\n"
   ]
  },
  {
   "cell_type": "code",
   "execution_count": 45,
   "metadata": {},
   "outputs": [
    {
     "name": "stdout",
     "output_type": "stream",
     "text": [
      "[0 2]\n"
     ]
    }
   ],
   "source": [
    "arr = np.array([[2, 2, 4], [6, 3, 2], [6, 4, 6]])\n",
    "\n",
    "# print(np.where(arr%2==0))\n",
    "temp = np.where(np.all(arr % 2 == 0, axis=0))[0]\n",
    "print(temp)\n",
    "#  print 1 on where whole column is even\n",
    "# np.where()\n"
   ]
  },
  {
   "cell_type": "code",
   "execution_count": 57,
   "metadata": {},
   "outputs": [
    {
     "name": "stdout",
     "output_type": "stream",
     "text": [
      "[[False False  True]\n",
      " [False  True False]\n",
      " [ True  True  True]]\n",
      "[[1 2 4]\n",
      " [1 3 2]\n",
      " [5 4 5]]\n"
     ]
    }
   ],
   "source": [
    "arr = np.array([[0, 2, 4], [0, 3, 2], [6, 4, 6]])\n",
    "# clip function\n",
    "print(arr >= 3)\n",
    "# any value <1 will be set to one, any value >5 will become 5\n",
    "print(np.clip(arr, 1, 5))\n"
   ]
  },
  {
   "cell_type": "code",
   "execution_count": 63,
   "metadata": {},
   "outputs": [
    {
     "name": "stdout",
     "output_type": "stream",
     "text": [
      "[(0, 0), (0, 1), (0, 2), (1, 0), (1, 2), (2, 0), (2, 1), (2, 2)]\n"
     ]
    }
   ],
   "source": [
    "arr = np.array([[2, 2, 0], [0, 3, 2], [6, 4, 6]])\n",
    "\n",
    "row = np.where(arr % 2 == 0)[0]\n",
    "column = np.where(arr % 2 == 0)[1]\n",
    "print(list(zip(row, column)))\n"
   ]
  },
  {
   "cell_type": "code",
   "execution_count": 64,
   "metadata": {},
   "outputs": [
    {
     "name": "stdout",
     "output_type": "stream",
     "text": [
      "[[0 0]\n",
      " [0 1]\n",
      " [0 2]\n",
      " [1 0]\n",
      " [1 2]\n",
      " [2 0]\n",
      " [2 1]\n",
      " [2 2]]\n"
     ]
    }
   ],
   "source": [
    "a = np.argwhere(arr % 2 == 0)\n",
    "print(a)\n"
   ]
  },
  {
   "cell_type": "code",
   "execution_count": 70,
   "metadata": {},
   "outputs": [
    {
     "name": "stdout",
     "output_type": "stream",
     "text": [
      "[2 3]\n",
      "[[ 2  2  2  4  8]\n",
      " [ 6  3  2 10 16]\n",
      " [ 6  4  6 10 19]\n",
      " [ 9  4 10 10 22]]\n"
     ]
    }
   ],
   "source": [
    "import numpy as np\n",
    "arr = np.array([[2, 2, 0, 4, 8], [6, 3, 2, 12, 16], [\n",
    "               6, 4, 6, 14, 19], [9, 4, 14, 12, 22]])\n",
    "col = np.where(np.all(arr % 2 == 0, axis=0))[0]\n",
    "print(col)\n",
    "arr[:, col] = np.clip(arr[:, col], 2, 10)\n",
    "print(arr)\n"
   ]
  },
  {
   "cell_type": "code",
   "execution_count": 78,
   "metadata": {},
   "outputs": [
    {
     "name": "stdout",
     "output_type": "stream",
     "text": [
      "[[ 2  2  0  4  8]\n",
      " [ 6  3  2 12 16]\n",
      " [ 6  4  6 14 19]\n",
      " [ 9  4 14 12 22]]\n",
      "[[ 2  2  2  4  8]\n",
      " [ 6  3  2 10 16]\n",
      " [ 6  4  6 10 19]\n",
      " [ 9  4 10 10 22]]\n"
     ]
    }
   ],
   "source": [
    "\n",
    "arr = np.array([[2, 2, 0, 4, 8], [6, 3, 2, 12, 16], [\n",
    "               6, 4, 6, 14, 19], [9, 4, 14, 12, 22]])\n",
    "print(arr)\n",
    "arr[:, np.where(np.all(arr % 2 == 0, axis=0))[0]] = np.clip(\n",
    "    arr[:, np.where(np.all(arr % 2 == 0, axis=0))[0]], 2, 10)\n",
    "print(arr)\n"
   ]
  },
  {
   "cell_type": "code",
   "execution_count": 10,
   "metadata": {},
   "outputs": [
    {
     "name": "stdout",
     "output_type": "stream",
     "text": [
      "[[ 2  2  0  4  8]\n",
      " [ 6  3  2 12 16]\n",
      " [ 6  4  6 14 19]\n",
      " [ 9  4 14 12 22]\n",
      " [ 1  3  5  1 45]]\n",
      "68\n",
      "31\n"
     ]
    }
   ],
   "source": [
    "# arr=nxn n is odd\n",
    "# \n",
    "\n",
    "arr = np.array([[2, 2, 0, 4, 8], [6, 3, 2, 12, 16], [\n",
    "               6, 4, 6, 14, 19], [9, 4, 14, 12, 22],[1,3,5,1,45]])\n",
    "print(arr)\n",
    "\n",
    "print(sum(arr[[i for i in range(len(arr[0]))],[i for i in range(len(arr))]]))\n",
    "print(sum(arr[[i for i in range(len(arr[0]))],[i for i in range(len(arr)-1,-1,-1)]]))"
   ]
  },
  {
   "cell_type": "code",
   "execution_count": 3,
   "metadata": {},
   "outputs": [
    {
     "name": "stdout",
     "output_type": "stream",
     "text": [
      "00 01 02 03 04 05 06 \n",
      "10 11 12 13 14 15 16 \n",
      "20 21 22 23 24 25 26 \n",
      "30 31 32 33 34 35 36 \n",
      "40 41 42 43 44 45 46 \n",
      "50 51 52 53 54 55 56 \n",
      "60 61 62 63 64 65 66 \n",
      "[[ 6 45 38  0  3 11 34]\n",
      " [ 0 35 29 21 21 32 31]\n",
      " [23  5  4 26 34 34 12]\n",
      " [20 35 24 12 24  7 21]\n",
      " [ 8  6 28  8  8 26  9]\n",
      " [46 48 26 23 35 18 39]\n",
      " [31 27 43 41 30 33 40]]\n"
     ]
    }
   ],
   "source": [
    "for i in range(7):\n",
    "    for j in range(7):\n",
    "        print(f\"{i}{j} \",end=\"\")\n",
    "    print()\n",
    "arr=np.random.randint(0,49,(7,7))\n",
    "print(arr)"
   ]
  },
  {
   "cell_type": "code",
   "execution_count": 56,
   "metadata": {},
   "outputs": [
    {
     "name": "stdout",
     "output_type": "stream",
     "text": [
      "315\n"
     ]
    }
   ],
   "source": [
    "print(sum(arr[[i for i in range(len(arr)//2+1)], [i for i in range(len(arr)//2, -1, -1)]])+\n",
    "sum(arr[[i for i in range(len(arr)//2, len(arr))],[i for i in range(len(arr)-1, len(arr)//2-1, -1)]])+\n",
    "sum(arr[[i for i in range(1,len(arr)//2)],[i for i in range(len(arr)//2+1,len(arr)-1)]])+\n",
    "sum(arr[[i for i in range(len(arr)//2+1,len(arr)-1)],[i for i in range(1,len(arr)//2)]]))"
   ]
  },
  {
   "cell_type": "code",
   "execution_count": 5,
   "metadata": {},
   "outputs": [
    {
     "name": "stdout",
     "output_type": "stream",
     "text": [
      "[21 26 35 41] [21 26 35 41] [21 34] [ 6 26]\n"
     ]
    }
   ],
   "source": [
    "print(arr[[i for i in range(len(arr)//2, len(arr))],[i for i in range(len(arr)-1, len(arr)//2-1, -1)]],\n",
    "arr[[i for i in range(len(arr)//2, len(arr))],[i for i in range(len(arr)-1, len(arr)//2-1, -1)]],\n",
    "arr[[i for i in range(1, len(arr)//2)],\n",
    "    [i for i in range(len(arr)//2+1, len(arr)-1)]],\n",
    "arr[[i for i in range(len(arr)//2+1,len(arr)-1)],[i for i in range(1,len(arr)//2)]])"
   ]
  },
  {
   "cell_type": "markdown",
   "metadata": {},
   "source": [
    "# 28/09/22"
   ]
  },
  {
   "cell_type": "code",
   "execution_count": 6,
   "metadata": {},
   "outputs": [
    {
     "name": "stdout",
     "output_type": "stream",
     "text": [
      "[[ 0  1  2]\n",
      " [ 3  4  5]\n",
      " [ 6  7  8]\n",
      " [ 9 10 11]\n",
      " [12 13 14]]\n"
     ]
    }
   ],
   "source": [
    "import numpy as np\n",
    "\n",
    "arr=np.arange(15).reshape(5,3)\n",
    "print(arr)"
   ]
  },
  {
   "cell_type": "code",
   "execution_count": 9,
   "metadata": {},
   "outputs": [
    {
     "name": "stdout",
     "output_type": "stream",
     "text": [
      "[ 1  2  3  4  5  6  7  8  9 10 11 12 13 14]\n",
      "[ 2  3  4  5  6  8  9 10 11 12 13 14]\n"
     ]
    }
   ],
   "source": [
    "# deletion\n",
    "\n",
    "print(np.delete(arr,0)) # array , index\n",
    "print(np.delete(arr, [0,1,7])) # array, list of index"
   ]
  },
  {
   "cell_type": "code",
   "execution_count": 11,
   "metadata": {},
   "outputs": [
    {
     "name": "stdout",
     "output_type": "stream",
     "text": [
      "[[ 3  4  5]\n",
      " [ 6  7  8]\n",
      " [ 9 10 11]\n",
      " [12 13 14]]\n",
      "[[ 6  7  8]\n",
      " [12 13 14]]\n"
     ]
    }
   ],
   "source": [
    "print(np.delete(arr, [0],axis=0))\n",
    "print(np.delete(arr, [0,1,3],axis=0))"
   ]
  },
  {
   "cell_type": "code",
   "execution_count": 13,
   "metadata": {},
   "outputs": [
    {
     "name": "stdout",
     "output_type": "stream",
     "text": [
      "[[ 1  2]\n",
      " [ 4  5]\n",
      " [ 7  8]\n",
      " [10 11]\n",
      " [13 14]]\n",
      "[[ 1]\n",
      " [ 4]\n",
      " [ 7]\n",
      " [10]\n",
      " [13]]\n"
     ]
    }
   ],
   "source": [
    "print(np.delete(arr, [0],axis=1))\n",
    "print(np.delete(arr, [0,2],axis=1))"
   ]
  },
  {
   "cell_type": "code",
   "execution_count": 20,
   "metadata": {},
   "outputs": [
    {
     "name": "stdout",
     "output_type": "stream",
     "text": [
      "[[8 6 8]\n",
      " [2 4 8]\n",
      " [4 4 2]]\n",
      "[2 4 6 8]\n",
      "(array([2, 4, 6, 8]), array([3, 4, 1, 0]))\n"
     ]
    }
   ],
   "source": [
    "# unique method\n",
    "arr=np.random.randint(2,10,(3,3))\n",
    "print(arr)\n",
    "print(np.unique(arr))\n",
    "print(np.unique(arr,return_index=True)) # output: unique value, index of unique values"
   ]
  },
  {
   "cell_type": "code",
   "execution_count": 21,
   "metadata": {},
   "outputs": [
    {
     "name": "stdout",
     "output_type": "stream",
     "text": [
      "(array([2, 4, 6, 8]), array([2, 3, 1, 3]))\n"
     ]
    }
   ],
   "source": [
    "print(np.unique(arr,return_counts=True)) # output: unique values, count"
   ]
  },
  {
   "cell_type": "code",
   "execution_count": 24,
   "metadata": {},
   "outputs": [
    {
     "name": "stdout",
     "output_type": "stream",
     "text": [
      "[[0 1 2]\n",
      " [3 4 5]\n",
      " [6 7 8]]\n",
      "[[0 1 2]\n",
      " [0 1 2]\n",
      " [3 4 5]\n",
      " [3 4 5]\n",
      " [6 7 8]\n",
      " [6 7 8]]\n",
      "[[0 0 1 1 2 2]\n",
      " [3 3 4 4 5 5]\n",
      " [6 6 7 7 8 8]]\n"
     ]
    }
   ],
   "source": [
    "arr=np.arange(9).reshape(3,3)\n",
    "print(arr)\n",
    "# repeate \n",
    "print(np.repeat(arr,2,axis=0))\n",
    "print(np.repeat(arr,2,axis=1))"
   ]
  },
  {
   "cell_type": "code",
   "execution_count": 27,
   "metadata": {},
   "outputs": [
    {
     "name": "stdout",
     "output_type": "stream",
     "text": [
      "[[0 1 2]\n",
      " [3 4 5]\n",
      " [6 7 8]]\n",
      "[ 0  1  3  6 10 15 21 28 36]\n",
      "[[ 0  1  2]\n",
      " [ 3  5  7]\n",
      " [ 9 12 15]]\n",
      "[[ 0  1  3]\n",
      " [ 3  7 12]\n",
      " [ 6 13 21]]\n"
     ]
    }
   ],
   "source": [
    "# cumulative sum\n",
    "print(arr)\n",
    "print(np.cumsum(arr))\n",
    "print(np.cumsum(arr,axis=0))\n",
    "print(np.cumsum(arr,axis=1))"
   ]
  },
  {
   "cell_type": "code",
   "execution_count": null,
   "metadata": {},
   "outputs": [],
   "source": [
    "# store array in mysql in table"
   ]
  },
  {
   "cell_type": "markdown",
   "metadata": {},
   "source": [
    "## Pandas"
   ]
  },
  {
   "cell_type": "code",
   "execution_count": null,
   "metadata": {},
   "outputs": [],
   "source": [
    "import pandas as pd\n",
    "import numpy as np\n"
   ]
  },
  {
   "cell_type": "markdown",
   "metadata": {},
   "source": [
    "**Continued on basics_4.ipynb**"
   ]
  },
  {
   "cell_type": "markdown",
   "metadata": {},
   "source": []
  }
 ],
 "metadata": {
  "kernelspec": {
   "display_name": "Python 3.10.6 64-bit",
   "language": "python",
   "name": "python3"
  },
  "language_info": {
   "codemirror_mode": {
    "name": "ipython",
    "version": 3
   },
   "file_extension": ".py",
   "mimetype": "text/x-python",
   "name": "python",
   "nbconvert_exporter": "python",
   "pygments_lexer": "ipython3",
   "version": "3.10.6"
  },
  "orig_nbformat": 4,
  "vscode": {
   "interpreter": {
    "hash": "e7370f93d1d0cde622a1f8e1c04877d8463912d04d973331ad4851f04de6915a"
   }
  }
 },
 "nbformat": 4,
 "nbformat_minor": 2
}
