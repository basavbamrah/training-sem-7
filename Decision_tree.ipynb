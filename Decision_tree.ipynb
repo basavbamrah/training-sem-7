{
 "cells": [
  {
   "cell_type": "markdown",
   "metadata": {},
   "source": [
    "# 03/11/22"
   ]
  },
  {
   "cell_type": "markdown",
   "metadata": {},
   "source": [
    "# **Decision Tree**"
   ]
  },
  {
   "cell_type": "markdown",
   "metadata": {},
   "source": [
    "Entropy is a measure of the impurity of a set of examples. The entropy of a set of examples is zero if all the examples are in the same class. The entropy of a set of examples is high if the examples are split among many classes. The entropy of a set of examples is high if the examples are split among many classes. The entropy of a set of examples is high if the examples are split among many classes.\n",
    "\n",
    "The information gain is the difference between the entropy of the parent node and the weighted average of the entropy of the child nodes. The information gain is the difference between the entropy of the parent node and the weighted average of the entropy of the child nodes. The information gain is the difference between the entropy of the parent node and the weighted average of the entropy of the child nodes. The information gain is the difference between the entropy of the parent node and the weighted average of the entropy of the child nodes."
   ]
  },
  {
   "cell_type": "markdown",
   "metadata": {},
   "source": [
    "Entropy is the measure of uncertainty in data (entropy=0 when fully certain).\n",
    "\n",
    "\n"
   ]
  },
  {
   "cell_type": "code",
   "execution_count": null,
   "metadata": {},
   "outputs": [],
   "source": []
  },
  {
   "cell_type": "code",
   "execution_count": null,
   "metadata": {},
   "outputs": [],
   "source": []
  }
 ],
 "metadata": {
  "language_info": {
   "name": "python"
  },
  "orig_nbformat": 4
 },
 "nbformat": 4,
 "nbformat_minor": 2
}
