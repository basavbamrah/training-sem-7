{
 "cells": [
  {
   "cell_type": "markdown",
   "metadata": {},
   "source": [
    "# 03/11/22"
   ]
  },
  {
   "cell_type": "markdown",
   "metadata": {},
   "source": [
    "# **Decision Tree**"
   ]
  },
  {
   "cell_type": "markdown",
   "metadata": {},
   "source": [
    "Entropy is a measure of the impurity of a set of examples. The entropy of a set of examples is zero if all the examples are in the same class. The entropy of a set of examples is high if the examples are split among many classes. The entropy of a set of examples is high if the examples are split among many classes. The entropy of a set of examples is high if the examples are split among many classes.\n",
    "\n",
    "The information gain is the difference between the entropy of the parent node and the weighted average of the entropy of the child nodes. The information gain is the difference between the entropy of the parent node and the weighted average of the entropy of the child nodes. The information gain is the difference between the entropy of the parent node and the weighted average of the entropy of the child nodes. The information gain is the difference between the entropy of the parent node and the weighted average of the entropy of the child nodes."
   ]
  },
  {
   "cell_type": "markdown",
   "metadata": {},
   "source": [
    "Entropy is the measure of uncertainty in data (entropy=0 when fully certain).\n",
    "\n",
    "\n"
   ]
  },
  {
   "cell_type": "code",
   "execution_count": null,
   "metadata": {},
   "outputs": [],
   "source": []
  },
  {
   "cell_type": "code",
   "execution_count": null,
   "metadata": {},
   "outputs": [],
   "source": []
  }
 ],
 "metadata": {
  "kernelspec": {
   "display_name": "Python 3.10.6 64-bit",
   "language": "python",
   "name": "python3"
  },
  "language_info": {
   "name": "python",
   "version": "3.10.7"
  },
  "orig_nbformat": 4,
  "vscode": {
   "interpreter": {
    "hash": "e7370f93d1d0cde622a1f8e1c04877d8463912d04d973331ad4851f04de6915a"
   }
  }
 },
 "nbformat": 4,
 "nbformat_minor": 2
}
