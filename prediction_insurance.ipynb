{
 "cells": [
  {
   "cell_type": "code",
   "execution_count": 1,
   "metadata": {},
   "outputs": [
    {
     "name": "stdout",
     "output_type": "stream",
     "text": [
      "[10036.25134638]\n",
      "ColumnTransformer(remainder='passthrough',\n",
      "                  transformers=[('encode', OneHotEncoder(), [5])])\n"
     ]
    }
   ],
   "source": [
    "import pandas as pd\n",
    "import numpy as np\n",
    "import joblib\n",
    "\n",
    "regressor= joblib.load('./regressor_insurance.joblib')\n",
    "\n",
    "age = int(input(\"Enter age\"))\n",
    "gender = input('Enter gender')\n",
    "bmi = float(input('Enter bmi'))\n",
    "child = int(input(\"enter number of children\"))\n",
    "smoker = input('Do u smoke')\n",
    "region = input(\"Enter your Region\")\n",
    "\n",
    "inp = pd.DataFrame({\"age\": [age], \"gender\": [gender], 'bmi': [bmi], 'children': [\n",
    "                   child], 'smoker': [smoker], 'region': [region]})\n",
    "\n",
    "gen=joblib.load('gender.joblib')\n",
    "smoke=joblib.load('smoke.joblib')\n",
    "ct=joblib.load('ct.joblib')\n",
    "sc=joblib.load('sc.joblib')\n",
    "\n",
    "inp['gender']=gen.transform(inp['gender'])\n",
    "inp['smoker']=smoke.transform(inp['smoker'])\n",
    "inp=ct.transform(inp)\n",
    "inp=sc.transform(inp)\n",
    "\n",
    "print(regressor.predict(inp))\n",
    "print(ct)"
   ]
  },
  {
   "cell_type": "code",
   "execution_count": null,
   "metadata": {},
   "outputs": [],
   "source": []
  }
 ],
 "metadata": {
  "kernelspec": {
   "display_name": "Python 3.9.12 ('base')",
   "language": "python",
   "name": "python3"
  },
  "language_info": {
   "codemirror_mode": {
    "name": "ipython",
    "version": 3
   },
   "file_extension": ".py",
   "mimetype": "text/x-python",
   "name": "python",
   "nbconvert_exporter": "python",
   "pygments_lexer": "ipython3",
   "version": "3.9.12"
  },
  "orig_nbformat": 4,
  "vscode": {
   "interpreter": {
    "hash": "73fa04910e3d127807ceeedb19e1b3e59ccb4070037b8d0933101bf9843736ea"
   }
  }
 },
 "nbformat": 4,
 "nbformat_minor": 2
}
