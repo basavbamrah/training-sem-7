{
 "cells": [
  {
   "cell_type": "markdown",
   "metadata": {},
   "source": [
    "# 31/08/22\n"
   ]
  },
  {
   "cell_type": "markdown",
   "metadata": {},
   "source": [
    "**File I/O**\n",
    "\n",
    "<p>\n",
    "    \n",
    "</p>\n"
   ]
  },
  {
   "cell_type": "code",
   "execution_count": 19,
   "metadata": {},
   "outputs": [
    {
     "name": "stdout",
     "output_type": "stream",
     "text": [
      "0\n",
      "['hello this is text file\\n', 'this is line one\\n', 'this is line two\\n', 'thsi id line 3\\n', 'thsi id line 4\\n', '\\n', '\\n', '\\n', '\\n', '\\n'] <class 'list'>\n",
      "103\n",
      "hello this is text file\n",
      "this is line one\n",
      "this is line two\n",
      "thsi id line 3\n",
      "thsi id line 4\n",
      "\n",
      "\n",
      "\n",
      "\n",
      "\n",
      "\n",
      "hello this is text file\n",
      "\n",
      "25\n"
     ]
    }
   ],
   "source": [
    "with open(r'C:\\Users\\DarkLord\\Desktop\\Training\\python\\dummy.txt', 'r') as fl:\n",
    "    # txt=fl.read() # return as string\n",
    "    print(fl.tell())  # tells the location of cursor\n",
    "\n",
    "    txt1 = fl.readlines()  # return in form of list\n",
    "    # print(txt,type(txt))\n",
    "    print(txt1, type(txt1))\n",
    "    # read(), readlines() shifts the cursor as it reads the file\n",
    "\n",
    "    print(fl.tell())\n",
    "    fl.seek(0)  # moves cursor to 0\n",
    "    txt = fl.read()\n",
    "    print(txt)\n",
    "    fl.seek(0)\n",
    "    txt3 = fl.readline()  # reads only one line in form of string\n",
    "    print(txt3)\n",
    "    print(fl.tell())\n",
    "# print(txt) # can be used anywhere\n",
    "\n",
    "fl.close()\n"
   ]
  },
  {
   "cell_type": "code",
   "execution_count": 30,
   "metadata": {},
   "outputs": [
    {
     "name": "stdout",
     "output_type": "stream",
     "text": [
      "['hello this is text file\\n', 'this is line one\\n', 'this is line two\\n', 'thsi id line 3\\n', 'thsi id line 4']\n",
      "this is line two\n",
      "\n",
      "thsi id line 3\n",
      "\n",
      "thsi id line 4\n"
     ]
    }
   ],
   "source": [
    "with open('dummy.txt', 'r') as fl:\n",
    "    # for i in range(3):\n",
    "    #     print(fl.readline())\n",
    "    lst = fl.readlines()\n",
    "    # print(lst)\n",
    "\n",
    "    for i in range(len(lst)-3, len(lst)):\n",
    "        print(lst[i])\n",
    "\n",
    "fl.close()\n"
   ]
  },
  {
   "cell_type": "code",
   "execution_count": 55,
   "metadata": {},
   "outputs": [
    {
     "name": "stdout",
     "output_type": "stream",
     "text": [
      "{'a': 3, 'b': 7, 'c': 2}\n",
      "b\n"
     ]
    }
   ],
   "source": [
    "with open('dummy.txt', 'r') as fl:\n",
    "    lst = fl.readlines()\n",
    "# print(lst)\n",
    "name = []\n",
    "msg = []\n",
    "d = {}\n",
    "for i in lst:\n",
    "    i = i.split(' : ')\n",
    "    # print(i)\n",
    "    name.append(i[0])\n",
    "    msg.append(i[1])\n",
    "\n",
    "for i in range(len(msg)):\n",
    "    msg[i] = msg[i].replace('\\n', \"\").lower()\n",
    "\n",
    "for i in range(len(name)):\n",
    "    if name[i] not in d:\n",
    "        d[name[i]] = list(set(msg[i].split()))\n",
    "\n",
    "    else:\n",
    "        l = d[name[i]]\n",
    "        l.extend(msg[i].split())\n",
    "        l = list(set(l))\n",
    "        d[name[i]] = l\n",
    "\n",
    "for key, value in d.items():\n",
    "    d[key] = len(value)\n",
    "\n",
    "m = max(list(d.values()))\n",
    "print(d)\n",
    "for i in list(d.keys()):\n",
    "    if d[i] == m:\n",
    "        print(i)\n",
    "\n",
    "fl.close()\n",
    "\n",
    "# print(msg)\n"
   ]
  },
  {
   "cell_type": "code",
   "execution_count": 2,
   "metadata": {},
   "outputs": [
    {
     "name": "stdout",
     "output_type": "stream",
     "text": [
      "['hello how are y', 'what are u doing']\n"
     ]
    }
   ],
   "source": [
    "# grp chat in file\n",
    "# prog input name\n",
    "# print name's all msg\n",
    "#  ask more msgs y/n\n",
    "#  not y/n print invalid\n",
    "\n",
    "with open('dummy.txt', 'r') as fl:\n",
    "    lst = fl.readlines()\n",
    "\n",
    "name = []\n",
    "msg = []\n",
    "d = {}\n",
    "for i in lst:\n",
    "    i = i.split(\" : \")\n",
    "    name.append(i[0])\n",
    "    msg.append(i[1])\n",
    "\n",
    "\n",
    "for i in range(len(msg)):\n",
    "    msg[i] = msg[i].replace(\"\\n\", \"\")\n",
    "\n",
    "for i in range(len(name)):\n",
    "    if name[i] not in d:\n",
    "        d[name[i]] = [msg[i]]\n",
    "    else:\n",
    "        d[name[i]].append(msg[i])\n",
    "a = 1\n",
    "while a != 0:\n",
    "    n = input(\"Enter a name: \").strip()\n",
    "    if n in name:\n",
    "        print(d[n])\n",
    "    else:\n",
    "        print(\"Enter a Valid name\")\n",
    "    while True:\n",
    "        t = int(input(\"Enter 0 to stop and 1 to continue: \"))\n",
    "        if t == 1:\n",
    "            break\n",
    "        elif t == 0:\n",
    "            a = 0\n",
    "            break\n",
    "        else:\n",
    "            print(\"Enter a valid number\")\n"
   ]
  },
  {
   "cell_type": "markdown",
   "metadata": {},
   "source": [
    "# 01/09/22\n"
   ]
  },
  {
   "cell_type": "code",
   "execution_count": 6,
   "metadata": {},
   "outputs": [],
   "source": [
    "# write a file\n",
    "with open(r'dummy.txt', 'w') as fl:\n",
    "    txt = 'hello everyone'\n",
    "    fl.write(txt)\n",
    "fl.close()\n",
    "\n",
    "with open(r'new.txt', 'w') as fl:\n",
    "    fl.write(\"hello\")\n"
   ]
  },
  {
   "cell_type": "markdown",
   "metadata": {},
   "source": [
    "**List comprehension**\n"
   ]
  },
  {
   "cell_type": "code",
   "execution_count": 1,
   "metadata": {},
   "outputs": [],
   "source": [
    "with open(r\"dummy.txt\", 'w') as fl:\n",
    "    lst = ['hello ', 'hi ', 'byy']\n",
    "    # fl.write(lst)  will not work\n",
    "    fl.writelines(lst)\n"
   ]
  },
  {
   "cell_type": "code",
   "execution_count": 2,
   "metadata": {},
   "outputs": [
    {
     "name": "stdout",
     "output_type": "stream",
     "text": [
      "[2, 4, 6, 8, 12, 10]\n"
     ]
    }
   ],
   "source": [
    "lst = [1, 2, 3, 4, 6, 5]\n",
    "lst1 = [i*2 for i in lst]\n",
    "# print(lst1)\n",
    "# with open\n"
   ]
  },
  {
   "cell_type": "code",
   "execution_count": 7,
   "metadata": {},
   "outputs": [
    {
     "name": "stdout",
     "output_type": "stream",
     "text": [
      "[2, 4, 6, 8, 10, 12, 14, 16, 18, 20]\n",
      "[1, 3, 5, 7, 9, 11, 13, 15, 17, 19]\n"
     ]
    }
   ],
   "source": [
    "lst = [i for i in range(2, 21, 2)]\n",
    "print(lst)\n",
    "lst = [i for i in range(1, 21, 2)]\n",
    "print(lst)\n"
   ]
  },
  {
   "cell_type": "code",
   "execution_count": 8,
   "metadata": {},
   "outputs": [
    {
     "name": "stdout",
     "output_type": "stream",
     "text": [
      "['a', 'b', 'd']\n",
      "[12, 34, 67]\n"
     ]
    }
   ],
   "source": [
    "lst = [['a', 12], ['b', 34], ['d', 67]]\n",
    "n = [i[0] for i in lst]\n",
    "m = [i[1] for i in lst]\n",
    "print(n)\n",
    "print(m)\n"
   ]
  },
  {
   "cell_type": "code",
   "execution_count": 13,
   "metadata": {},
   "outputs": [
    {
     "name": "stdout",
     "output_type": "stream",
     "text": [
      "['a', 'b', 'c']\n",
      "[12, 34, 67]\n"
     ]
    }
   ],
   "source": [
    "lst = ['a : hello', 'b : hey', 'c : hello everyone']\n",
    "n = [i.split(\" : \")[0] for i in lst]\n",
    "msg = [i.split(' : ')[1] for i in lst]\n",
    "print(n)\n",
    "print(m)\n"
   ]
  },
  {
   "cell_type": "code",
   "execution_count": 15,
   "metadata": {},
   "outputs": [
    {
     "name": "stdout",
     "output_type": "stream",
     "text": [
      "[4, 4, 8]\n",
      "[13, 14, 56, 79, 68.1]\n"
     ]
    }
   ],
   "source": [
    "lst = [1, 2, 1, 3, 1, 2, 3, 4]\n",
    "lst1 = [i*2 for i in lst if i % 2 == 0]\n",
    "print(lst1)\n",
    "\n",
    "lst = [13, 14, 56, 79, 68.100]\n",
    "lst1 = [i for i in lst if i > -50]\n",
    "print(lst1)\n"
   ]
  },
  {
   "cell_type": "code",
   "execution_count": 16,
   "metadata": {},
   "outputs": [
    {
     "name": "stdout",
     "output_type": "stream",
     "text": [
      "[1, 4, 1, 3, 1, 4, 3, 8]\n"
     ]
    }
   ],
   "source": [
    "# lst1=[i*2 for i in lst if i % 2 == 0]\n",
    "lst = [1, 2, 1, 3, 1, 2, 3, 4]\n",
    "lst1 = [i*2 if i % 2 == 0 else i for i in lst]\n",
    "print(lst1)\n"
   ]
  },
  {
   "cell_type": "code",
   "execution_count": 17,
   "metadata": {},
   "outputs": [
    {
     "name": "stdout",
     "output_type": "stream",
     "text": [
      "[1, 2, 3, 4, 5, 7, 8, 9]\n"
     ]
    }
   ],
   "source": [
    "lst = [int(x) for x in input(\"Enter a number: \").split()]\n",
    "print(lst)\n"
   ]
  },
  {
   "cell_type": "code",
   "execution_count": 24,
   "metadata": {},
   "outputs": [
    {
     "name": "stdout",
     "output_type": "stream",
     "text": [
      "[45, '45a', 12, '12b', 13]\n"
     ]
    }
   ],
   "source": [
    "#  lst of numbers\n",
    "# lst = [i   range(input(\"Enter a number\")) for i in  ]\n",
    "lst = ['45', '45a', '12', '12b', '13']\n",
    "lst1 = [int(i) if i.isdigit() else i for i in lst]\n",
    "print(lst1)\n"
   ]
  },
  {
   "cell_type": "code",
   "execution_count": 1,
   "metadata": {},
   "outputs": [
    {
     "name": "stdout",
     "output_type": "stream",
     "text": [
      "[2, 'kjhgf', 5]\n"
     ]
    }
   ],
   "source": [
    "\n",
    "# lst=[int(input('Enter a number')) for i in range(int(input('Enter length of list')))]\n",
    "\n",
    "lst = [int(i) if i.isdigit() else i for i in [input('Enter')\n",
    "                                              for n in range(int(input(\"enter a number\")))]]\n",
    "print(lst)\n"
   ]
  },
  {
   "cell_type": "markdown",
   "metadata": {},
   "source": [
    "# 02/09/22\n"
   ]
  },
  {
   "cell_type": "markdown",
   "metadata": {},
   "source": [
    "**Inline Functions and map**\n"
   ]
  },
  {
   "cell_type": "code",
   "execution_count": 6,
   "metadata": {},
   "outputs": [
    {
     "name": "stdout",
     "output_type": "stream",
     "text": [
      "30\n"
     ]
    }
   ],
   "source": [
    "# def fxn(a, b):\n",
    "#     return a*b\n",
    "\n",
    "\n",
    "# print(fxn(5, 9))\n",
    "\n",
    "def fxn(a, b): return a*b\n",
    "\n",
    "\n",
    "print(fxn(5, 6))\n"
   ]
  },
  {
   "cell_type": "code",
   "execution_count": 10,
   "metadata": {},
   "outputs": [
    {
     "name": "stdout",
     "output_type": "stream",
     "text": [
      "30\n",
      "None\n"
     ]
    }
   ],
   "source": [
    "def sum(a, b): return a*b\n",
    "\n",
    "\n",
    "print(sum(5, 6))\n",
    "\n",
    "# def fxn(a):\n",
    "#     if a%2==0:\n",
    "#         return a*2\n",
    "\n",
    "# print(fxn(30))\n",
    "\n",
    "\n",
    "def fxn(a): return a*2 if a % 2 == 0 else None\n",
    "\n",
    "\n",
    "print(fxn(3))\n"
   ]
  },
  {
   "cell_type": "code",
   "execution_count": 22,
   "metadata": {},
   "outputs": [
    {
     "name": "stdout",
     "output_type": "stream",
     "text": [
      "[2, 6, 2, 6, 8, 10]\n"
     ]
    }
   ],
   "source": [
    "lst = [1, 3, 1, 3, 4, 5]\n",
    "# def fxn(i): #exacctly one parameter if want to use with map\n",
    "#     return i*2\n",
    "\n",
    "# fxn=lambda i : i*2\n",
    "# lst=map(fxn,lst)\n",
    "lst = list(map(lambda i: i*2, lst))\n",
    "print(lst)\n"
   ]
  },
  {
   "cell_type": "code",
   "execution_count": 26,
   "metadata": {},
   "outputs": [
    {
     "name": "stdout",
     "output_type": "stream",
     "text": [
      "[1, 3, 1, 3, 8, 5]\n"
     ]
    }
   ],
   "source": [
    "lst = [1, 3, 1, 3, 4, 5]\n",
    "lst = list(map(lambda i: i*2 if i % 2 == 0 else i, lst))\n",
    "print(lst)\n"
   ]
  },
  {
   "cell_type": "code",
   "execution_count": 27,
   "metadata": {},
   "outputs": [
    {
     "name": "stdout",
     "output_type": "stream",
     "text": [
      "[None, None, None, None, 16, None]\n"
     ]
    }
   ],
   "source": [
    "def fxn(i):\n",
    "    if i % 2 == 0:\n",
    "        return i*2\n",
    "\n",
    "\n",
    "lst = list(map(fxn, lst))\n",
    "print(lst)\n"
   ]
  },
  {
   "cell_type": "code",
   "execution_count": 28,
   "metadata": {},
   "outputs": [
    {
     "name": "stdout",
     "output_type": "stream",
     "text": [
      "[1, 3, 1, 3, 4, 5]\n"
     ]
    }
   ],
   "source": [
    "lst = ['1', '3', '1', '3', '4', '5']\n",
    "\n",
    "lst = list(map(int, lst))\n",
    "print(lst)\n"
   ]
  },
  {
   "cell_type": "code",
   "execution_count": 30,
   "metadata": {},
   "outputs": [
    {
     "name": "stdout",
     "output_type": "stream",
     "text": [
      "[1]\n"
     ]
    }
   ],
   "source": [
    "lst = list(map(int, input().split()))\n",
    "print(lst)\n"
   ]
  },
  {
   "cell_type": "code",
   "execution_count": 36,
   "metadata": {},
   "outputs": [
    {
     "name": "stdout",
     "output_type": "stream",
     "text": [
      "[1, 2]\n"
     ]
    }
   ],
   "source": [
    "lst = list(map(int, [input(\"enter a number: \")\n",
    "           for i in range(int(input(\"Enter length: \")))]))\n",
    "print(lst)\n"
   ]
  },
  {
   "cell_type": "markdown",
   "metadata": {},
   "source": [
    "**Filtering**\n"
   ]
  },
  {
   "cell_type": "code",
   "execution_count": 39,
   "metadata": {},
   "outputs": [
    {
     "name": "stdout",
     "output_type": "stream",
     "text": [
      "[4, 5, 3, 6]\n"
     ]
    }
   ],
   "source": [
    "lst = [4, 5, 3, 6, 2, 2]\n",
    "# new=[i for i in lst if i>2]\n",
    "# print(new)\n",
    "#\n",
    "\n",
    "\n",
    "def fxn(i):\n",
    "    if i > 2:\n",
    "        return i\n",
    "\n",
    "\n",
    "lst = list(filter(fxn, lst))  # function, iterable item\n",
    "print(lst)\n"
   ]
  },
  {
   "cell_type": "code",
   "execution_count": 42,
   "metadata": {},
   "outputs": [
    {
     "name": "stdout",
     "output_type": "stream",
     "text": [
      "[22, 19]\n",
      "[34, 56, 45]\n",
      "[12]\n"
     ]
    }
   ],
   "source": [
    "age = [18, 34, 56, 22, 45, 12, 19]\n",
    "a = list(filter(lambda i: i if i >= 18 and i <= 30 else None, age))\n",
    "b = list(filter(lambda i: i if i > 30 else None, age))\n",
    "c = list(filter(lambda i: i if i < 18 else None, age))\n",
    "print(a)\n",
    "print(b)\n",
    "print(c)\n"
   ]
  },
  {
   "cell_type": "code",
   "execution_count": 50,
   "metadata": {},
   "outputs": [
    {
     "name": "stdout",
     "output_type": "stream",
     "text": [
      "[1, 'a1', 'b', 34, 'b']\n"
     ]
    }
   ],
   "source": [
    "lst = ['1', 'a1', 'b', '34', 'b']\n",
    "new = list(map(lambda i: int(i) if i.isdigit() else i, lst))\n",
    "# new = list(filter(lambda i: int(i) if i.isdigit() else i, lst))\n",
    "\n",
    "print(new)\n"
   ]
  },
  {
   "cell_type": "code",
   "execution_count": 51,
   "metadata": {},
   "outputs": [
    {
     "name": "stdout",
     "output_type": "stream",
     "text": [
      "['1', '34']\n",
      "['a1', 'b', 'b']\n"
     ]
    }
   ],
   "source": [
    "a = list(filter(lambda i: int(i) if i.isdigit() else None, lst))\n",
    "b = list(filter(lambda i: i if not i.isdigit() else None, lst))\n",
    "print(a)\n",
    "print(b)\n"
   ]
  },
  {
   "cell_type": "code",
   "execution_count": 53,
   "metadata": {},
   "outputs": [],
   "source": [
    "with open(r'new.txt', 'a')as fl:\n",
    "    txt = '\\nhey'\n",
    "    fl.write(txt)\n"
   ]
  },
  {
   "cell_type": "markdown",
   "metadata": {},
   "source": [
    "# 05/09/22\n"
   ]
  },
  {
   "cell_type": "markdown",
   "metadata": {},
   "source": [
    "**Object Oriented Programming Structure (OOPS)**<br>\n",
    "\n",
    "1. class : class is a blueprint for creating objects (a particular data structure), providing initial values for state (member variables or attributes), and implementations of behavior (member functions or methods).<br> it doesn't have any memory allocation.<br> it has member functions and data members<br>\n",
    "2. object : object is a unique instance of a data structure that's defined by its class. An object comprises both data members (class variables and instance variables) and methods.<br> it has memory allocation.<br>\n",
    "3. Inheritance : Inheritance is a way to form new classes using classes that have already been defined. The newly formed classes are called derived classes, the classes that we derive from are called base classes. Important benefits of inheritance are code reuse and reduction of complexity of a program. The derived classes (descendants) override or extend the functionality of base classes (ancestors).<br>\n",
    "4. Polymorphism : Polymorphism is the ability to take on many forms. The most common use of polymorphism in OOP occurs when a parent class reference is used to refer to a child class object.<br>\n",
    "5. Encapsulation : Encapsulation is the mechanism that binds together code and the data it manipulates, and keeps both safe from outside interference and misuse. In object-oriented programming, encapsulation is used to hide the values or state of a structured data object inside a class, preventing unauthorized parties' direct access to them.<br>\n",
    "6. Abstraction : Abstraction is a process of hiding the implementation details and showing only functionality to the user. In other words the user will have the information on what the object does instead of how it does it.<br>\n",
    "7. Data Hiding : Data hiding is the concept of restricting access to methods and variables. This can prevent the data from being modified by accident and is known as encapsulation.<br>\n"
   ]
  },
  {
   "cell_type": "code",
   "execution_count": 5,
   "metadata": {},
   "outputs": [
    {
     "name": "stdout",
     "output_type": "stream",
     "text": [
      "<__main__.New object at 0x7f594d82a6e0>\n",
      "10\n",
      "Hello\n"
     ]
    }
   ],
   "source": [
    "class New:\n",
    "    a = 10  # data member\n",
    "\n",
    "    def fun(self):  # member funtion\n",
    "        print(\"Hello\")\n",
    "\n",
    "\n",
    "obj = New()  # object of class New\n",
    "print(obj)\n",
    "print(obj.a)\n",
    "obj.fun()\n"
   ]
  },
  {
   "cell_type": "code",
   "execution_count": 4,
   "metadata": {},
   "outputs": [
    {
     "name": "stdout",
     "output_type": "stream",
     "text": [
      "Rectangle(10, 20)\n",
      "Rectangle(10, 20)\n",
      "True\n",
      "True\n",
      "False\n",
      "True\n",
      "Rectangle(72, 99)\n",
      "7128\n"
     ]
    }
   ],
   "source": [
    "class Rectangle:\n",
    "    def __init__(self, length, breadth):  # constructor\n",
    "        self.l = length\n",
    "        self.b = breadth\n",
    "\n",
    "    def __repr__(self):\n",
    "        return f\"Rectangle({self.l}, {self.b})\"\n",
    "\n",
    "    def __eq__(self, other):\n",
    "        return self.l == other.l and self.b == other.b\n",
    "\n",
    "    def __gt__(self, other):\n",
    "        return self.l*self.b > other.b*other.l\n",
    "\n",
    "    # def __lt__(self,other):\n",
    "    #     return self.l*self.b < other.b*other.l\n",
    "\n",
    "    def __ge__(self, other):\n",
    "        return self.area() >= other.area()\n",
    "\n",
    "    def area(self):\n",
    "        return self.l*self.b\n",
    "\n",
    "    def parameter(self):\n",
    "        return (self.l+self.b)*2\n",
    "\n",
    "\n",
    "r1 = Rectangle(10, 20)\n",
    "print(r1)\n",
    "r2 = Rectangle(10, 20)\n",
    "print(r2)\n",
    "r3 = Rectangle(10, 200)\n",
    "\n",
    "print(r1 == r2)  # false if __eq__ not defined\n",
    "print(r3 > r2)  # error  if __gt__ not defined\n",
    "print(r3 < r2)  # error  if __gt__ not defined\n",
    "print(r3 >= r1)\n",
    "r3 = Rectangle(56, 78)\n",
    "r4 = Rectangle(72, 99)\n",
    "lst = [r1, r2, r3, r4]\n",
    "print(max(lst))\n",
    "a = max(lst)\n",
    "print(a.area())\n"
   ]
  },
  {
   "cell_type": "code",
   "execution_count": 3,
   "metadata": {},
   "outputs": [
    {
     "name": "stdout",
     "output_type": "stream",
     "text": [
      "Name : a b\n",
      "Roll no : 1\n",
      "Marks : 45\n",
      "Name : s b\n",
      "Roll no : 2\n",
      "Marks : 56\n",
      "Not Found\n"
     ]
    }
   ],
   "source": [
    "class Student:\n",
    "    def __init__(self, fn, ln, roll, marks):\n",
    "        self.f = fn\n",
    "        self.l = ln\n",
    "        self.r = roll\n",
    "        self.m = marks\n",
    "\n",
    "    def fullDetail(self):\n",
    "        return f'''Name : {self.f} {self.l}\n",
    "Roll no : { self.r}\n",
    "Marks : {self.m}'''\n",
    "\n",
    "\n",
    "lst = []  # list of objects\n",
    "inp = int(input(\"Enter a number: \"))\n",
    "for i in range(inp):\n",
    "    fn = input(\"Enter first name : \")\n",
    "    ln = input(\"Enter  last name : \")\n",
    "    rn = int(input(\"Enter  roll no : \"))\n",
    "    m = int(input(\"Enter  marks : \"))\n",
    "    obj = Student(fn, ln, rn, m)\n",
    "    # print(a)\n",
    "    lst.append(obj)\n",
    "\n",
    "a = 1\n",
    "while (a == 1):\n",
    "    rn = int(input(\"Enter a roll number : \"))  # roll number to be searched\n",
    "    f = 0\n",
    "    for i in lst:\n",
    "        if i.r == rn:\n",
    "            print(i.fullDetail())\n",
    "            f = 1\n",
    "            break\n",
    "\n",
    "    if f == 0:\n",
    "        print(\"Not Found\")\n",
    "\n",
    "    while True:\n",
    "        x = int(input(\"Press 1 to continue OR 0 to exit\"))\n",
    "        if x == 0 or x == 1:\n",
    "            a = x\n",
    "            break\n",
    "        else:\n",
    "            print(\"Try again\")\n"
   ]
  },
  {
   "cell_type": "markdown",
   "metadata": {},
   "source": [
    "# H/W\n"
   ]
  },
  {
   "cell_type": "code",
   "execution_count": 1,
   "metadata": {},
   "outputs": [
    {
     "data": {
      "text/plain": [
       "'\\n\\n'"
      ]
     },
     "execution_count": 1,
     "metadata": {},
     "output_type": "execute_result"
    }
   ],
   "source": [
    "# str = 'aba' number of sub string\n",
    "# 'a' 'b' 'a' ab ba\n",
    "# a   b   a    ba ab reverse them\n",
    "# if still substring then yes\n",
    "#\n",
    "# Q2\n",
    "''''\n",
    "reverse a number\n",
    "'''\n",
    "# Q3\n",
    "\n",
    "'''\n",
    "s \"Hello World\"\n",
    "print \"olleh dlrow\"\n",
    "'''\n"
   ]
  },
  {
   "cell_type": "code",
   "execution_count": 10,
   "metadata": {},
   "outputs": [
    {
     "name": "stdout",
     "output_type": "stream",
     "text": [
      "['a', 'ab', 'b', 'ba', 'a']\n",
      "True\n"
     ]
    }
   ],
   "source": [
    "# s = input(\"Enter a string: \")\n",
    "s = 'aba'\n",
    "lst = []\n",
    "for i in range(0, len(s)):\n",
    "    for j in range(i+1, len(s)+1):\n",
    "        st = s[i:j]\n",
    "        # print(st)\n",
    "        if st != s:\n",
    "            lst.append(s[i:j])\n",
    "print(lst)\n",
    "lst = list(set(lst))\n",
    "# print(lst)\n",
    "f = 0\n",
    "for i in range(len(lst)):\n",
    "    if lst[i][::-1] not in lst:\n",
    "        f = 1\n",
    "        break\n",
    "if f == 0:\n",
    "    print(\"True\")\n",
    "else:\n",
    "    print(\"False\")\n"
   ]
  },
  {
   "cell_type": "code",
   "execution_count": 10,
   "metadata": {},
   "outputs": [
    {
     "name": "stdout",
     "output_type": "stream",
     "text": [
      "olleh\n"
     ]
    }
   ],
   "source": [
    "# Reverse an int\n",
    "\n",
    "def reverse(a):\n",
    "    r = 0\n",
    "    while a != 0:\n",
    "        d = int(a % 10)\n",
    "        # print(d)\n",
    "        r = r*10+d\n",
    "        a //= 10\n",
    "    return r\n",
    "\n",
    "\n",
    "n = int(input(\"Enter an intger: \"))\n",
    "a = reverse(n)\n",
    "# print(a)\n",
    "print(f\"Reverse of {n} is {a} \")\n",
    "# # OR\n",
    "\n",
    "# r = int(str(n)[::-1])\n",
    "# print(r)\n",
    "\n",
    "# a=\"hello\"\n",
    "# print(a[::-1])\n",
    "# def rev(s):\n",
    "#     w=\"\"\n",
    "#     for i in range(len(s)-1,-1,-1):\n",
    "#         w+=s[i]\n",
    "\n",
    "#     print(w)\n",
    "\n",
    "# rev('hello')\n"
   ]
  },
  {
   "cell_type": "code",
   "execution_count": 38,
   "metadata": {},
   "outputs": [
    {
     "name": "stdout",
     "output_type": "stream",
     "text": [
      "olleh dlrow \n"
     ]
    }
   ],
   "source": [
    "# Question 3\n",
    "\n",
    "s = input(\"Enter a string\").lower()\n",
    "lst = s.split()\n",
    "\n",
    "rev = \"\"\n",
    "for i in lst:\n",
    "    rev += i[::-1]+\" \"\n",
    "\n",
    "print(rev)\n"
   ]
  },
  {
   "cell_type": "markdown",
   "metadata": {},
   "source": [
    "# 06/09/22\n"
   ]
  },
  {
   "cell_type": "markdown",
   "metadata": {},
   "source": [
    "**INHERITANCE**<br>\n",
    "\n",
    "<p>\n",
    "1. Single Inheritance : In single inheritance, a derived class inherits the features from only one base class. The syntax for single inheritance is as follows:<br>\n",
    "   class BaseClass:<br>\n",
    "   &nbsp;Body of base class<br>\n",
    "   class DerivedClass(BaseClass):<br>\n",
    "   &nbsp;Body of derived class<br>\n",
    "2. Multiple Inheritance : In multiple inheritance, a derived class inherits the features of more than one base class. The syntax for multiple inheritance is as follows:<br>\n",
    "   class BaseClass1:<br>\n",
    "   Body of base class 1<br>\n",
    "   class BaseClass2:<br>\n",
    "   Body of base class 2<br>\n",
    "   class DerivedClass(BaseClass1, BaseClass2):<br>\n",
    "   Body of derived class<br>\n",
    "3. Multilevel Inheritance : In multilevel inheritance, features of one class is inherited into another derived class. The syntax for multilevel inheritance is as follows:<br>\n",
    "   class BaseClass:<br>\n",
    "   Body of base class<br>\n",
    "   class DerivedClass(BaseClass):<br>\n",
    "   Body of derived class<br>\n",
    "   class SubDerivedClass(DerivedClass):<br>\n",
    "   Body of sub derived class<br>\n",
    "4. Hierarchical Inheritance : In hierarchical inheritance, we have more than one derived classes that are created from a single base. The syntax for hierarchical inheritance is as follows:<br>\n",
    "   class BaseClass:<br>\n",
    "   Body of base class<br>\n",
    "   class DerivedClass1(BaseClass):<br>\n",
    "   Body of first derived class<br>\n",
    "   class DerivedClass2(BaseClass):<br>\n",
    "   Body of second derived class<br></p>\n"
   ]
  },
  {
   "cell_type": "code",
   "execution_count": 10,
   "metadata": {},
   "outputs": [
    {
     "name": "stdout",
     "output_type": "stream",
     "text": [
      "500\n",
      "5\n",
      "500\n"
     ]
    }
   ],
   "source": [
    "# Single Inheritance (one parent and one child)\n",
    "class A:\n",
    "    def __init__(self, a):  # constructor\n",
    "        self.a = a\n",
    "\n",
    "    def fun(self):\n",
    "        return self.a*10\n",
    "\n",
    "\n",
    "class B(A):  # B is child of A\n",
    "    def __init__(self, a, b):\n",
    "        # super().__init__(a) # calling parent constructor (else it will not call). it will create problem in multiple inheritance\n",
    "        # or\n",
    "        A.__init__(self, a)  # calling parent constructor. Best way\n",
    "        self.b = b\n",
    "\n",
    "    def fun(self):\n",
    "        return self.a*100\n",
    "\n",
    "\n",
    "obj = B(5, 6)\n",
    "print(obj.fun())  # fun() is inherited from A\n",
    "print(obj.a)  # a is data member of A\n",
    "print(obj.fun())  # fun() is defined in B\n",
    "# if two class have same data member then child class data member will be used\n"
   ]
  },
  {
   "cell_type": "code",
   "execution_count": 14,
   "metadata": {},
   "outputs": [
    {
     "name": "stdout",
     "output_type": "stream",
     "text": [
      "23000\n"
     ]
    }
   ],
   "source": [
    "# multilevel inheritance\n",
    "\n",
    "class C(B):\n",
    "    def __init__(self, a, b, c):\n",
    "        B.__init__(self, a, b)\n",
    "        self.c = c\n",
    "\n",
    "    def fun(self):\n",
    "        return self.a*1000\n",
    "\n",
    "\n",
    "obj = C(23, 34, 45)\n",
    "print(obj.fun())\n"
   ]
  },
  {
   "cell_type": "code",
   "execution_count": 26,
   "metadata": {},
   "outputs": [
    {
     "name": "stdout",
     "output_type": "stream",
     "text": [
      "11\n",
      "\n"
     ]
    }
   ],
   "source": [
    "# multiple inheritance\n",
    "\n",
    "class A:\n",
    "    def __init__(self, a):\n",
    "        self.a = a\n",
    "\n",
    "    def fun(self):\n",
    "        return self.a\n",
    "\n",
    "\n",
    "class B:\n",
    "    def __init__(self, b):\n",
    "        self.b = b\n",
    "\n",
    "    def fun(self):\n",
    "        return self.b*10\n",
    "\n",
    "\n",
    "class C(A, B):  # A has the highest priority in case of same data member in A and B (left to right)\n",
    "    def __init__(self, a, b, c):\n",
    "        A.__init__(self, a)\n",
    "        B.__init__(self, b)\n",
    "        self.c = c\n",
    "\n",
    "    # def fun(self):\n",
    "        # return self.c\n",
    "\n",
    "\n",
    "obj = C(11, 21, 31)\n",
    "print(obj.fun())\n",
    "print()\n"
   ]
  },
  {
   "cell_type": "markdown",
   "metadata": {},
   "source": [
    "**Encapsulation**: Binding data members and member functions into a single unit.\n"
   ]
  },
  {
   "cell_type": "code",
   "execution_count": 1,
   "metadata": {},
   "outputs": [
    {
     "name": "stdout",
     "output_type": "stream",
     "text": [
      "hello\n"
     ]
    }
   ],
   "source": [
    "import ab\n",
    "obj = ab.A()\n",
    "obj.fun()\n"
   ]
  },
  {
   "cell_type": "markdown",
   "metadata": {},
   "source": [
    "**Exception Handling**: Exception handling is a process of handling the runtime errors so that normal flow of the application can be maintained.\n"
   ]
  },
  {
   "cell_type": "code",
   "execution_count": 42,
   "metadata": {},
   "outputs": [
    {
     "name": "stdout",
     "output_type": "stream",
     "text": [
      "invalid Input\n"
     ]
    }
   ],
   "source": [
    "try:\n",
    "    a = int(input(\"Enter a number: \"))\n",
    "except ValueError:\n",
    "    print(\"invalid Input\")\n"
   ]
  },
  {
   "cell_type": "code",
   "execution_count": 47,
   "metadata": {},
   "outputs": [
    {
     "name": "stdout",
     "output_type": "stream",
     "text": [
      "Invalid Input\n",
      "Please Enter a number\n",
      "Invalid Input\n",
      "Please Enter a number\n",
      "Invalid Input\n",
      "Please Enter a number\n",
      "Invalid Input\n",
      "Please Enter a number\n",
      "Invalid Input\n",
      "Please Enter a number\n"
     ]
    }
   ],
   "source": [
    "while True:\n",
    "    try:\n",
    "        a = int(input(\"Enter a number: \"))\n",
    "        break\n",
    "    except ValueError:\n",
    "        print(\"Invalid Input\")\n",
    "        print(\"Please Enter a number\")\n"
   ]
  },
  {
   "cell_type": "markdown",
   "metadata": {},
   "source": [
    "# 07/09/22\n"
   ]
  },
  {
   "cell_type": "code",
   "execution_count": 4,
   "metadata": {},
   "outputs": [
    {
     "name": "stdout",
     "output_type": "stream",
     "text": [
      "An Error Occured\n"
     ]
    }
   ],
   "source": [
    "try:\n",
    "    a = int(input(\"Enter a number: \"))\n",
    "    b = int(input(\"Enter second error: \"))\n",
    "    print(a/b)\n",
    "# except ValueError:\n",
    "#     print('Please enter an integer')\n",
    "# except ZeroDivisionError:\n",
    "#     print(\"Cannot divide a number by zero\")\n",
    "# or\n",
    "except:\n",
    "    print('An Error Occured')\n"
   ]
  },
  {
   "cell_type": "code",
   "execution_count": 9,
   "metadata": {},
   "outputs": [
    {
     "name": "stdout",
     "output_type": "stream",
     "text": [
      "1230\n"
     ]
    }
   ],
   "source": [
    "# azertion error\n",
    "try:\n",
    "    a = int(input('Enter a number: '))\n",
    "    assert a >= 18\n",
    "    print(a*10)\n",
    "except ValueError:\n",
    "    print(\"Please enter a number: \")\n",
    "except AssertionError:\n",
    "    print(\"Please enter a number >= 18\")\n"
   ]
  },
  {
   "cell_type": "code",
   "execution_count": 10,
   "metadata": {},
   "outputs": [
    {
     "ename": "ValueError",
     "evalue": "",
     "output_type": "error",
     "traceback": [
      "\u001b[0;31m---------------------------------------------------------------------------\u001b[0m",
      "\u001b[0;31mValueError\u001b[0m                                Traceback (most recent call last)",
      "\u001b[1;32m/home/darklord/Desktop/Training/python/basic_2.ipynb Cell 59\u001b[0m in \u001b[0;36m<cell line: 1>\u001b[0;34m()\u001b[0m\n\u001b[0;32m----> <a href='vscode-notebook-cell:/home/darklord/Desktop/Training/python/basic_2.ipynb#Y114sZmlsZQ%3D%3D?line=0'>1</a>\u001b[0m \u001b[39mraise\u001b[39;00m \u001b[39mValueError\u001b[39;00m\n",
      "\u001b[0;31mValueError\u001b[0m: "
     ]
    }
   ],
   "source": [
    "raise ValueError  # raise an error\n"
   ]
  },
  {
   "cell_type": "code",
   "execution_count": 5,
   "metadata": {},
   "outputs": [
    {
     "name": "stdout",
     "output_type": "stream",
     "text": [
      "Enter number bw 0 and 9\n",
      "Enter number bw 0 and 9\n",
      "Cannot enter zero\n",
      "0.5\n"
     ]
    }
   ],
   "source": [
    "while (True):\n",
    "    try:\n",
    "        n = int(input(\"Enter a number bw 1 and 9:\"))\n",
    "        assert n >= 0 and n <= 9\n",
    "        print(1/n)\n",
    "        break\n",
    "    except AssertionError:\n",
    "        print(\"Enter number bw 0 and 9\")\n",
    "        # continue\n",
    "    except ValueError:\n",
    "        print('Cannot enter string')\n",
    "        # continue\n",
    "    except ZeroDivisionError:\n",
    "        print('Cannot enter zero')\n",
    "        # continue\n",
    "    # break\n"
   ]
  },
  {
   "cell_type": "markdown",
   "metadata": {},
   "source": [
    "# API- Application Programming Interface\n"
   ]
  },
  {
   "cell_type": "markdown",
   "metadata": {},
   "source": [
    "_API is a set of routines, protocols, and tools for building software applications. An API specifies how software components should interact. It can be thought of as an interface that defines interactions between multiple software intermediaries. It defines the kinds of calls or requests that can be made, how to make them, the data formats that should be used, the conventions to follow, etc. It can also provide extension mechanisms so that users can extend existing functionality in various ways and to varying degrees._\n"
   ]
  },
  {
   "cell_type": "code",
   "execution_count": 1,
   "metadata": {},
   "outputs": [
    {
     "name": "stdout",
     "output_type": "stream",
     "text": [
      "<class 'dict'>\n",
      "1662619560\n"
     ]
    }
   ],
   "source": [
    "# API\n",
    "# api_basic.py\n",
    "import json\n",
    "import http.client\n",
    "\n",
    "conn = http.client.HTTPSConnection(\"weatherbit-v1-mashape.p.rapidapi.com\")\n",
    "\n",
    "headers = {\n",
    "    'X-RapidAPI-Key': \"dac5072b87msha8a51b3377ba304p110a30jsnc34bd29fd10d\",\n",
    "    'X-RapidAPI-Host': \"weatherbit-v1-mashape.p.rapidapi.com\"\n",
    "}\n",
    "\n",
    "conn.request(\"GET\", \"/forecast/minutely?lat=35.5&lon=-78.5\", headers=headers)\n",
    "\n",
    "res = conn.getresponse()\n",
    "data = res.read()\n",
    "# print(data.decode(\"utf-8\"))\n",
    "data = data.decode('utf-8')\n",
    "# ================================================================================================================================================================ #\n",
    "\n",
    "\n",
    "data = json.loads(data)\n",
    "print(type(data))\n",
    "print(data['data'][1]['ts'])\n"
   ]
  },
  {
   "cell_type": "markdown",
   "metadata": {},
   "source": [
    "# 08/09/22\n"
   ]
  },
  {
   "cell_type": "markdown",
   "metadata": {},
   "source": [
    "**Encoding**\n"
   ]
  },
  {
   "cell_type": "code",
   "execution_count": 2,
   "metadata": {},
   "outputs": [
    {
     "name": "stdout",
     "output_type": "stream",
     "text": [
      "b'hello how are you'\n"
     ]
    }
   ],
   "source": [
    "import base64\n",
    "msg = \"hello how are you\".encode('utf-8')\n",
    "print(msg)\n"
   ]
  },
  {
   "cell_type": "code",
   "execution_count": 4,
   "metadata": {},
   "outputs": [
    {
     "name": "stdout",
     "output_type": "stream",
     "text": [
      "b'68656C6C6F20686F772061726520796F75'\n"
     ]
    }
   ],
   "source": [
    "enc = base64.b16encode(msg)\n",
    "print(enc)\n"
   ]
  },
  {
   "cell_type": "code",
   "execution_count": 7,
   "metadata": {},
   "outputs": [
    {
     "name": "stdout",
     "output_type": "stream",
     "text": [
      "hello how are you\n"
     ]
    }
   ],
   "source": [
    "# maximum number of characters is 32, mostly numbers are used with few capital letters\n",
    "enc = b'68656C6C6F20686F772061726520796F75'\n",
    "msg = (base64.b16decode(enc))\n",
    "print(msg.decode('utf-8'))\n"
   ]
  },
  {
   "cell_type": "code",
   "execution_count": 3,
   "metadata": {},
   "outputs": [
    {
     "name": "stdout",
     "output_type": "stream",
     "text": [
      "b'NBSWY3DPEBUG65ZAMFZGKIDZN52Q===='\n"
     ]
    }
   ],
   "source": [
    "msg = \"hello how are you\".encode('utf-8')\n",
    "enc = base64.b32encode(msg)\n",
    "print(enc)\n"
   ]
  },
  {
   "cell_type": "code",
   "execution_count": 4,
   "metadata": {},
   "outputs": [
    {
     "name": "stdout",
     "output_type": "stream",
     "text": [
      "hello how are you\n"
     ]
    }
   ],
   "source": [
    "# maximum number of characters is 32, mostly  capital letters and few numbers and few special characters\n",
    "enc = b'NBSWY3DPEBUG65ZAMFZGKIDZN52Q===='\n",
    "msg = (base64.b32decode(enc))\n",
    "print(msg.decode('utf-8'))\n"
   ]
  },
  {
   "cell_type": "code",
   "execution_count": 5,
   "metadata": {},
   "outputs": [
    {
     "name": "stdout",
     "output_type": "stream",
     "text": [
      "b'aGVsbG8gaG93IGFyZSB5b3U='\n"
     ]
    }
   ],
   "source": [
    "msg = \"hello how are you\".encode('utf-8')\n",
    "enc = base64.b64encode(msg)\n",
    "print(enc)\n"
   ]
  },
  {
   "cell_type": "code",
   "execution_count": 6,
   "metadata": {},
   "outputs": [
    {
     "name": "stdout",
     "output_type": "stream",
     "text": [
      "hello how are you\n"
     ]
    }
   ],
   "source": [
    "# upper case and lower case letters, numbers and special characters mostly equal sign\n",
    "enc = b'aGVsbG8gaG93IGFyZSB5b3U='\n",
    "msg = (base64.b64decode(enc))\n",
    "print(msg.decode('utf-8'))\n"
   ]
  },
  {
   "cell_type": "code",
   "execution_count": 7,
   "metadata": {},
   "outputs": [
    {
     "name": "stdout",
     "output_type": "stream",
     "text": [
      "b'Xk~0{Zy;!IcOYSMWgvNPbp'\n"
     ]
    }
   ],
   "source": [
    "msg = \"hello how are you\".encode('utf-8')\n",
    "enc = base64.b85encode(msg)\n",
    "print(enc)\n"
   ]
  },
  {
   "cell_type": "code",
   "execution_count": 8,
   "metadata": {},
   "outputs": [
    {
     "name": "stdout",
     "output_type": "stream",
     "text": [
      "hello how are you\n"
     ]
    }
   ],
   "source": [
    "# upper case and lower case letters, numbers and special characters\n",
    "enc = b'Xk~0{Zy;!IcOYSMWgvNPbp'\n",
    "msg = (base64.b85decode(enc))\n",
    "print(msg.decode('utf-8'))\n"
   ]
  },
  {
   "cell_type": "markdown",
   "metadata": {},
   "source": [
    "**Cryptography**\n"
   ]
  },
  {
   "cell_type": "code",
   "execution_count": 20,
   "metadata": {},
   "outputs": [
    {
     "name": "stdout",
     "output_type": "stream",
     "text": [
      "b'gAAAAABjGZjYb9BQlChkEimp9J0E4HCxhMbnbevjDfWJxaiTXHSlpSO0DnOULGSX0YbCGoyB3XrcsoaeKhqBW4NvYiaIuIlgXYDuJb39E0DbxIY5LFA9GOc='\n",
      "hello how are you\n"
     ]
    }
   ],
   "source": [
    "# import cryptography\n",
    "from cryptography.fernet import Fernet\n",
    "\n",
    "key = Fernet.generate_key()\n",
    "# print(key)\n",
    "obj = Fernet(key)\n",
    "msg = 'hello how are you'.encode()\n",
    "\n",
    "enc = obj.encrypt(msg)\n",
    "print(enc)\n",
    "print(obj.decrypt(enc).decode())\n"
   ]
  },
  {
   "cell_type": "code",
   "execution_count": 18,
   "metadata": {},
   "outputs": [
    {
     "ename": "InvalidToken",
     "evalue": "",
     "output_type": "error",
     "traceback": [
      "\u001b[0;31m---------------------------------------------------------------------------\u001b[0m",
      "\u001b[0;31mInvalidSignature\u001b[0m                          Traceback (most recent call last)",
      "File \u001b[0;32m/usr/lib/python3/dist-packages/cryptography/fernet.py:119\u001b[0m, in \u001b[0;36mFernet._verify_signature\u001b[0;34m(self, data)\u001b[0m\n\u001b[1;32m    118\u001b[0m \u001b[39mtry\u001b[39;00m:\n\u001b[0;32m--> 119\u001b[0m     h\u001b[39m.\u001b[39;49mverify(data[\u001b[39m-\u001b[39;49m\u001b[39m32\u001b[39;49m:])\n\u001b[1;32m    120\u001b[0m \u001b[39mexcept\u001b[39;00m InvalidSignature:\n",
      "File \u001b[0;32m/usr/lib/python3/dist-packages/cryptography/hazmat/primitives/hmac.py:74\u001b[0m, in \u001b[0;36mHMAC.verify\u001b[0;34m(self, signature)\u001b[0m\n\u001b[1;32m     73\u001b[0m ctx, \u001b[39mself\u001b[39m\u001b[39m.\u001b[39m_ctx \u001b[39m=\u001b[39m \u001b[39mself\u001b[39m\u001b[39m.\u001b[39m_ctx, \u001b[39mNone\u001b[39;00m\n\u001b[0;32m---> 74\u001b[0m ctx\u001b[39m.\u001b[39;49mverify(signature)\n",
      "File \u001b[0;32m/usr/lib/python3/dist-packages/cryptography/hazmat/backends/openssl/hmac.py:75\u001b[0m, in \u001b[0;36m_HMACContext.verify\u001b[0;34m(self, signature)\u001b[0m\n\u001b[1;32m     74\u001b[0m \u001b[39mif\u001b[39;00m \u001b[39mnot\u001b[39;00m constant_time\u001b[39m.\u001b[39mbytes_eq(digest, signature):\n\u001b[0;32m---> 75\u001b[0m     \u001b[39mraise\u001b[39;00m InvalidSignature(\u001b[39m\"\u001b[39m\u001b[39mSignature did not match digest.\u001b[39m\u001b[39m\"\u001b[39m)\n",
      "\u001b[0;31mInvalidSignature\u001b[0m: Signature did not match digest.",
      "\nDuring handling of the above exception, another exception occurred:\n",
      "\u001b[0;31mInvalidToken\u001b[0m                              Traceback (most recent call last)",
      "\u001b[1;32m/home/darklord/Desktop/Training/python/basic_2.ipynb Cell 77\u001b[0m in \u001b[0;36m<cell line: 3>\u001b[0;34m()\u001b[0m\n\u001b[1;32m      <a href='vscode-notebook-cell:/home/darklord/Desktop/Training/python/basic_2.ipynb#Y136sZmlsZQ%3D%3D?line=0'>1</a>\u001b[0m key2\u001b[39m=\u001b[39mFernet\u001b[39m.\u001b[39mgenerate_key()\n\u001b[1;32m      <a href='vscode-notebook-cell:/home/darklord/Desktop/Training/python/basic_2.ipynb#Y136sZmlsZQ%3D%3D?line=1'>2</a>\u001b[0m obj2\u001b[39m=\u001b[39mFernet(key2)\n\u001b[0;32m----> <a href='vscode-notebook-cell:/home/darklord/Desktop/Training/python/basic_2.ipynb#Y136sZmlsZQ%3D%3D?line=2'>3</a>\u001b[0m \u001b[39mprint\u001b[39m(obj2\u001b[39m.\u001b[39;49mdecrypt(enc))\n",
      "File \u001b[0;32m/usr/lib/python3/dist-packages/cryptography/fernet.py:80\u001b[0m, in \u001b[0;36mFernet.decrypt\u001b[0;34m(self, token, ttl)\u001b[0m\n\u001b[1;32m     78\u001b[0m \u001b[39melse\u001b[39;00m:\n\u001b[1;32m     79\u001b[0m     time_info \u001b[39m=\u001b[39m (ttl, \u001b[39mint\u001b[39m(time\u001b[39m.\u001b[39mtime()))\n\u001b[0;32m---> 80\u001b[0m \u001b[39mreturn\u001b[39;00m \u001b[39mself\u001b[39;49m\u001b[39m.\u001b[39;49m_decrypt_data(data, timestamp, time_info)\n",
      "File \u001b[0;32m/usr/lib/python3/dist-packages/cryptography/fernet.py:137\u001b[0m, in \u001b[0;36mFernet._decrypt_data\u001b[0;34m(self, data, timestamp, time_info)\u001b[0m\n\u001b[1;32m    134\u001b[0m     \u001b[39mif\u001b[39;00m current_time \u001b[39m+\u001b[39m _MAX_CLOCK_SKEW \u001b[39m<\u001b[39m timestamp:\n\u001b[1;32m    135\u001b[0m         \u001b[39mraise\u001b[39;00m InvalidToken\n\u001b[0;32m--> 137\u001b[0m \u001b[39mself\u001b[39;49m\u001b[39m.\u001b[39;49m_verify_signature(data)\n\u001b[1;32m    139\u001b[0m iv \u001b[39m=\u001b[39m data[\u001b[39m9\u001b[39m:\u001b[39m25\u001b[39m]\n\u001b[1;32m    140\u001b[0m ciphertext \u001b[39m=\u001b[39m data[\u001b[39m25\u001b[39m:\u001b[39m-\u001b[39m\u001b[39m32\u001b[39m]\n",
      "File \u001b[0;32m/usr/lib/python3/dist-packages/cryptography/fernet.py:121\u001b[0m, in \u001b[0;36mFernet._verify_signature\u001b[0;34m(self, data)\u001b[0m\n\u001b[1;32m    119\u001b[0m     h\u001b[39m.\u001b[39mverify(data[\u001b[39m-\u001b[39m\u001b[39m32\u001b[39m:])\n\u001b[1;32m    120\u001b[0m \u001b[39mexcept\u001b[39;00m InvalidSignature:\n\u001b[0;32m--> 121\u001b[0m     \u001b[39mraise\u001b[39;00m InvalidToken\n",
      "\u001b[0;31mInvalidToken\u001b[0m: "
     ]
    }
   ],
   "source": [
    "key2 = Fernet.generate_key()\n",
    "obj2 = Fernet(key2)\n",
    "print(obj2.decrypt(enc))\n"
   ]
  },
  {
   "cell_type": "code",
   "execution_count": 17,
   "metadata": {},
   "outputs": [
    {
     "name": "stdout",
     "output_type": "stream",
     "text": [
      "Enter 10 username and password:\n"
     ]
    }
   ],
   "source": [
    "from cryptography.fernet import Fernet\n",
    "\n",
    "print(\"Enter 10 username and password:\")\n",
    "with open('data.txt', 'w') as fl:\n",
    "    with open('key.txt', 'w') as fk:\n",
    "        for i in range(10):\n",
    "            un = input('Enter  username: ').encode()\n",
    "            ps = input('Enter password: ').encode()\n",
    "            key = Fernet.generate_key()\n",
    "        # fk.seek(i)\n",
    "            # print(key)\n",
    "            fk.write(key.decode())\n",
    "            fk.write('\\n')\n",
    "            obj = Fernet(key)\n",
    "            un = obj.encrypt(un)\n",
    "            ps = obj.encrypt(ps)\n",
    "            # fl.seek(i)\n",
    "\n",
    "            fl.write(un.decode())\n",
    "            fl.write(':')\n",
    "            fl.write(ps.decode())\n",
    "            fl.write('\\n')\n"
   ]
  },
  {
   "cell_type": "code",
   "execution_count": 18,
   "metadata": {},
   "outputs": [
    {
     "name": "stdout",
     "output_type": "stream",
     "text": [
      "asdf : as\n",
      "cde : ert\n",
      "as : s\n",
      "jhg : yui\n",
      "xsfd : asdg\n",
      "awer : xcvf\n",
      "sdfasa : asddfhg\n",
      "ase : adfg\n",
      "gfea : zxcr\n",
      "sdfgt : zfgzf\n"
     ]
    }
   ],
   "source": [
    "# decrypt\n",
    "from cryptography.fernet import Fernet\n",
    "\n",
    "data = []\n",
    "key = []\n",
    "with open('data.txt', 'r') as d:\n",
    "    with open('key.txt', 'r') as k:\n",
    "        # n=input(\"enter a name: \")\n",
    "        data = d.readlines()\n",
    "        key = k.readlines()\n",
    "        # print(len(data))\n",
    "        # print(len(key))\n",
    "        for i in range(len(data)):\n",
    "            obj = Fernet(key[i].encode())\n",
    "            n = data[i].split(':')\n",
    "            n[0] = obj.decrypt(n[0].encode()).decode()\n",
    "            n[1] = obj.decrypt(n[1].encode()).decode()\n",
    "            print(f'{n[0]} : {n[1]}')\n"
   ]
  },
  {
   "cell_type": "markdown",
   "metadata": {},
   "source": [
    "# 09/09/22\n"
   ]
  },
  {
   "cell_type": "markdown",
   "metadata": {},
   "source": [
    "Decorator\n"
   ]
  },
  {
   "cell_type": "code",
   "execution_count": 1,
   "metadata": {},
   "outputs": [
    {
     "name": "stdout",
     "output_type": "stream",
     "text": [
      "2\n"
     ]
    }
   ],
   "source": [
    "def sub(a, b):\n",
    "    return a-b\n",
    "\n",
    "\n",
    "def abc(func):  # define a decorater with paramerter as a function\n",
    "    def inner(a, b):  # define and inner function\n",
    "        if a < b:     # required functions\n",
    "            a, b = b, a\n",
    "        return func(a, b)\n",
    "\n",
    "    return inner\n",
    "\n",
    "\n",
    "sub1 = abc(sub)\n",
    "print(sub1(2, 4))\n"
   ]
  },
  {
   "cell_type": "code",
   "execution_count": 4,
   "metadata": {},
   "outputs": [
    {
     "name": "stdout",
     "output_type": "stream",
     "text": [
      "2970\n"
     ]
    }
   ],
   "source": [
    "def fxn(a, b, c):\n",
    "    return a*b*c\n",
    "\n",
    "\n",
    "def deco(func):\n",
    "    def inner(a, b, c):\n",
    "        a, b, c = abs(a), abs(b), abs(c)\n",
    "        return func(a, b, c)\n",
    "    return inner\n",
    "\n",
    "\n",
    "fxn1 = deco(fxn)\n",
    "print(fxn1(-1, 45, 66))\n"
   ]
  },
  {
   "cell_type": "markdown",
   "metadata": {},
   "source": [
    "**GUI - Graphical User Interface**\n"
   ]
  },
  {
   "cell_type": "code",
   "execution_count": 2,
   "metadata": {},
   "outputs": [],
   "source": [
    "from tkinter import *\n",
    "\n",
    "\n",
    "def fxn():\n",
    "    l2['text'] = 'You clicked'\n",
    "\n",
    "\n",
    "frame = Tk()\n",
    "frame.geometry('500x500')\n",
    "frame.title('Proj1')\n",
    "l1 = Label(frame, text=\"Hello this is first frame\",\n",
    "           fg='#b10041', bg='white', font=('Times New Roman', 20, 'underline'))\n",
    "\n",
    "l1.place(relx=0.01, rely=0.01)\n",
    "# l1.pack(side='bottom')\n",
    "# l1.grid(row=1,column=0)\n",
    "frame.configure(bg='white')\n",
    "bt = Button(frame, text='click', command=fxn)\n",
    "bt.place(relx=0.01, rely=0.08)\n",
    "l2 = Label(frame, text='', fg='#b10041', bg='white',\n",
    "           font=('Times New Roman', 20, 'underline'))\n",
    "l2.place(relx=0.01, rely=0.15)\n",
    "frame.mainloop()\n"
   ]
  },
  {
   "cell_type": "markdown",
   "metadata": {},
   "source": [
    "# 13/09/22\n"
   ]
  },
  {
   "cell_type": "code",
   "execution_count": 22,
   "metadata": {},
   "outputs": [],
   "source": [
    "from cProfile import label\n",
    "from cgitb import text\n",
    "from tkinter import *\n",
    "from tkinter import messagebox\n",
    "\n",
    "\n",
    "def fxn1():\n",
    "    val1 = e1.get()\n",
    "    val2 = e2.get()\n",
    "    try:\n",
    "        val3 = int(val1)+int(val2)\n",
    "        l3['text'] = f'The sum of two no. is {val3}'\n",
    "    except:\n",
    "        # l3['text']='Enter only numbers'\n",
    "        messagebox.showerror('Error', 'Please enter number')\n",
    "    e1.delete(0, END)\n",
    "    e2.delete(0, END)\n",
    "\n",
    "\n",
    "def fxn2():\n",
    "    val1 = e1.get()\n",
    "    val2 = e2.get()\n",
    "    try:\n",
    "        val3 = int(val1)-int(val2)\n",
    "        l3['text'] = f'The difference of two no. is {val3}'\n",
    "    except:\n",
    "        # l3['text']='Enter only numbers'\n",
    "        messagebox.showerror('Error', 'Please enter number')\n",
    "    e1.delete(0, END)\n",
    "    e2.delete(0, END)\n",
    "\n",
    "\n",
    "def fxn3():\n",
    "    val1 = e1.get()\n",
    "    val2 = e2.get()\n",
    "    try:\n",
    "        val3 = int(val1)*int(val2)\n",
    "        l3['text'] = f'The product of two no. is {val3}'\n",
    "    except:\n",
    "        # l3['text']='Enter only numbers'\n",
    "        messagebox.showerror('Error', 'Please enter number')\n",
    "    e1.delete(0, END)\n",
    "    e2.delete(0, END)\n",
    "\n",
    "\n",
    "def fxn4():\n",
    "    val1 = e1.get()\n",
    "    val2 = e2.get()\n",
    "    try:\n",
    "        val3 = int(val1)/int(val2)\n",
    "        l3['text'] = f'The division of two no. is {val3}'\n",
    "    except:\n",
    "        # l3['text']='Enter only numbers'\n",
    "        messagebox.showerror('Error', 'Please enter number')\n",
    "    e1.delete(0, END)\n",
    "    e2.delete(0, END)\n",
    "\n",
    "\n",
    "frame = Tk()\n",
    "\n",
    "frame.title('New')\n",
    "frame.geometry('600x600')\n",
    "frame.configure(bg='blue')\n",
    "# labels\n",
    "l1 = Label(frame, text='Enter a value', font=(\n",
    "    'Times New Roman', 14), bg='blue')\n",
    "l1.place(relx=0.01, rely=0.02)\n",
    "# frame.configure(bg='blue')\n",
    "l2 = Label(frame, text='Enter a value', font=(\n",
    "    'Times New Roman', 14), bg='blue')\n",
    "l2.place(relx=0.01, rely=0.08)\n",
    "# Entry fields\n",
    "\n",
    "e1 = Entry(frame, font=('Times New Roman', 14))\n",
    "e1.place(relx=0.40, rely=0.02)\n",
    "e2 = Entry(frame, font=('Times New Roman', 14))\n",
    "e2.place(relx=0.40, rely=0.08)\n",
    "\n",
    "# button\n",
    "bt1 = Button(frame, text='sum', command=fxn1)\n",
    "bt1.place(relx=0.01, rely=0.16)\n",
    "bt2 = Button(frame, text='sub', command=fxn2)\n",
    "bt2.place(relx=0.2, rely=0.16)\n",
    "bt3 = Button(frame, text='multiply', command=fxn3)\n",
    "bt3.place(relx=0.4, rely=0.16)\n",
    "bt4 = Button(frame, text='divide', command=fxn4)\n",
    "bt4.place(relx=0.6, rely=0.16)\n",
    "# Empty label\n",
    "l3 = Label(frame, text='', font=('Times New Roman', 14), bg='blue')\n",
    "l3.place(relx=0.03, rely=0.24)\n",
    "\n",
    "frame.mainloop()\n"
   ]
  },
  {
   "cell_type": "code",
   "execution_count": null,
   "metadata": {},
   "outputs": [],
   "source": [
    "from math import *"
   ]
  },
  {
   "cell_type": "code",
   "execution_count": 23,
   "metadata": {},
   "outputs": [],
   "source": [
    "# calculator"
   ]
  },
  {
   "cell_type": "markdown",
   "metadata": {},
   "source": []
  },
  {
   "cell_type": "code",
   "execution_count": 1,
   "metadata": {},
   "outputs": [],
   "source": [
    "from tkinter import *\n",
    "from tkinter import messagebox\n",
    "from math import *\n",
    "\n",
    "frame = Tk()\n",
    "frame.geometry('500x500')\n",
    "frame.title(\"New\")\n",
    "frame.configure(bg=\"blue\")\n",
    "\n",
    "\n",
    "def equals():\n",
    "    val = e1.get()\n",
    "    try:\n",
    "        val = eval(val)\n",
    "        e1.delete(0, END)\n",
    "        e1.insert(END, val)\n",
    "    except:\n",
    "        messagebox.showwarning(\"Please Enter number\")\n",
    "\n",
    "\n",
    "def back():\n",
    "    val = e1.get()\n",
    "    val = val[:len(val)-1]\n",
    "    e1.delete(0, END)\n",
    "    e1.insert(0, val)\n",
    "\n",
    "\n",
    "e1 = Entry(frame, font=(\"Times New Roman\", 16), width=60)\n",
    "e1.place(relx=0.0, rely=0.0)\n",
    "one = Button(frame, text=\"1\", width=5, command=lambda: e1.insert(END, '1'))\n",
    "one.place(relx=0.0, rely=0.07)\n",
    "two = Button(frame, text=\"2\", width=5, command=lambda: e1.insert(END, '2'))\n",
    "two.place(relx=0.07, rely=0.07)\n",
    "eq = Button(frame, text=\"=\", width=5, command=equals)\n",
    "eq.place(relx=0.21, rely=0.07)\n",
    "eq = Button(frame, text=\"<--\", width=5, command=back)\n",
    "eq.place(relx=0.34, rely=0.07)\n",
    "frame.mainloop()\n"
   ]
  },
  {
   "cell_type": "markdown",
   "metadata": {},
   "source": [
    "Continue on app.py"
   ]
  },
  {
   "cell_type": "markdown",
   "metadata": {},
   "source": []
  },
  {
   "cell_type": "code",
   "execution_count": null,
   "metadata": {},
   "outputs": [
    {
     "ename": "",
     "evalue": "",
     "output_type": "error",
     "traceback": [
      "\u001b[1;31mFailed to start the Kernel. \n",
      "\u001b[1;31mTraceback (most recent call last):\n",
      "\u001b[1;31m  File \"/home/darklord/.vscode/extensions/ms-toolsai.jupyter-2022.8.1002431955/pythonFiles/vscode_datascience_helpers/jupyter_daemon.py\", line 158, in _start_notebook\n",
      "\u001b[1;31m    from notebook import notebookapp as app\n",
      "\u001b[1;31m  File \"/home/darklord/.local/lib/python3.10/site-packages/notebook/notebookapp.py\", line 43, in <module>\n",
      "\u001b[1;31m    from jinja2 import Environment, FileSystemLoader\n",
      "\u001b[1;31m  File \"/home/darklord/.local/lib/python3.10/site-packages/jinja2/__init__.py\", line 33, in <module>\n",
      "\u001b[1;31m    from jinja2.environment import Environment, Template\n",
      "\u001b[1;31m  File \"/home/darklord/.local/lib/python3.10/site-packages/jinja2/environment.py\", line 13, in <module>\n",
      "\u001b[1;31m    from jinja2 import nodes\n",
      "\u001b[1;31m  File \"/home/darklord/.local/lib/python3.10/site-packages/jinja2/nodes.py\", line 19, in <module>\n",
      "\u001b[1;31m    from jinja2.utils import Markup\n",
      "\u001b[1;31m  File \"/home/darklord/.local/lib/python3.10/site-packages/jinja2/utils.py\", line 531, in <module>\n",
      "\u001b[1;31m    from markupsafe import Markup, escape, soft_unicode\n",
      "\u001b[1;31m  File \"/home/darklord/.local/lib/python3.10/site-packages/markupsafe/__init__.py\", line 13, in <module>\n",
      "\u001b[1;31m    from collections import Mapping\n",
      "\u001b[1;31mImportError: cannot import name 'Mapping' from 'collections' (/usr/lib/python3.10/collections/__init__.py)\n",
      "\u001b[1;31m\n",
      "\u001b[1;31mDuring handling of the above exception, another exception occurred:\n",
      "\u001b[1;31m\n",
      "\u001b[1;31mTraceback (most recent call last):\n",
      "\u001b[1;31m  File \"/home/darklord/.vscode/extensions/ms-toolsai.jupyter-2022.8.1002431955/pythonFiles/vscode_datascience_helpers/daemon/daemon_python.py\", line 54, in _decorator\n",
      "\u001b[1;31m    return func(self, *args, **kwargs)\n",
      "\u001b[1;31m  File \"/home/darklord/.vscode/extensions/ms-toolsai.jupyter-2022.8.1002431955/pythonFiles/vscode_datascience_helpers/jupyter_daemon.py\", line 111, in m_exec_module_observable\n",
      "\u001b[1;31m    self._start_notebook(args, cwd, env)\n",
      "\u001b[1;31m  File \"/home/darklord/.vscode/extensions/ms-toolsai.jupyter-2022.8.1002431955/pythonFiles/vscode_datascience_helpers/jupyter_daemon.py\", line 160, in _start_notebook\n",
      "\u001b[1;31m    from notebook import app as app\n",
      "\u001b[1;31mImportError: cannot import name 'app' from 'notebook' (/home/darklord/.local/lib/python3.10/site-packages/notebook/__init__.py)\n",
      "\u001b[1;31m\n",
      "\u001b[1;31mFailed to run jupyter as observable with args notebook --no-browser --notebook-dir=\"/home/darklord/Desktop/Training/python\" --config=/tmp/faac5332-35a9-4ba4-afd5-9eb6973c4443/jupyter_notebook_config.py --NotebookApp.iopub_data_rate_limit=10000000000.0. \n",
      "\u001b[1;31mView Jupyter <a href='command:jupyter.viewOutput'>log</a> for further details."
     ]
    }
   ],
   "source": [
    "a=1,2,3,4\n",
    "print(a)"
   ]
  },
  {
   "cell_type": "code",
   "execution_count": 2,
   "metadata": {},
   "outputs": [
    {
     "name": "stdout",
     "output_type": "stream",
     "text": [
      "True\n"
     ]
    }
   ],
   "source": [
    "print(a==(1,2,3,4))"
   ]
  },
  {
   "cell_type": "code",
   "execution_count": null,
   "metadata": {},
   "outputs": [],
   "source": []
  }
 ],
 "metadata": {
  "kernelspec": {
   "display_name": "Python 3.10.4 64-bit",
   "language": "python",
   "name": "python3"
  },
  "language_info": {
   "codemirror_mode": {
    "name": "ipython",
    "version": 3
   },
   "file_extension": ".py",
   "mimetype": "text/x-python",
   "name": "python",
   "nbconvert_exporter": "python",
   "pygments_lexer": "ipython3",
   "version": "3.10.4"
  },
  "orig_nbformat": 4,
  "vscode": {
   "interpreter": {
    "hash": "916dbcbb3f70747c44a77c7bcd40155683ae19c65e1c03b4aa3499c5328201f1"
   }
  }
 },
 "nbformat": 4,
 "nbformat_minor": 2
}
