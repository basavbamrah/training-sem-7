{
 "cells": [
  {
   "cell_type": "markdown",
   "metadata": {},
   "source": [
    "# 14/11/22\n"
   ]
  },
  {
   "cell_type": "markdown",
   "metadata": {},
   "source": [
    "# **Deep Learning**\n"
   ]
  },
  {
   "cell_type": "markdown",
   "metadata": {},
   "source": [
    "Deep learning is usage of ANN to perform prediction on highly complex data\n"
   ]
  },
  {
   "cell_type": "code",
   "execution_count": 50,
   "metadata": {},
   "outputs": [],
   "source": [
    "# ! pip install tensorflow\n"
   ]
  },
  {
   "cell_type": "code",
   "execution_count": 51,
   "metadata": {},
   "outputs": [],
   "source": [
    "import tensorflow as tf\n"
   ]
  },
  {
   "cell_type": "markdown",
   "metadata": {},
   "source": [
    "# 15/11/22\n"
   ]
  },
  {
   "cell_type": "markdown",
   "metadata": {},
   "source": [
    "parts of neural networks\n",
    "\n",
    "1. Input layer\n",
    "2. Hidden layer\n",
    "3. Output layer\n",
    "\n",
    "Layer is set of neurons or tensor or units\n",
    "\n",
    "neuron consists of activation function and maps it to specific output range\n",
    "\n",
    "next hidden layes contains neurons less than half of previous layer"
   ]
  },
  {
   "cell_type": "code",
   "execution_count": 52,
   "metadata": {},
   "outputs": [],
   "source": [
    "from sklearn.model_selection import train_test_split\n",
    "from sklearn.preprocessing import OneHotEncoder\n",
    "from sklearn.compose import ColumnTransformer\n",
    "from sklearn.preprocessing import StandardScaler\n",
    "from sklearn.preprocessing import LabelEncoder\n",
    "import tensorflow as tf\n",
    "import pandas as pd\n",
    "\n",
    "df = pd.read_csv('./Churn_Modelling.csv')\n",
    "# df\n",
    "\n",
    "# print(df.isna().sum())\n",
    "\n",
    "df = df.drop(columns=['RowNumber', 'CustomerId', 'Surname'])\n",
    "# df\n",
    "\n",
    "y = df['Exited']\n",
    "X = df.drop(columns='Exited')\n",
    "# X\n",
    "\n",
    "# print(X.dtypes)\n",
    "\n",
    "# Gender\n",
    "\n",
    "le = LabelEncoder()\n",
    "X['Gender'] = le.fit_transform(X['Gender'])\n",
    "# X\n",
    "\n",
    "# print(X['Geography'].value_counts())\n",
    "# Geography\n",
    "\n",
    "ct = ColumnTransformer(\n",
    "    [('encode', OneHotEncoder(), [1])], remainder='passthrough')\n",
    "X = ct.fit_transform(X)\n",
    "\n",
    "sc = StandardScaler()\n",
    "X = sc.fit_transform(X)\n",
    "\n",
    "\n",
    "X_train, X_test, y_train, y_test = train_test_split(\n",
    "    X, y, test_size=.2, random_state=0)\n"
   ]
  },
  {
   "cell_type": "code",
   "execution_count": 53,
   "metadata": {},
   "outputs": [
    {
     "data": {
      "text/plain": [
       "(8000, 12)"
      ]
     },
     "execution_count": 53,
     "metadata": {},
     "output_type": "execute_result"
    }
   ],
   "source": [
    "X_train.shape\n"
   ]
  },
  {
   "cell_type": "markdown",
   "metadata": {},
   "source": [
    "types of nn\n",
    "\n",
    "1. Feed forward\n",
    "2. Recurrent\n",
    "3. Convolutional\n",
    "\n",
    "types of \n",
    "\n",
    "1. sequential\n",
    "2. non sequential"
   ]
  },
  {
   "cell_type": "markdown",
   "metadata": {},
   "source": [
    "sigmoid function: 1+1/(1+e^-x)\n",
    "\n",
    "\n",
    "x is input<br>\n",
    "tells us the probability of true class\n",
    "\n",
    "\n",
    "Graph of sigmoid function is S shaped\n"
   ]
  },
  {
   "cell_type": "markdown",
   "metadata": {},
   "source": [
    "Types of activation functions\n",
    "1. Sigmoid\n",
    "2. Softmax: formula is e^x/sum(e^x) for all x: Softmax is used for multi class classification\n",
    "\n",
    "3. ReLU (rectified linear unit) (most used) : max(0,x) (x is input) \n",
    "4. ELU (exponential linear unit)\n",
    "5. tanh (hyperbolic tangent)\n",
    "6. Leaky ReLU \n",
    "7. Softplus"
   ]
  },
  {
   "cell_type": "code",
   "execution_count": 54,
   "metadata": {},
   "outputs": [],
   "source": [
    "ann=tf.keras.models.Sequential()\n",
    "# input layer\n",
    "ann.add(tf.keras.layers.Input(shape=12))\n",
    "# 1st hidden layer\n",
    "ann.add(tf.keras.layers.Dense(units=200,activation='relu'))\n",
    "ann.add(tf.keras.layers.Dropout(0.2))\n",
    "ann.add(tf.keras.layers.Dense(units=150,activation='relu'))\n",
    "ann.add(tf.keras.layers.Dropout(0.2))\n",
    "ann.add(tf.keras.layers.Dense(units=100,activation='relu'))\n",
    "\n",
    "# output layer\n",
    "\n",
    "ann.add(tf.keras.layers.Dense(units=1,activation='sigmoid'))\n"
   ]
  },
  {
   "cell_type": "markdown",
   "metadata": {},
   "source": [
    "**Note:**\n",
    "\n",
    "1. Which function to use in hidden layes\n",
    "mostly relu, tanh, elu\n",
    "\n",
    "2. Which function to use in output layer\n",
    "a. if regression then use relu or tanh\n",
    "b. if classification then use softmax(multi-class classification), sigmoid(binary classification)\n",
    "\n",
    "use softmax when both categoreis are independent of each other "
   ]
  },
  {
   "cell_type": "markdown",
   "metadata": {},
   "source": []
  },
  {
   "cell_type": "markdown",
   "metadata": {},
   "source": [
    "# 16/11/22"
   ]
  },
  {
   "cell_type": "markdown",
   "metadata": {},
   "source": [
    "Disadvantages of relu\n",
    "no negative values\n"
   ]
  },
  {
   "cell_type": "code",
   "execution_count": 55,
   "metadata": {},
   "outputs": [],
   "source": [
    "# ann.compile(optimizer='adam',loss='binary_crossentropy',metrics=['accuracy'])\n",
    "# history=ann.fit(X_train,y_train,epochs=50,batch_size=32)\n",
    "\n",
    "# history=history.history"
   ]
  },
  {
   "cell_type": "markdown",
   "metadata": {},
   "source": [
    "- Batch Size: number of samples given to neural network at a time to find loss and optimize\n",
    "- Epoch: number of times our neural network will be trained on entire dataset"
   ]
  },
  {
   "cell_type": "markdown",
   "metadata": {},
   "source": [
    "optimization function\n",
    "1. adam\n",
    "2. rmsprop (root mean square prop)\n",
    "3. SGD (stochastic gradient descent)\n",
    "4. autodelta\n",
    "5. Nadam"
   ]
  },
  {
   "cell_type": "markdown",
   "metadata": {},
   "source": [
    "binary cross entropy when output is binary classification\n",
    "catagorical cross entropy when output is multi class classification\n",
    "\n",
    "mean squared error,mean Absolute error when output is regression"
   ]
  },
  {
   "cell_type": "code",
   "execution_count": 56,
   "metadata": {},
   "outputs": [],
   "source": [
    "# y_pred= ann.predict(X_test)\n",
    "# type(y_pred)"
   ]
  },
  {
   "cell_type": "code",
   "execution_count": 57,
   "metadata": {},
   "outputs": [],
   "source": [
    "import numpy as np\n",
    "\n",
    "# y_pred=np.array([1 if i >=0.5 else 0 for i in y_pred])"
   ]
  },
  {
   "cell_type": "code",
   "execution_count": 58,
   "metadata": {},
   "outputs": [],
   "source": [
    "# y_pred=np.where(y_pred>0.5,1,0)"
   ]
  },
  {
   "cell_type": "code",
   "execution_count": 59,
   "metadata": {},
   "outputs": [],
   "source": [
    "# from sklearn.metrics import accuracy_score\n",
    "\n",
    "# print(accuracy_score(y_test,y_pred))"
   ]
  },
  {
   "cell_type": "code",
   "execution_count": 60,
   "metadata": {},
   "outputs": [],
   "source": [
    "# y_pred[y_pred>=0.5]=1\n",
    "# y_pred[y_pred<0.5]=0"
   ]
  },
  {
   "cell_type": "markdown",
   "metadata": {},
   "source": [
    "Validation: \n"
   ]
  },
  {
   "cell_type": "code",
   "execution_count": 61,
   "metadata": {},
   "outputs": [
    {
     "name": "stdout",
     "output_type": "stream",
     "text": [
      "Epoch 1/100\n",
      "250/250 [==============================] - 1s 3ms/step - loss: 0.4326 - accuracy: 0.8170 - val_loss: 0.3605 - val_accuracy: 0.8630\n",
      "Epoch 2/100\n",
      "250/250 [==============================] - 1s 3ms/step - loss: 0.3675 - accuracy: 0.8489 - val_loss: 0.3536 - val_accuracy: 0.8610\n",
      "Epoch 3/100\n",
      "250/250 [==============================] - 1s 3ms/step - loss: 0.3515 - accuracy: 0.8600 - val_loss: 0.3572 - val_accuracy: 0.8500\n",
      "Epoch 4/100\n",
      "250/250 [==============================] - 1s 3ms/step - loss: 0.3468 - accuracy: 0.8569 - val_loss: 0.3464 - val_accuracy: 0.8620\n",
      "Epoch 5/100\n",
      "250/250 [==============================] - 1s 3ms/step - loss: 0.3440 - accuracy: 0.8590 - val_loss: 0.3368 - val_accuracy: 0.8655\n",
      "Epoch 6/100\n",
      "250/250 [==============================] - 1s 3ms/step - loss: 0.3407 - accuracy: 0.8614 - val_loss: 0.3370 - val_accuracy: 0.8635\n",
      "Epoch 7/100\n",
      "250/250 [==============================] - 1s 3ms/step - loss: 0.3372 - accuracy: 0.8616 - val_loss: 0.3375 - val_accuracy: 0.8595\n",
      "Epoch 8/100\n",
      "250/250 [==============================] - 1s 3ms/step - loss: 0.3342 - accuracy: 0.8618 - val_loss: 0.3486 - val_accuracy: 0.8540\n",
      "Epoch 9/100\n",
      "250/250 [==============================] - 1s 3ms/step - loss: 0.3333 - accuracy: 0.8615 - val_loss: 0.3412 - val_accuracy: 0.8570\n",
      "Epoch 10/100\n",
      "250/250 [==============================] - 1s 3ms/step - loss: 0.3313 - accuracy: 0.8658 - val_loss: 0.3408 - val_accuracy: 0.8630\n",
      "Epoch 11/100\n",
      "250/250 [==============================] - 1s 3ms/step - loss: 0.3309 - accuracy: 0.8664 - val_loss: 0.3358 - val_accuracy: 0.8625\n",
      "Epoch 12/100\n",
      "250/250 [==============================] - 1s 3ms/step - loss: 0.3283 - accuracy: 0.8648 - val_loss: 0.3405 - val_accuracy: 0.8575\n",
      "Epoch 13/100\n",
      "250/250 [==============================] - 1s 3ms/step - loss: 0.3203 - accuracy: 0.8698 - val_loss: 0.3512 - val_accuracy: 0.8535\n",
      "Epoch 14/100\n",
      "250/250 [==============================] - 1s 3ms/step - loss: 0.3236 - accuracy: 0.8673 - val_loss: 0.3392 - val_accuracy: 0.8595\n",
      "Epoch 15/100\n",
      "250/250 [==============================] - 1s 3ms/step - loss: 0.3219 - accuracy: 0.8673 - val_loss: 0.3419 - val_accuracy: 0.8620\n",
      "Epoch 16/100\n",
      "250/250 [==============================] - 1s 3ms/step - loss: 0.3166 - accuracy: 0.8720 - val_loss: 0.3439 - val_accuracy: 0.8575\n",
      "Epoch 17/100\n",
      "250/250 [==============================] - 1s 3ms/step - loss: 0.3199 - accuracy: 0.8690 - val_loss: 0.3375 - val_accuracy: 0.8600\n",
      "Epoch 18/100\n",
      "250/250 [==============================] - 1s 3ms/step - loss: 0.3122 - accuracy: 0.8730 - val_loss: 0.3421 - val_accuracy: 0.8600\n",
      "Epoch 19/100\n",
      "250/250 [==============================] - 1s 3ms/step - loss: 0.3098 - accuracy: 0.8730 - val_loss: 0.3433 - val_accuracy: 0.8585\n",
      "Epoch 20/100\n",
      "250/250 [==============================] - 1s 3ms/step - loss: 0.3106 - accuracy: 0.8735 - val_loss: 0.3404 - val_accuracy: 0.8615\n",
      "Epoch 21/100\n",
      "250/250 [==============================] - 1s 3ms/step - loss: 0.3059 - accuracy: 0.8744 - val_loss: 0.3479 - val_accuracy: 0.8565\n",
      "Epoch 22/100\n",
      "250/250 [==============================] - 1s 3ms/step - loss: 0.3052 - accuracy: 0.8759 - val_loss: 0.3401 - val_accuracy: 0.8595\n",
      "Epoch 23/100\n",
      "250/250 [==============================] - 1s 4ms/step - loss: 0.3054 - accuracy: 0.8766 - val_loss: 0.3394 - val_accuracy: 0.8605\n",
      "Epoch 24/100\n",
      "250/250 [==============================] - 1s 3ms/step - loss: 0.3020 - accuracy: 0.8770 - val_loss: 0.3464 - val_accuracy: 0.8570\n",
      "Epoch 25/100\n",
      "250/250 [==============================] - 1s 3ms/step - loss: 0.3014 - accuracy: 0.8765 - val_loss: 0.3589 - val_accuracy: 0.8510\n",
      "Epoch 26/100\n",
      "250/250 [==============================] - 1s 3ms/step - loss: 0.2994 - accuracy: 0.8754 - val_loss: 0.3505 - val_accuracy: 0.8560\n",
      "Epoch 27/100\n",
      "250/250 [==============================] - 1s 3ms/step - loss: 0.2969 - accuracy: 0.8771 - val_loss: 0.3519 - val_accuracy: 0.8535\n",
      "Epoch 28/100\n",
      "250/250 [==============================] - 1s 3ms/step - loss: 0.2897 - accuracy: 0.8796 - val_loss: 0.3638 - val_accuracy: 0.8570\n",
      "Epoch 29/100\n",
      "250/250 [==============================] - 1s 3ms/step - loss: 0.2963 - accuracy: 0.8756 - val_loss: 0.3554 - val_accuracy: 0.8495\n",
      "Epoch 30/100\n",
      "250/250 [==============================] - 1s 3ms/step - loss: 0.2908 - accuracy: 0.8795 - val_loss: 0.3621 - val_accuracy: 0.8540\n",
      "Epoch 31/100\n",
      "250/250 [==============================] - 1s 3ms/step - loss: 0.2906 - accuracy: 0.8808 - val_loss: 0.3614 - val_accuracy: 0.8535\n",
      "Epoch 32/100\n",
      "250/250 [==============================] - 1s 3ms/step - loss: 0.2857 - accuracy: 0.8767 - val_loss: 0.3595 - val_accuracy: 0.8565\n",
      "Epoch 33/100\n",
      "250/250 [==============================] - 1s 3ms/step - loss: 0.2902 - accuracy: 0.8781 - val_loss: 0.3618 - val_accuracy: 0.8525\n",
      "Epoch 34/100\n",
      "250/250 [==============================] - 1s 3ms/step - loss: 0.2853 - accuracy: 0.8794 - val_loss: 0.3579 - val_accuracy: 0.8525\n",
      "Epoch 35/100\n",
      "250/250 [==============================] - 1s 3ms/step - loss: 0.2813 - accuracy: 0.8831 - val_loss: 0.3683 - val_accuracy: 0.8560\n",
      "Epoch 36/100\n",
      "250/250 [==============================] - 1s 3ms/step - loss: 0.2787 - accuracy: 0.8844 - val_loss: 0.3581 - val_accuracy: 0.8550\n",
      "Epoch 37/100\n",
      "250/250 [==============================] - 1s 3ms/step - loss: 0.2793 - accuracy: 0.8813 - val_loss: 0.3634 - val_accuracy: 0.8525\n",
      "Epoch 38/100\n",
      "250/250 [==============================] - 1s 3ms/step - loss: 0.2768 - accuracy: 0.8823 - val_loss: 0.3649 - val_accuracy: 0.8545\n",
      "Epoch 39/100\n",
      "250/250 [==============================] - 1s 3ms/step - loss: 0.2759 - accuracy: 0.8835 - val_loss: 0.3684 - val_accuracy: 0.8440\n",
      "Epoch 40/100\n",
      "250/250 [==============================] - 1s 3ms/step - loss: 0.2728 - accuracy: 0.8866 - val_loss: 0.3699 - val_accuracy: 0.8550\n",
      "Epoch 41/100\n",
      "250/250 [==============================] - 1s 3ms/step - loss: 0.2698 - accuracy: 0.8860 - val_loss: 0.3794 - val_accuracy: 0.8490\n",
      "Epoch 42/100\n",
      "250/250 [==============================] - 1s 3ms/step - loss: 0.2697 - accuracy: 0.8859 - val_loss: 0.3752 - val_accuracy: 0.8480\n",
      "Epoch 43/100\n",
      "250/250 [==============================] - 1s 3ms/step - loss: 0.2677 - accuracy: 0.8873 - val_loss: 0.3930 - val_accuracy: 0.8490\n",
      "Epoch 44/100\n",
      "250/250 [==============================] - 1s 3ms/step - loss: 0.2653 - accuracy: 0.8874 - val_loss: 0.3925 - val_accuracy: 0.8495\n",
      "Epoch 45/100\n",
      "250/250 [==============================] - 1s 3ms/step - loss: 0.2651 - accuracy: 0.8889 - val_loss: 0.3811 - val_accuracy: 0.8490\n",
      "Epoch 46/100\n",
      "250/250 [==============================] - 1s 3ms/step - loss: 0.2636 - accuracy: 0.8878 - val_loss: 0.3889 - val_accuracy: 0.8515\n",
      "Epoch 47/100\n",
      "250/250 [==============================] - 1s 3ms/step - loss: 0.2627 - accuracy: 0.8884 - val_loss: 0.3768 - val_accuracy: 0.8600\n",
      "Epoch 48/100\n",
      "250/250 [==============================] - 1s 3ms/step - loss: 0.2650 - accuracy: 0.8865 - val_loss: 0.3786 - val_accuracy: 0.8565\n",
      "Epoch 49/100\n",
      "250/250 [==============================] - 1s 3ms/step - loss: 0.2577 - accuracy: 0.8906 - val_loss: 0.3847 - val_accuracy: 0.8555\n",
      "Epoch 50/100\n",
      "250/250 [==============================] - 1s 3ms/step - loss: 0.2566 - accuracy: 0.8914 - val_loss: 0.3848 - val_accuracy: 0.8555\n",
      "Epoch 51/100\n",
      "250/250 [==============================] - 1s 3ms/step - loss: 0.2546 - accuracy: 0.8899 - val_loss: 0.3924 - val_accuracy: 0.8585\n",
      "Epoch 52/100\n",
      "250/250 [==============================] - 1s 3ms/step - loss: 0.2561 - accuracy: 0.8904 - val_loss: 0.3931 - val_accuracy: 0.8515\n",
      "Epoch 53/100\n",
      "250/250 [==============================] - 1s 3ms/step - loss: 0.2476 - accuracy: 0.8925 - val_loss: 0.4129 - val_accuracy: 0.8520\n",
      "Epoch 54/100\n",
      "250/250 [==============================] - 1s 3ms/step - loss: 0.2516 - accuracy: 0.8938 - val_loss: 0.4153 - val_accuracy: 0.8460\n",
      "Epoch 55/100\n",
      "250/250 [==============================] - 1s 3ms/step - loss: 0.2516 - accuracy: 0.8904 - val_loss: 0.4044 - val_accuracy: 0.8585\n",
      "Epoch 56/100\n",
      "250/250 [==============================] - 1s 3ms/step - loss: 0.2498 - accuracy: 0.8940 - val_loss: 0.4085 - val_accuracy: 0.8520\n",
      "Epoch 57/100\n",
      "250/250 [==============================] - 1s 3ms/step - loss: 0.2462 - accuracy: 0.8942 - val_loss: 0.3984 - val_accuracy: 0.8570\n",
      "Epoch 58/100\n",
      "250/250 [==============================] - 1s 3ms/step - loss: 0.2485 - accuracy: 0.8907 - val_loss: 0.4109 - val_accuracy: 0.8480\n",
      "Epoch 59/100\n",
      "250/250 [==============================] - 1s 3ms/step - loss: 0.2428 - accuracy: 0.8942 - val_loss: 0.4048 - val_accuracy: 0.8495\n",
      "Epoch 60/100\n",
      "250/250 [==============================] - 1s 3ms/step - loss: 0.2398 - accuracy: 0.8981 - val_loss: 0.4292 - val_accuracy: 0.8520\n",
      "Epoch 61/100\n",
      "250/250 [==============================] - 1s 3ms/step - loss: 0.2431 - accuracy: 0.8945 - val_loss: 0.4060 - val_accuracy: 0.8515\n",
      "Epoch 62/100\n",
      "250/250 [==============================] - 1s 3ms/step - loss: 0.2424 - accuracy: 0.8978 - val_loss: 0.4173 - val_accuracy: 0.8490\n",
      "Epoch 63/100\n",
      "250/250 [==============================] - 1s 3ms/step - loss: 0.2434 - accuracy: 0.8944 - val_loss: 0.4111 - val_accuracy: 0.8505\n",
      "Epoch 64/100\n",
      "250/250 [==============================] - 1s 3ms/step - loss: 0.2389 - accuracy: 0.8986 - val_loss: 0.4188 - val_accuracy: 0.8510\n",
      "Epoch 65/100\n",
      "250/250 [==============================] - 1s 3ms/step - loss: 0.2411 - accuracy: 0.8953 - val_loss: 0.4105 - val_accuracy: 0.8515\n",
      "Epoch 66/100\n",
      "250/250 [==============================] - 1s 3ms/step - loss: 0.2363 - accuracy: 0.8990 - val_loss: 0.4196 - val_accuracy: 0.8470\n",
      "Epoch 67/100\n",
      "250/250 [==============================] - 1s 3ms/step - loss: 0.2346 - accuracy: 0.8972 - val_loss: 0.4309 - val_accuracy: 0.8510\n",
      "Epoch 68/100\n",
      "250/250 [==============================] - 1s 3ms/step - loss: 0.2305 - accuracy: 0.9010 - val_loss: 0.4422 - val_accuracy: 0.8380\n",
      "Epoch 69/100\n",
      "250/250 [==============================] - 1s 3ms/step - loss: 0.2357 - accuracy: 0.8999 - val_loss: 0.4323 - val_accuracy: 0.8500\n",
      "Epoch 70/100\n",
      "250/250 [==============================] - 1s 3ms/step - loss: 0.2339 - accuracy: 0.9000 - val_loss: 0.4344 - val_accuracy: 0.8420\n",
      "Epoch 71/100\n",
      "250/250 [==============================] - 1s 3ms/step - loss: 0.2303 - accuracy: 0.9005 - val_loss: 0.4345 - val_accuracy: 0.8455\n",
      "Epoch 72/100\n",
      "250/250 [==============================] - 1s 3ms/step - loss: 0.2227 - accuracy: 0.9029 - val_loss: 0.4437 - val_accuracy: 0.8465\n",
      "Epoch 73/100\n",
      "250/250 [==============================] - 1s 3ms/step - loss: 0.2270 - accuracy: 0.9001 - val_loss: 0.4411 - val_accuracy: 0.8440\n",
      "Epoch 74/100\n",
      "250/250 [==============================] - 1s 3ms/step - loss: 0.2323 - accuracy: 0.8984 - val_loss: 0.4411 - val_accuracy: 0.8475\n",
      "Epoch 75/100\n",
      "250/250 [==============================] - 1s 3ms/step - loss: 0.2252 - accuracy: 0.9021 - val_loss: 0.4425 - val_accuracy: 0.8475\n",
      "Epoch 76/100\n",
      "250/250 [==============================] - 1s 3ms/step - loss: 0.2239 - accuracy: 0.9053 - val_loss: 0.4371 - val_accuracy: 0.8410\n",
      "Epoch 77/100\n",
      "250/250 [==============================] - 1s 3ms/step - loss: 0.2326 - accuracy: 0.9011 - val_loss: 0.4340 - val_accuracy: 0.8460\n",
      "Epoch 78/100\n",
      "250/250 [==============================] - 1s 3ms/step - loss: 0.2196 - accuracy: 0.9036 - val_loss: 0.4570 - val_accuracy: 0.8440\n",
      "Epoch 79/100\n",
      "250/250 [==============================] - 1s 3ms/step - loss: 0.2242 - accuracy: 0.9041 - val_loss: 0.4606 - val_accuracy: 0.8435\n",
      "Epoch 80/100\n",
      "250/250 [==============================] - 1s 3ms/step - loss: 0.2148 - accuracy: 0.9103 - val_loss: 0.4656 - val_accuracy: 0.8400\n",
      "Epoch 81/100\n",
      "250/250 [==============================] - 1s 3ms/step - loss: 0.2207 - accuracy: 0.9035 - val_loss: 0.4886 - val_accuracy: 0.8405\n",
      "Epoch 82/100\n",
      "250/250 [==============================] - 1s 3ms/step - loss: 0.2274 - accuracy: 0.9009 - val_loss: 0.4712 - val_accuracy: 0.8430\n",
      "Epoch 83/100\n",
      "250/250 [==============================] - 1s 3ms/step - loss: 0.2115 - accuracy: 0.9076 - val_loss: 0.4812 - val_accuracy: 0.8375\n",
      "Epoch 84/100\n",
      "250/250 [==============================] - 1s 3ms/step - loss: 0.2222 - accuracy: 0.9034 - val_loss: 0.4713 - val_accuracy: 0.8315\n",
      "Epoch 85/100\n",
      "250/250 [==============================] - 1s 3ms/step - loss: 0.2120 - accuracy: 0.9118 - val_loss: 0.4784 - val_accuracy: 0.8395\n",
      "Epoch 86/100\n",
      "250/250 [==============================] - 1s 3ms/step - loss: 0.2129 - accuracy: 0.9110 - val_loss: 0.4778 - val_accuracy: 0.8420\n",
      "Epoch 87/100\n",
      "250/250 [==============================] - 1s 3ms/step - loss: 0.2114 - accuracy: 0.9109 - val_loss: 0.4668 - val_accuracy: 0.8430\n",
      "Epoch 88/100\n",
      "250/250 [==============================] - 1s 3ms/step - loss: 0.2160 - accuracy: 0.9080 - val_loss: 0.4664 - val_accuracy: 0.8375\n",
      "Epoch 89/100\n",
      "250/250 [==============================] - 1s 3ms/step - loss: 0.2116 - accuracy: 0.9075 - val_loss: 0.4675 - val_accuracy: 0.8315\n",
      "Epoch 90/100\n",
      "250/250 [==============================] - 1s 3ms/step - loss: 0.2122 - accuracy: 0.9112 - val_loss: 0.4633 - val_accuracy: 0.8485\n",
      "Epoch 91/100\n",
      "250/250 [==============================] - 1s 3ms/step - loss: 0.2123 - accuracy: 0.9074 - val_loss: 0.4821 - val_accuracy: 0.8430\n",
      "Epoch 92/100\n",
      "250/250 [==============================] - 1s 3ms/step - loss: 0.2097 - accuracy: 0.9095 - val_loss: 0.4792 - val_accuracy: 0.8400\n",
      "Epoch 93/100\n",
      "250/250 [==============================] - 1s 3ms/step - loss: 0.2055 - accuracy: 0.9103 - val_loss: 0.4913 - val_accuracy: 0.8435\n",
      "Epoch 94/100\n",
      "250/250 [==============================] - 1s 4ms/step - loss: 0.2062 - accuracy: 0.9136 - val_loss: 0.4998 - val_accuracy: 0.8395\n",
      "Epoch 95/100\n",
      "250/250 [==============================] - 1s 3ms/step - loss: 0.2096 - accuracy: 0.9074 - val_loss: 0.4880 - val_accuracy: 0.8435\n",
      "Epoch 96/100\n",
      "250/250 [==============================] - 1s 3ms/step - loss: 0.2068 - accuracy: 0.9094 - val_loss: 0.4865 - val_accuracy: 0.8370\n",
      "Epoch 97/100\n",
      "250/250 [==============================] - 1s 3ms/step - loss: 0.2069 - accuracy: 0.9124 - val_loss: 0.4892 - val_accuracy: 0.8420\n",
      "Epoch 98/100\n",
      "250/250 [==============================] - 1s 3ms/step - loss: 0.2034 - accuracy: 0.9165 - val_loss: 0.4930 - val_accuracy: 0.8410\n",
      "Epoch 99/100\n",
      "250/250 [==============================] - 1s 3ms/step - loss: 0.1944 - accuracy: 0.9158 - val_loss: 0.5043 - val_accuracy: 0.8260\n",
      "Epoch 100/100\n",
      "250/250 [==============================] - 1s 3ms/step - loss: 0.1984 - accuracy: 0.9133 - val_loss: 0.4997 - val_accuracy: 0.8330\n"
     ]
    }
   ],
   "source": [
    "ann.compile(optimizer='adam',loss='binary_crossentropy',metrics=['accuracy'])\n",
    "history=ann.fit(X_train,y_train,epochs=100,batch_size=32,validation_data=(X_test,y_test))\n",
    "\n",
    "history=history.history"
   ]
  },
  {
   "cell_type": "code",
   "execution_count": 62,
   "metadata": {},
   "outputs": [
    {
     "name": "stdout",
     "output_type": "stream",
     "text": [
      "63/63 [==============================] - 0s 1ms/step\n"
     ]
    }
   ],
   "source": [
    "y_pred = ann.predict(X_test)\n",
    "\n",
    "y_pred=np.where(y_pred>0.5,1,0)"
   ]
  },
  {
   "cell_type": "code",
   "execution_count": 63,
   "metadata": {},
   "outputs": [
    {
     "data": {
      "text/plain": [
       "Text(0, 0.5, 'loss')"
      ]
     },
     "execution_count": 63,
     "metadata": {},
     "output_type": "execute_result"
    },
    {
     "data": {
      "image/png": "[encoded data removed]",
      "text/plain": [
       "<Figure size 640x480 with 1 Axes>"
      ]
     },
     "metadata": {},
     "output_type": "display_data"
    }
   ],
   "source": [
    "from matplotlib import pyplot as plt\n",
    "\n",
    "plt.plot(range(1,101),history['loss'])\n",
    "plt.plot(range(1,101),history['val_loss'])\n",
    "plt.legend(['Training loss','Validation loss'])\n",
    "plt.title('Learning Curve')\n",
    "plt.xlabel('Epochs')\n",
    "plt.ylabel('loss')"
   ]
  },
  {
   "cell_type": "markdown",
   "metadata": {},
   "source": [
    "Regularizarion parameter"
   ]
  },
  {
   "cell_type": "code",
   "execution_count": null,
   "metadata": {},
   "outputs": [],
   "source": [
    "# "
   ]
  },
  {
   "cell_type": "markdown",
   "metadata": {},
   "source": [
    "Varience and Bias\n",
    "\n",
    "Varience is variety of data learned by our model \n",
    "\n",
    "bias is assumption made by our model"
   ]
  },
  {
   "cell_type": "markdown",
   "metadata": {},
   "source": [
    "- Overfitting when varience is high and bias is low, when model is trained on training data and performs well on training data but not on test data\n",
    "- Underfitting when varience is low and bias is high, when model is trained on training data and performs poorly on training data and test data"
   ]
  },
  {
   "cell_type": "markdown",
   "metadata": {},
   "source": []
  }
 ],
 "metadata": {
  "kernelspec": {
   "display_name": "Python 3.9.12 ('base')",
   "language": "python",
   "name": "python3"
  },
  "language_info": {
   "codemirror_mode": {
    "name": "ipython",
    "version": 3
   },
   "file_extension": ".py",
   "mimetype": "text/x-python",
   "name": "python",
   "nbconvert_exporter": "python",
   "pygments_lexer": "ipython3",
   "version": "3.9.12"
  },
  "orig_nbformat": 4,
  "vscode": {
   "interpreter": {
    "hash": "73fa04910e3d127807ceeedb19e1b3e59ccb4070037b8d0933101bf9843736ea"
   }
  }
 },
 "nbformat": 4,
 "nbformat_minor": 2
}
