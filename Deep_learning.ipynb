{
 "cells": [
  {
   "cell_type": "markdown",
   "metadata": {},
   "source": [
    "# 14/11/22\n"
   ]
  },
  {
   "cell_type": "markdown",
   "metadata": {},
   "source": [
    "# **Deep Learning**\n"
   ]
  },
  {
   "cell_type": "markdown",
   "metadata": {},
   "source": [
    "Deep learning is usage of ANN to perform prediction on highly complex data\n"
   ]
  },
  {
   "cell_type": "code",
   "execution_count": 1,
   "metadata": {},
   "outputs": [],
   "source": [
    "# ! pip install tensorflow\n"
   ]
  },
  {
   "cell_type": "code",
   "execution_count": 2,
   "metadata": {},
   "outputs": [
    {
     "name": "stderr",
     "output_type": "stream",
     "text": [
      "2022-11-18 10:39:08.755298: I tensorflow/core/platform/cpu_feature_guard.cc:193] This TensorFlow binary is optimized with oneAPI Deep Neural Network Library (oneDNN) to use the following CPU instructions in performance-critical operations:  AVX2 FMA\n",
      "To enable them in other operations, rebuild TensorFlow with the appropriate compiler flags.\n",
      "2022-11-18 10:39:09.069737: E tensorflow/stream_executor/cuda/cuda_blas.cc:2981] Unable to register cuBLAS factory: Attempting to register factory for plugin cuBLAS when one has already been registered\n",
      "2022-11-18 10:39:10.364202: W tensorflow/stream_executor/platform/default/dso_loader.cc:64] Could not load dynamic library 'libnvinfer.so.7'; dlerror: libnvinfer.so.7: cannot open shared object file: No such file or directory; LD_LIBRARY_PATH: :/home/darklord/anaconda3/envs/tf/lib/\n",
      "2022-11-18 10:39:10.364359: W tensorflow/stream_executor/platform/default/dso_loader.cc:64] Could not load dynamic library 'libnvinfer_plugin.so.7'; dlerror: libnvinfer_plugin.so.7: cannot open shared object file: No such file or directory; LD_LIBRARY_PATH: :/home/darklord/anaconda3/envs/tf/lib/\n",
      "2022-11-18 10:39:10.364370: W tensorflow/compiler/tf2tensorrt/utils/py_utils.cc:38] TF-TRT Warning: Cannot dlopen some TensorRT libraries. If you would like to use Nvidia GPU with TensorRT, please make sure the missing libraries mentioned above are installed properly.\n"
     ]
    }
   ],
   "source": [
    "import tensorflow as tf\n"
   ]
  },
  {
   "cell_type": "markdown",
   "metadata": {},
   "source": [
    "# 15/11/22\n"
   ]
  },
  {
   "cell_type": "markdown",
   "metadata": {},
   "source": [
    "parts of neural networks\n",
    "\n",
    "1. Input layer\n",
    "2. Hidden layer\n",
    "3. Output layer\n",
    "\n",
    "Layer is set of neurons or tensor or units\n",
    "\n",
    "neuron consists of activation function and maps it to specific output range\n",
    "\n",
    "next hidden layes contains neurons less than half of previous layer"
   ]
  },
  {
   "cell_type": "code",
   "execution_count": 3,
   "metadata": {},
   "outputs": [],
   "source": [
    "from sklearn.model_selection import train_test_split\n",
    "from sklearn.preprocessing import OneHotEncoder\n",
    "from sklearn.compose import ColumnTransformer\n",
    "from sklearn.preprocessing import StandardScaler\n",
    "from sklearn.preprocessing import LabelEncoder\n",
    "import tensorflow as tf\n",
    "import pandas as pd\n",
    "\n",
    "df = pd.read_csv('./Churn_Modelling.csv')\n",
    "# df\n",
    "\n",
    "# print(df.isna().sum())\n",
    "\n",
    "df = df.drop(columns=['RowNumber', 'CustomerId', 'Surname'])\n",
    "# df\n",
    "\n",
    "y = df['Exited']\n",
    "X = df.drop(columns='Exited')\n",
    "# X\n",
    "\n",
    "# print(X.dtypes)\n",
    "\n",
    "# Gender\n",
    "\n",
    "le = LabelEncoder()\n",
    "X['Gender'] = le.fit_transform(X['Gender'])\n",
    "# X\n",
    "\n",
    "# print(X['Geography'].value_counts())\n",
    "# Geography\n",
    "\n",
    "ct = ColumnTransformer(\n",
    "    [('encode', OneHotEncoder(), [1])], remainder='passthrough')\n",
    "X = ct.fit_transform(X)\n",
    "\n",
    "sc = StandardScaler()\n",
    "X = sc.fit_transform(X)\n",
    "\n",
    "\n",
    "X_train, X_test, y_train, y_test = train_test_split(\n",
    "    X, y, test_size=.2, random_state=0)\n"
   ]
  },
  {
   "cell_type": "code",
   "execution_count": 4,
   "metadata": {},
   "outputs": [
    {
     "data": {
      "text/plain": [
       "(8000, 12)"
      ]
     },
     "execution_count": 4,
     "metadata": {},
     "output_type": "execute_result"
    }
   ],
   "source": [
    "X_train.shape\n"
   ]
  },
  {
   "cell_type": "markdown",
   "metadata": {},
   "source": [
    "types of nn\n",
    "\n",
    "1. Feed forward\n",
    "2. Recurrent\n",
    "3. Convolutional\n",
    "\n",
    "types of \n",
    "\n",
    "1. sequential\n",
    "2. non sequential"
   ]
  },
  {
   "cell_type": "markdown",
   "metadata": {},
   "source": [
    "sigmoid function: 1+1/(1+e^-x)\n",
    "\n",
    "\n",
    "x is input<br>\n",
    "tells us the probability of true class\n",
    "\n",
    "\n",
    "Graph of sigmoid function is S shaped\n"
   ]
  },
  {
   "cell_type": "markdown",
   "metadata": {},
   "source": [
    "Types of activation functions\n",
    "1. Sigmoid\n",
    "2. Softmax: formula is e^x/sum(e^x) for all x: Softmax is used for multi class classification\n",
    "\n",
    "3. ReLU (rectified linear unit) (most used) : max(0,x) (x is input) \n",
    "4. ELU (exponential linear unit)\n",
    "5. tanh (hyperbolic tangent)\n",
    "6. Leaky ReLU \n",
    "7. Softplus"
   ]
  },
  {
   "cell_type": "code",
   "execution_count": 5,
   "metadata": {},
   "outputs": [
    {
     "name": "stderr",
     "output_type": "stream",
     "text": [
      "2022-11-18 10:39:12.315896: I tensorflow/stream_executor/cuda/cuda_gpu_executor.cc:980] successful NUMA node read from SysFS had negative value (-1), but there must be at least one NUMA node, so returning NUMA node zero\n",
      "2022-11-18 10:39:12.354036: I tensorflow/stream_executor/cuda/cuda_gpu_executor.cc:980] successful NUMA node read from SysFS had negative value (-1), but there must be at least one NUMA node, so returning NUMA node zero\n",
      "2022-11-18 10:39:12.354351: I tensorflow/stream_executor/cuda/cuda_gpu_executor.cc:980] successful NUMA node read from SysFS had negative value (-1), but there must be at least one NUMA node, so returning NUMA node zero\n",
      "2022-11-18 10:39:12.356413: I tensorflow/core/platform/cpu_feature_guard.cc:193] This TensorFlow binary is optimized with oneAPI Deep Neural Network Library (oneDNN) to use the following CPU instructions in performance-critical operations:  AVX2 FMA\n",
      "To enable them in other operations, rebuild TensorFlow with the appropriate compiler flags.\n",
      "2022-11-18 10:39:12.358404: I tensorflow/stream_executor/cuda/cuda_gpu_executor.cc:980] successful NUMA node read from SysFS had negative value (-1), but there must be at least one NUMA node, so returning NUMA node zero\n",
      "2022-11-18 10:39:12.358843: I tensorflow/stream_executor/cuda/cuda_gpu_executor.cc:980] successful NUMA node read from SysFS had negative value (-1), but there must be at least one NUMA node, so returning NUMA node zero\n",
      "2022-11-18 10:39:12.359083: I tensorflow/stream_executor/cuda/cuda_gpu_executor.cc:980] successful NUMA node read from SysFS had negative value (-1), but there must be at least one NUMA node, so returning NUMA node zero\n",
      "2022-11-18 10:39:14.328736: I tensorflow/stream_executor/cuda/cuda_gpu_executor.cc:980] successful NUMA node read from SysFS had negative value (-1), but there must be at least one NUMA node, so returning NUMA node zero\n",
      "2022-11-18 10:39:14.329456: I tensorflow/stream_executor/cuda/cuda_gpu_executor.cc:980] successful NUMA node read from SysFS had negative value (-1), but there must be at least one NUMA node, so returning NUMA node zero\n",
      "2022-11-18 10:39:14.329665: I tensorflow/stream_executor/cuda/cuda_gpu_executor.cc:980] successful NUMA node read from SysFS had negative value (-1), but there must be at least one NUMA node, so returning NUMA node zero\n",
      "2022-11-18 10:39:14.330303: I tensorflow/core/common_runtime/gpu/gpu_device.cc:1616] Created device /job:localhost/replica:0/task:0/device:GPU:0 with 1170 MB memory:  -> device: 0, name: NVIDIA GeForce MX130, pci bus id: 0000:02:00.0, compute capability: 5.0\n"
     ]
    }
   ],
   "source": [
    "ann=tf.keras.models.Sequential()\n",
    "# input layer\n",
    "ann.add(tf.keras.layers.Input(shape=12))\n",
    "# 1st hidden layer\n",
    "# ann.add(tf.keras.layers.Dense(units=200,activation='relu'))\n",
    "ann.add(tf.keras.layers.Dense(units=24,activation='relu'))\n",
    "# ann.add(tf.keras.layers.Dropout(0.2))\n",
    "# ann.add(tf.keras.layers.Dense(units=150,activation='relu'))\n",
    "# ann.add(tf.keras.layers.Dropout(0.2))\n",
    "# ann.add(tf.keras.layers.Dense(units=100,activation='relu'))\n",
    "\n",
    "# output layer\n",
    "\n",
    "ann.add(tf.keras.layers.Dense(units=1,activation='sigmoid'))\n"
   ]
  },
  {
   "cell_type": "markdown",
   "metadata": {},
   "source": [
    "**Note:**\n",
    "\n",
    "1. Which function to use in hidden layes\n",
    "mostly relu, tanh, elu\n",
    "\n",
    "2. Which function to use in output layer\n",
    "a. if regression then use relu or tanh\n",
    "b. if classification then use softmax(multi-class classification), sigmoid(binary classification)\n",
    "\n",
    "use softmax when both categoreis are independent of each other "
   ]
  },
  {
   "cell_type": "markdown",
   "metadata": {},
   "source": []
  },
  {
   "cell_type": "markdown",
   "metadata": {},
   "source": [
    "# 16/11/22"
   ]
  },
  {
   "cell_type": "markdown",
   "metadata": {},
   "source": [
    "Disadvantages of relu\n",
    "no negative values\n"
   ]
  },
  {
   "cell_type": "code",
   "execution_count": 6,
   "metadata": {},
   "outputs": [],
   "source": [
    "# ann.compile(optimizer='adam',loss='binary_crossentropy',metrics=['accuracy'])\n",
    "# history=ann.fit(X_train,y_train,epochs=50,batch_size=32)\n",
    "\n",
    "# history=history.history"
   ]
  },
  {
   "cell_type": "markdown",
   "metadata": {},
   "source": [
    "- Batch Size: number of samples given to neural network at a time to find loss and optimize\n",
    "- Epoch: number of times our neural network will be trained on entire dataset"
   ]
  },
  {
   "cell_type": "markdown",
   "metadata": {},
   "source": [
    "optimization function\n",
    "1. adam\n",
    "2. rmsprop (root mean square prop)\n",
    "3. SGD (stochastic gradient descent)\n",
    "4. autodelta\n",
    "5. Nadam"
   ]
  },
  {
   "cell_type": "markdown",
   "metadata": {},
   "source": [
    "binary cross entropy when output is binary classification\n",
    "catagorical cross entropy when output is multi class classification\n",
    "\n",
    "mean squared error,mean Absolute error when output is regression"
   ]
  },
  {
   "cell_type": "code",
   "execution_count": 7,
   "metadata": {},
   "outputs": [],
   "source": [
    "# y_pred= ann.predict(X_test)\n",
    "# type(y_pred)"
   ]
  },
  {
   "cell_type": "code",
   "execution_count": 8,
   "metadata": {},
   "outputs": [],
   "source": [
    "import numpy as np\n",
    "\n",
    "# y_pred=np.array([1 if i >=0.5 else 0 for i in y_pred])"
   ]
  },
  {
   "cell_type": "code",
   "execution_count": 9,
   "metadata": {},
   "outputs": [],
   "source": [
    "# y_pred=np.where(y_pred>0.5,1,0)"
   ]
  },
  {
   "cell_type": "code",
   "execution_count": 10,
   "metadata": {},
   "outputs": [],
   "source": [
    "# from sklearn.metrics import accuracy_score\n",
    "\n",
    "# print(accuracy_score(y_test,y_pred))"
   ]
  },
  {
   "cell_type": "code",
   "execution_count": 11,
   "metadata": {},
   "outputs": [],
   "source": [
    "# y_pred[y_pred>=0.5]=1\n",
    "# y_pred[y_pred<0.5]=0"
   ]
  },
  {
   "cell_type": "markdown",
   "metadata": {},
   "source": [
    "Validation: \n"
   ]
  },
  {
   "cell_type": "code",
   "execution_count": 12,
   "metadata": {},
   "outputs": [],
   "source": [
    "# ann.compile(optimizer='adam',loss='binary_crossentropy',metrics=['accuracy'])\n",
    "# history=ann.fit(X_train,y_train,epochs=100,batch_size=32,validation_data=(X_test,y_test))\n",
    "\n",
    "# history=history.history"
   ]
  },
  {
   "cell_type": "code",
   "execution_count": 13,
   "metadata": {},
   "outputs": [],
   "source": [
    "# y_pred = ann.predict(X_test)\n",
    "\n",
    "# y_pred=np.where(y_pred>0.5,1,0)"
   ]
  },
  {
   "cell_type": "code",
   "execution_count": 14,
   "metadata": {},
   "outputs": [],
   "source": [
    "# from matplotlib import pyplot as plt\n",
    "\n",
    "# plt.plot(range(1,101),history['loss'])\n",
    "# plt.plot(range(1,101),history['val_loss'])\n",
    "# plt.legend(['Training loss','Validation loss'])\n",
    "# plt.title('Learning Curve')\n",
    "# plt.xlabel('Epochs')\n",
    "# plt.ylabel('loss')"
   ]
  },
  {
   "cell_type": "markdown",
   "metadata": {},
   "source": [
    "Regularizarion parameter"
   ]
  },
  {
   "cell_type": "code",
   "execution_count": 15,
   "metadata": {},
   "outputs": [],
   "source": [
    "# "
   ]
  },
  {
   "cell_type": "markdown",
   "metadata": {},
   "source": [
    "Varience and Bias\n",
    "\n",
    "Varience is variety of data learned by our model \n",
    "\n",
    "bias is assumption made by our model"
   ]
  },
  {
   "cell_type": "markdown",
   "metadata": {},
   "source": [
    "- Overfitting when varience is high and bias is low, when model is trained on training data and performs well on training data but not on test data\n",
    "- Underfitting when varience is low and bias is high, when model is trained on training data and performs poorly on training data and test data"
   ]
  },
  {
   "cell_type": "markdown",
   "metadata": {},
   "source": []
  },
  {
   "cell_type": "markdown",
   "metadata": {},
   "source": [
    "# 17/11/22"
   ]
  },
  {
   "cell_type": "markdown",
   "metadata": {},
   "source": [
    "Underfitting"
   ]
  },
  {
   "cell_type": "code",
   "execution_count": 16,
   "metadata": {},
   "outputs": [],
   "source": [
    "# from matplotlib import pyplot as plt\n",
    "# # adam=tf.keras.optimizers.Adam(learning_rate=2)\n",
    "# adam=tf.keras.optimizers.Adam(learning_rate=0.0001)\n",
    "# ann.compile(optimizer=adam,loss='binary_crossentropy',metrics=['accuracy'])\n",
    "# history=ann.fit(X_train,y_train,epochs=50,batch_size=32,validation_data=(X_test,y_test))\n",
    "\n",
    "# history=history.history\n",
    "\n",
    "# y_pred = ann.predict(X_test)\n",
    "\n",
    "# y_pred = np.where(y_pred > 0.5, 1, 0)\n",
    "\n",
    "# plt.plot(range(1, 51), history['loss'])\n",
    "# plt.plot(range(1, 51), history['val_loss'])\n",
    "# plt.legend(['Training loss', 'Validation loss'])\n",
    "# plt.title('Learning Curve')\n",
    "# plt.xlabel('Epochs')\n",
    "# plt.ylabel('loss')\n"
   ]
  },
  {
   "cell_type": "markdown",
   "metadata": {},
   "source": [
    "same Training and Validation loss means model is ok"
   ]
  },
  {
   "cell_type": "code",
   "execution_count": 17,
   "metadata": {},
   "outputs": [],
   "source": [
    "# ann.save('ann.h5')"
   ]
  },
  {
   "cell_type": "markdown",
   "metadata": {},
   "source": [
    "Callbacks in keras"
   ]
  },
  {
   "cell_type": "code",
   "execution_count": 18,
   "metadata": {},
   "outputs": [],
   "source": [
    "# ! pip install matplotlib"
   ]
  },
  {
   "cell_type": "code",
   "execution_count": 19,
   "metadata": {},
   "outputs": [
    {
     "name": "stdout",
     "output_type": "stream",
     "text": [
      "Epoch 1/100\n",
      "250/250 [==============================] - 2s 5ms/step - loss: 0.6292 - accuracy: 0.6650 - val_loss: 0.5946 - val_accuracy: 0.7220\n",
      "Epoch 2/100\n",
      "250/250 [==============================] - 1s 5ms/step - loss: 0.5699 - accuracy: 0.7607 - val_loss: 0.5474 - val_accuracy: 0.7810\n",
      "Epoch 3/100\n",
      "250/250 [==============================] - 1s 4ms/step - loss: 0.5312 - accuracy: 0.7908 - val_loss: 0.5160 - val_accuracy: 0.8000\n",
      "Epoch 4/100\n",
      "250/250 [==============================] - 1s 4ms/step - loss: 0.5052 - accuracy: 0.7975 - val_loss: 0.4951 - val_accuracy: 0.8030\n",
      "Epoch 5/100\n",
      "250/250 [==============================] - 1s 5ms/step - loss: 0.4874 - accuracy: 0.8008 - val_loss: 0.4801 - val_accuracy: 0.8050\n",
      "Epoch 6/100\n",
      "250/250 [==============================] - 1s 5ms/step - loss: 0.4746 - accuracy: 0.8024 - val_loss: 0.4691 - val_accuracy: 0.8065\n",
      "Epoch 7/100\n",
      "250/250 [==============================] - 1s 5ms/step - loss: 0.4651 - accuracy: 0.8048 - val_loss: 0.4609 - val_accuracy: 0.8095\n",
      "Epoch 8/100\n",
      "250/250 [==============================] - 1s 5ms/step - loss: 0.4578 - accuracy: 0.8065 - val_loss: 0.4546 - val_accuracy: 0.8105\n",
      "Epoch 9/100\n",
      "250/250 [==============================] - 1s 4ms/step - loss: 0.4521 - accuracy: 0.8075 - val_loss: 0.4494 - val_accuracy: 0.8130\n",
      "Epoch 10/100\n",
      "250/250 [==============================] - 1s 4ms/step - loss: 0.4475 - accuracy: 0.8074 - val_loss: 0.4451 - val_accuracy: 0.8125\n",
      "Epoch 11/100\n",
      "250/250 [==============================] - 1s 4ms/step - loss: 0.4437 - accuracy: 0.8094 - val_loss: 0.4416 - val_accuracy: 0.8130\n",
      "Epoch 12/100\n",
      "250/250 [==============================] - 1s 5ms/step - loss: 0.4404 - accuracy: 0.8104 - val_loss: 0.4384 - val_accuracy: 0.8125\n",
      "Epoch 13/100\n",
      "250/250 [==============================] - 1s 3ms/step - loss: 0.4376 - accuracy: 0.8116 - val_loss: 0.4357 - val_accuracy: 0.8125\n",
      "Epoch 14/100\n",
      "250/250 [==============================] - 1s 5ms/step - loss: 0.4351 - accuracy: 0.8115 - val_loss: 0.4332 - val_accuracy: 0.8135\n",
      "Epoch 15/100\n",
      "250/250 [==============================] - 1s 5ms/step - loss: 0.4328 - accuracy: 0.8114 - val_loss: 0.4310 - val_accuracy: 0.8155\n",
      "Epoch 16/100\n",
      "250/250 [==============================] - 1s 5ms/step - loss: 0.4307 - accuracy: 0.8121 - val_loss: 0.4290 - val_accuracy: 0.8150\n",
      "Epoch 17/100\n",
      "250/250 [==============================] - 1s 6ms/step - loss: 0.4287 - accuracy: 0.8123 - val_loss: 0.4271 - val_accuracy: 0.8180\n",
      "Epoch 18/100\n",
      "250/250 [==============================] - 1s 4ms/step - loss: 0.4269 - accuracy: 0.8124 - val_loss: 0.4252 - val_accuracy: 0.8180\n",
      "Epoch 19/100\n",
      "250/250 [==============================] - 1s 4ms/step - loss: 0.4252 - accuracy: 0.8125 - val_loss: 0.4234 - val_accuracy: 0.8185\n",
      "Epoch 20/100\n",
      "250/250 [==============================] - 1s 4ms/step - loss: 0.4234 - accuracy: 0.8139 - val_loss: 0.4217 - val_accuracy: 0.8195\n",
      "Epoch 21/100\n",
      "250/250 [==============================] - 1s 4ms/step - loss: 0.4218 - accuracy: 0.8149 - val_loss: 0.4201 - val_accuracy: 0.8190\n",
      "Epoch 22/100\n",
      "250/250 [==============================] - 1s 5ms/step - loss: 0.4202 - accuracy: 0.8155 - val_loss: 0.4186 - val_accuracy: 0.8195\n",
      "Epoch 23/100\n",
      "250/250 [==============================] - 1s 4ms/step - loss: 0.4187 - accuracy: 0.8163 - val_loss: 0.4170 - val_accuracy: 0.8210\n",
      "Epoch 24/100\n",
      "250/250 [==============================] - 1s 4ms/step - loss: 0.4172 - accuracy: 0.8174 - val_loss: 0.4156 - val_accuracy: 0.8210\n",
      "Epoch 25/100\n",
      "250/250 [==============================] - 1s 3ms/step - loss: 0.4157 - accuracy: 0.8184 - val_loss: 0.4142 - val_accuracy: 0.8210\n",
      "Epoch 26/100\n",
      "250/250 [==============================] - 1s 4ms/step - loss: 0.4143 - accuracy: 0.8194 - val_loss: 0.4127 - val_accuracy: 0.8220\n",
      "Epoch 27/100\n",
      "250/250 [==============================] - 1s 4ms/step - loss: 0.4129 - accuracy: 0.8202 - val_loss: 0.4114 - val_accuracy: 0.8210\n",
      "Epoch 28/100\n",
      "250/250 [==============================] - 1s 4ms/step - loss: 0.4115 - accuracy: 0.8210 - val_loss: 0.4101 - val_accuracy: 0.8220\n",
      "Epoch 29/100\n",
      "250/250 [==============================] - 1s 4ms/step - loss: 0.4102 - accuracy: 0.8235 - val_loss: 0.4088 - val_accuracy: 0.8245\n",
      "Epoch 30/100\n",
      "250/250 [==============================] - 1s 4ms/step - loss: 0.4089 - accuracy: 0.8241 - val_loss: 0.4075 - val_accuracy: 0.8235\n",
      "Epoch 31/100\n",
      "250/250 [==============================] - 1s 4ms/step - loss: 0.4076 - accuracy: 0.8256 - val_loss: 0.4062 - val_accuracy: 0.8250\n",
      "Epoch 32/100\n",
      "250/250 [==============================] - 1s 4ms/step - loss: 0.4063 - accuracy: 0.8264 - val_loss: 0.4049 - val_accuracy: 0.8265\n",
      "Epoch 33/100\n",
      "250/250 [==============================] - 1s 4ms/step - loss: 0.4051 - accuracy: 0.8275 - val_loss: 0.4037 - val_accuracy: 0.8280\n",
      "Epoch 34/100\n",
      "250/250 [==============================] - 1s 4ms/step - loss: 0.4039 - accuracy: 0.8284 - val_loss: 0.4025 - val_accuracy: 0.8305\n",
      "Epoch 35/100\n",
      "250/250 [==============================] - 1s 4ms/step - loss: 0.4027 - accuracy: 0.8298 - val_loss: 0.4013 - val_accuracy: 0.8315\n",
      "Epoch 36/100\n",
      "250/250 [==============================] - 1s 4ms/step - loss: 0.4015 - accuracy: 0.8310 - val_loss: 0.4002 - val_accuracy: 0.8330\n",
      "Epoch 37/100\n",
      "250/250 [==============================] - 1s 4ms/step - loss: 0.4003 - accuracy: 0.8320 - val_loss: 0.3990 - val_accuracy: 0.8335\n",
      "Epoch 38/100\n",
      "250/250 [==============================] - 1s 5ms/step - loss: 0.3991 - accuracy: 0.8329 - val_loss: 0.3978 - val_accuracy: 0.8345\n",
      "Epoch 39/100\n",
      "250/250 [==============================] - 1s 5ms/step - loss: 0.3980 - accuracy: 0.8334 - val_loss: 0.3967 - val_accuracy: 0.8365\n",
      "Epoch 40/100\n",
      "250/250 [==============================] - 1s 4ms/step - loss: 0.3969 - accuracy: 0.8344 - val_loss: 0.3955 - val_accuracy: 0.8370\n",
      "Epoch 41/100\n",
      "250/250 [==============================] - 1s 4ms/step - loss: 0.3958 - accuracy: 0.8350 - val_loss: 0.3944 - val_accuracy: 0.8385\n",
      "Epoch 42/100\n",
      "250/250 [==============================] - 1s 4ms/step - loss: 0.3947 - accuracy: 0.8354 - val_loss: 0.3933 - val_accuracy: 0.8410\n",
      "Epoch 43/100\n",
      "250/250 [==============================] - 1s 4ms/step - loss: 0.3936 - accuracy: 0.8367 - val_loss: 0.3922 - val_accuracy: 0.8400\n",
      "Epoch 44/100\n",
      "250/250 [==============================] - 1s 5ms/step - loss: 0.3925 - accuracy: 0.8371 - val_loss: 0.3912 - val_accuracy: 0.8405\n",
      "Epoch 45/100\n",
      "250/250 [==============================] - 1s 4ms/step - loss: 0.3914 - accuracy: 0.8372 - val_loss: 0.3901 - val_accuracy: 0.8415\n",
      "Epoch 46/100\n",
      "250/250 [==============================] - 1s 4ms/step - loss: 0.3903 - accuracy: 0.8380 - val_loss: 0.3890 - val_accuracy: 0.8435\n",
      "Epoch 47/100\n",
      "250/250 [==============================] - 1s 5ms/step - loss: 0.3892 - accuracy: 0.8380 - val_loss: 0.3880 - val_accuracy: 0.8445\n",
      "Epoch 48/100\n",
      "250/250 [==============================] - 1s 4ms/step - loss: 0.3882 - accuracy: 0.8384 - val_loss: 0.3869 - val_accuracy: 0.8445\n",
      "Epoch 49/100\n",
      "250/250 [==============================] - 1s 4ms/step - loss: 0.3872 - accuracy: 0.8386 - val_loss: 0.3859 - val_accuracy: 0.8450\n",
      "Epoch 50/100\n",
      "250/250 [==============================] - 1s 4ms/step - loss: 0.3861 - accuracy: 0.8393 - val_loss: 0.3848 - val_accuracy: 0.8455\n",
      "Epoch 51/100\n",
      "250/250 [==============================] - 1s 4ms/step - loss: 0.3851 - accuracy: 0.8396 - val_loss: 0.3839 - val_accuracy: 0.8455\n",
      "Epoch 52/100\n",
      "250/250 [==============================] - 1s 4ms/step - loss: 0.3841 - accuracy: 0.8391 - val_loss: 0.3828 - val_accuracy: 0.8455\n",
      "Epoch 53/100\n",
      "250/250 [==============================] - 1s 4ms/step - loss: 0.3831 - accuracy: 0.8407 - val_loss: 0.3817 - val_accuracy: 0.8455\n",
      "Epoch 54/100\n",
      "250/250 [==============================] - 1s 4ms/step - loss: 0.3821 - accuracy: 0.8404 - val_loss: 0.3807 - val_accuracy: 0.8470\n",
      "Epoch 55/100\n",
      "250/250 [==============================] - 1s 5ms/step - loss: 0.3811 - accuracy: 0.8413 - val_loss: 0.3798 - val_accuracy: 0.8460\n",
      "Epoch 56/100\n",
      "250/250 [==============================] - 1s 4ms/step - loss: 0.3800 - accuracy: 0.8428 - val_loss: 0.3788 - val_accuracy: 0.8480\n",
      "Epoch 57/100\n",
      "250/250 [==============================] - 1s 4ms/step - loss: 0.3791 - accuracy: 0.8431 - val_loss: 0.3779 - val_accuracy: 0.8475\n",
      "Epoch 58/100\n",
      "250/250 [==============================] - 1s 4ms/step - loss: 0.3781 - accuracy: 0.8436 - val_loss: 0.3769 - val_accuracy: 0.8480\n",
      "Epoch 59/100\n",
      "250/250 [==============================] - 1s 4ms/step - loss: 0.3771 - accuracy: 0.8440 - val_loss: 0.3760 - val_accuracy: 0.8490\n",
      "Epoch 60/100\n",
      "250/250 [==============================] - 1s 5ms/step - loss: 0.3761 - accuracy: 0.8444 - val_loss: 0.3752 - val_accuracy: 0.8495\n",
      "Epoch 61/100\n",
      "250/250 [==============================] - 1s 5ms/step - loss: 0.3752 - accuracy: 0.8451 - val_loss: 0.3743 - val_accuracy: 0.8515\n",
      "Epoch 62/100\n",
      "250/250 [==============================] - 1s 4ms/step - loss: 0.3743 - accuracy: 0.8455 - val_loss: 0.3734 - val_accuracy: 0.8515\n",
      "Epoch 63/100\n",
      "250/250 [==============================] - 1s 4ms/step - loss: 0.3733 - accuracy: 0.8454 - val_loss: 0.3726 - val_accuracy: 0.8510\n",
      "Epoch 64/100\n",
      "250/250 [==============================] - 1s 4ms/step - loss: 0.3725 - accuracy: 0.8456 - val_loss: 0.3718 - val_accuracy: 0.8510\n",
      "Epoch 65/100\n",
      "250/250 [==============================] - 1s 4ms/step - loss: 0.3716 - accuracy: 0.8461 - val_loss: 0.3709 - val_accuracy: 0.8515\n",
      "Epoch 66/100\n",
      "250/250 [==============================] - 1s 6ms/step - loss: 0.3708 - accuracy: 0.8471 - val_loss: 0.3701 - val_accuracy: 0.8520\n",
      "Epoch 67/100\n",
      "250/250 [==============================] - 1s 5ms/step - loss: 0.3699 - accuracy: 0.8478 - val_loss: 0.3693 - val_accuracy: 0.8535\n",
      "Epoch 68/100\n",
      "250/250 [==============================] - 1s 4ms/step - loss: 0.3691 - accuracy: 0.8471 - val_loss: 0.3684 - val_accuracy: 0.8540\n",
      "Epoch 69/100\n",
      "250/250 [==============================] - 1s 5ms/step - loss: 0.3683 - accuracy: 0.8465 - val_loss: 0.3678 - val_accuracy: 0.8555\n",
      "Epoch 70/100\n",
      "250/250 [==============================] - 1s 4ms/step - loss: 0.3675 - accuracy: 0.8474 - val_loss: 0.3672 - val_accuracy: 0.8555\n",
      "Epoch 71/100\n",
      "250/250 [==============================] - 1s 5ms/step - loss: 0.3668 - accuracy: 0.8476 - val_loss: 0.3665 - val_accuracy: 0.8555\n",
      "Epoch 72/100\n",
      "250/250 [==============================] - 1s 4ms/step - loss: 0.3660 - accuracy: 0.8481 - val_loss: 0.3658 - val_accuracy: 0.8560\n",
      "Epoch 73/100\n",
      "250/250 [==============================] - 1s 5ms/step - loss: 0.3653 - accuracy: 0.8482 - val_loss: 0.3649 - val_accuracy: 0.8560\n",
      "Epoch 74/100\n",
      "250/250 [==============================] - 1s 4ms/step - loss: 0.3646 - accuracy: 0.8481 - val_loss: 0.3644 - val_accuracy: 0.8560\n",
      "Epoch 75/100\n",
      "250/250 [==============================] - 1s 4ms/step - loss: 0.3640 - accuracy: 0.8487 - val_loss: 0.3638 - val_accuracy: 0.8545\n",
      "Epoch 76/100\n",
      "250/250 [==============================] - 1s 4ms/step - loss: 0.3633 - accuracy: 0.8491 - val_loss: 0.3631 - val_accuracy: 0.8550\n",
      "Epoch 77/100\n",
      "250/250 [==============================] - 1s 4ms/step - loss: 0.3627 - accuracy: 0.8503 - val_loss: 0.3625 - val_accuracy: 0.8555\n",
      "Epoch 78/100\n",
      "250/250 [==============================] - 1s 4ms/step - loss: 0.3621 - accuracy: 0.8501 - val_loss: 0.3617 - val_accuracy: 0.8560\n",
      "Epoch 79/100\n",
      "250/250 [==============================] - 1s 5ms/step - loss: 0.3615 - accuracy: 0.8503 - val_loss: 0.3611 - val_accuracy: 0.8555\n",
      "Epoch 80/100\n",
      "250/250 [==============================] - 1s 4ms/step - loss: 0.3609 - accuracy: 0.8510 - val_loss: 0.3606 - val_accuracy: 0.8550\n",
      "Epoch 81/100\n",
      "250/250 [==============================] - 1s 4ms/step - loss: 0.3604 - accuracy: 0.8509 - val_loss: 0.3602 - val_accuracy: 0.8565\n",
      "Epoch 82/100\n",
      "250/250 [==============================] - 1s 5ms/step - loss: 0.3598 - accuracy: 0.8506 - val_loss: 0.3595 - val_accuracy: 0.8565\n",
      "Epoch 83/100\n",
      "250/250 [==============================] - 1s 4ms/step - loss: 0.3593 - accuracy: 0.8514 - val_loss: 0.3589 - val_accuracy: 0.8575\n",
      "Epoch 84/100\n",
      "250/250 [==============================] - 1s 4ms/step - loss: 0.3588 - accuracy: 0.8519 - val_loss: 0.3584 - val_accuracy: 0.8580\n",
      "Epoch 85/100\n",
      "250/250 [==============================] - 1s 4ms/step - loss: 0.3583 - accuracy: 0.8522 - val_loss: 0.3579 - val_accuracy: 0.8580\n",
      "Epoch 86/100\n",
      "250/250 [==============================] - 1s 4ms/step - loss: 0.3578 - accuracy: 0.8528 - val_loss: 0.3574 - val_accuracy: 0.8580\n",
      "Epoch 87/100\n",
      "250/250 [==============================] - 1s 4ms/step - loss: 0.3574 - accuracy: 0.8534 - val_loss: 0.3571 - val_accuracy: 0.8585\n",
      "Epoch 88/100\n",
      "250/250 [==============================] - 1s 4ms/step - loss: 0.3569 - accuracy: 0.8519 - val_loss: 0.3565 - val_accuracy: 0.8580\n",
      "Epoch 89/100\n",
      "250/250 [==============================] - 1s 4ms/step - loss: 0.3565 - accuracy: 0.8533 - val_loss: 0.3561 - val_accuracy: 0.8590\n",
      "Epoch 90/100\n",
      "250/250 [==============================] - 1s 4ms/step - loss: 0.3561 - accuracy: 0.8524 - val_loss: 0.3557 - val_accuracy: 0.8595\n",
      "Epoch 91/100\n",
      "250/250 [==============================] - 1s 4ms/step - loss: 0.3557 - accuracy: 0.8528 - val_loss: 0.3553 - val_accuracy: 0.8590\n",
      "Epoch 92/100\n",
      "250/250 [==============================] - 1s 4ms/step - loss: 0.3552 - accuracy: 0.8528 - val_loss: 0.3549 - val_accuracy: 0.8595\n",
      "Epoch 93/100\n",
      "250/250 [==============================] - 1s 4ms/step - loss: 0.3549 - accuracy: 0.8531 - val_loss: 0.3545 - val_accuracy: 0.8590\n",
      "Epoch 94/100\n",
      "250/250 [==============================] - 1s 4ms/step - loss: 0.3545 - accuracy: 0.8536 - val_loss: 0.3543 - val_accuracy: 0.8580\n",
      "Epoch 95/100\n",
      "250/250 [==============================] - 1s 4ms/step - loss: 0.3542 - accuracy: 0.8535 - val_loss: 0.3539 - val_accuracy: 0.8580\n",
      "Epoch 96/100\n",
      "250/250 [==============================] - 1s 4ms/step - loss: 0.3538 - accuracy: 0.8543 - val_loss: 0.3536 - val_accuracy: 0.8590\n",
      "Epoch 97/100\n",
      "250/250 [==============================] - 1s 4ms/step - loss: 0.3535 - accuracy: 0.8540 - val_loss: 0.3532 - val_accuracy: 0.8600\n",
      "Epoch 98/100\n",
      "250/250 [==============================] - 1s 4ms/step - loss: 0.3532 - accuracy: 0.8547 - val_loss: 0.3530 - val_accuracy: 0.8600\n",
      "Epoch 99/100\n",
      "250/250 [==============================] - 1s 4ms/step - loss: 0.3528 - accuracy: 0.8546 - val_loss: 0.3527 - val_accuracy: 0.8600\n",
      "Epoch 100/100\n",
      "250/250 [==============================] - 1s 3ms/step - loss: 0.3525 - accuracy: 0.8554 - val_loss: 0.3523 - val_accuracy: 0.8595\n",
      "63/63 [==============================] - 0s 2ms/step\n"
     ]
    }
   ],
   "source": [
    "#  callback\n",
    "# from matplotlib import pyplot as plt\n",
    "# adam=tf.keras.optimizers.Adam(learning_rate=2)\n",
    "adam = tf.keras.optimizers.Adam(learning_rate=0.0001)\n",
    "ann.compile(optimizer=adam, loss='binary_crossentropy', metrics=['accuracy'])\n",
    "\n",
    "call1=tf.keras.callbacks.ModelCheckpoint(save_best_only=True,filepath='ann.h5')\n",
    "cal2=tf.keras.callbacks.EarlyStopping(patience=4)\n",
    "\n",
    "history = ann.fit(X_train, y_train, epochs=100, batch_size=32,\n",
    "                  validation_data=(X_test, y_test),callbacks=[call1,cal2])\n",
    "\n",
    "history = history.history\n",
    "\n",
    "y_pred = ann.predict(X_test)\n",
    "\n",
    "y_pred = np.where(y_pred > 0.5, 1, 0)\n",
    "\n",
    "# plt.plot(range(1, 101), history['loss'])\n",
    "# plt.plot(range(1, 101), history['val_loss'])\n",
    "# plt.legend(['Training loss', 'Validation loss'])\n",
    "# plt.title('Learning Curve')\n",
    "# plt.xlabel('Epochs')\n",
    "# plt.ylabel('loss')\n",
    "ann.save('ann.h5')\n",
    "\n"
   ]
  },
  {
   "cell_type": "code",
   "execution_count": 20,
   "metadata": {},
   "outputs": [],
   "source": [
    "# ! pip install seaborn"
   ]
  },
  {
   "cell_type": "markdown",
   "metadata": {},
   "source": [
    "### **project face mask detection**"
   ]
  },
  {
   "cell_type": "code",
   "execution_count": null,
   "metadata": {},
   "outputs": [],
   "source": []
  }
 ],
 "metadata": {
  "kernelspec": {
   "display_name": "Python 3.9.15 ('tf')",
   "language": "python",
   "name": "python3"
  },
  "language_info": {
   "codemirror_mode": {
    "name": "ipython",
    "version": 3
   },
   "file_extension": ".py",
   "mimetype": "text/x-python",
   "name": "python",
   "nbconvert_exporter": "python",
   "pygments_lexer": "ipython3",
   "version": "3.9.15"
  },
  "orig_nbformat": 4,
  "vscode": {
   "interpreter": {
    "hash": "0c4d9a0e5ba6242edd2fd2e769e4c5824f15741c73839fea08f11b8693327fde"
   }
  }
 },
 "nbformat": 4,
 "nbformat_minor": 2
}
