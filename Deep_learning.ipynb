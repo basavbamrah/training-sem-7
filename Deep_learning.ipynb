{
 "cells": [
  {
   "cell_type": "markdown",
   "metadata": {},
   "source": [
    "# 14/11/22\n"
   ]
  },
  {
   "cell_type": "markdown",
   "metadata": {},
   "source": [
    "# **Deep Learning**\n"
   ]
  },
  {
   "cell_type": "markdown",
   "metadata": {},
   "source": [
    "Deep learning is usage of ANN to perform prediction on highly complex data\n"
   ]
  },
  {
   "cell_type": "code",
   "execution_count": 88,
   "metadata": {},
   "outputs": [],
   "source": [
    "# ! pip install tensorflow\n"
   ]
  },
  {
   "cell_type": "code",
   "execution_count": 89,
   "metadata": {},
   "outputs": [],
   "source": [
    "import tensorflow as tf\n"
   ]
  },
  {
   "cell_type": "markdown",
   "metadata": {},
   "source": [
    "# 15/11/22\n"
   ]
  },
  {
   "cell_type": "markdown",
   "metadata": {},
   "source": [
    "parts of neural networks\n",
    "\n",
    "1. Input layer\n",
    "2. Hidden layer\n",
    "3. Output layer\n",
    "\n",
    "Layer is set of neurons or tensor or units\n",
    "\n",
    "neuron consists of activation function and maps it to specific output range\n",
    "\n",
    "next hidden layes contains neurons less than half of previous layer"
   ]
  },
  {
   "cell_type": "code",
   "execution_count": 90,
   "metadata": {},
   "outputs": [],
   "source": [
    "from sklearn.model_selection import train_test_split\n",
    "from sklearn.preprocessing import OneHotEncoder\n",
    "from sklearn.compose import ColumnTransformer\n",
    "from sklearn.preprocessing import StandardScaler\n",
    "from sklearn.preprocessing import LabelEncoder\n",
    "import tensorflow as tf\n",
    "import pandas as pd\n",
    "\n",
    "df = pd.read_csv('./Churn_Modelling.csv')\n",
    "# df\n",
    "\n",
    "# print(df.isna().sum())\n",
    "\n",
    "df = df.drop(columns=['RowNumber', 'CustomerId', 'Surname'])\n",
    "# df\n",
    "\n",
    "y = df['Exited']\n",
    "X = df.drop(columns='Exited')\n",
    "# X\n",
    "\n",
    "# print(X.dtypes)\n",
    "\n",
    "# Gender\n",
    "\n",
    "le = LabelEncoder()\n",
    "X['Gender'] = le.fit_transform(X['Gender'])\n",
    "# X\n",
    "\n",
    "# print(X['Geography'].value_counts())\n",
    "# Geography\n",
    "\n",
    "ct = ColumnTransformer(\n",
    "    [('encode', OneHotEncoder(), [1])], remainder='passthrough')\n",
    "X = ct.fit_transform(X)\n",
    "\n",
    "sc = StandardScaler()\n",
    "X = sc.fit_transform(X)\n",
    "\n",
    "\n",
    "X_train, X_test, y_train, y_test = train_test_split(\n",
    "    X, y, test_size=.2, random_state=0)\n"
   ]
  },
  {
   "cell_type": "code",
   "execution_count": 91,
   "metadata": {},
   "outputs": [
    {
     "data": {
      "text/plain": [
       "(8000, 12)"
      ]
     },
     "execution_count": 91,
     "metadata": {},
     "output_type": "execute_result"
    }
   ],
   "source": [
    "X_train.shape\n"
   ]
  },
  {
   "cell_type": "markdown",
   "metadata": {},
   "source": [
    "types of nn\n",
    "\n",
    "1. Feed forward\n",
    "2. Recurrent\n",
    "3. Convolutional\n",
    "\n",
    "types of \n",
    "\n",
    "1. sequential\n",
    "2. non sequential"
   ]
  },
  {
   "cell_type": "markdown",
   "metadata": {},
   "source": [
    "sigmoid function: 1+1/(1+e^-x)\n",
    "\n",
    "\n",
    "x is input<br>\n",
    "tells us the probability of true class\n",
    "\n",
    "\n",
    "Graph of sigmoid function is S shaped\n"
   ]
  },
  {
   "cell_type": "markdown",
   "metadata": {},
   "source": [
    "Types of activation functions\n",
    "1. Sigmoid\n",
    "2. Softmax: formula is e^x/sum(e^x) for all x: Softmax is used for multi class classification\n",
    "\n",
    "3. ReLU (rectified linear unit) (most used) : max(0,x) (x is input) \n",
    "4. ELU (exponential linear unit)\n",
    "5. tanh (hyperbolic tangent)\n",
    "6. Leaky ReLU \n",
    "7. Softplus"
   ]
  },
  {
   "cell_type": "code",
   "execution_count": 92,
   "metadata": {},
   "outputs": [],
   "source": [
    "ann=tf.keras.models.Sequential()\n",
    "# input layer\n",
    "ann.add(tf.keras.layers.Input(shape=12))\n",
    "# 1st hidden layer\n",
    "# ann.add(tf.keras.layers.Dense(units=200,activation='relu'))\n",
    "ann.add(tf.keras.layers.Dense(units=24,activation='relu'))\n",
    "# ann.add(tf.keras.layers.Dropout(0.2))\n",
    "# ann.add(tf.keras.layers.Dense(units=150,activation='relu'))\n",
    "# ann.add(tf.keras.layers.Dropout(0.2))\n",
    "# ann.add(tf.keras.layers.Dense(units=100,activation='relu'))\n",
    "\n",
    "# output layer\n",
    "\n",
    "ann.add(tf.keras.layers.Dense(units=1,activation='sigmoid'))\n"
   ]
  },
  {
   "cell_type": "markdown",
   "metadata": {},
   "source": [
    "**Note:**\n",
    "\n",
    "1. Which function to use in hidden layes\n",
    "mostly relu, tanh, elu\n",
    "\n",
    "2. Which function to use in output layer\n",
    "a. if regression then use relu or tanh\n",
    "b. if classification then use softmax(multi-class classification), sigmoid(binary classification)\n",
    "\n",
    "use softmax when both categoreis are independent of each other "
   ]
  },
  {
   "cell_type": "markdown",
   "metadata": {},
   "source": []
  },
  {
   "cell_type": "markdown",
   "metadata": {},
   "source": [
    "# 16/11/22"
   ]
  },
  {
   "cell_type": "markdown",
   "metadata": {},
   "source": [
    "Disadvantages of relu\n",
    "no negative values\n"
   ]
  },
  {
   "cell_type": "code",
   "execution_count": 93,
   "metadata": {},
   "outputs": [],
   "source": [
    "# ann.compile(optimizer='adam',loss='binary_crossentropy',metrics=['accuracy'])\n",
    "# history=ann.fit(X_train,y_train,epochs=50,batch_size=32)\n",
    "\n",
    "# history=history.history"
   ]
  },
  {
   "cell_type": "markdown",
   "metadata": {},
   "source": [
    "- Batch Size: number of samples given to neural network at a time to find loss and optimize\n",
    "- Epoch: number of times our neural network will be trained on entire dataset"
   ]
  },
  {
   "cell_type": "markdown",
   "metadata": {},
   "source": [
    "optimization function\n",
    "1. adam\n",
    "2. rmsprop (root mean square prop)\n",
    "3. SGD (stochastic gradient descent)\n",
    "4. autodelta\n",
    "5. Nadam"
   ]
  },
  {
   "cell_type": "markdown",
   "metadata": {},
   "source": [
    "binary cross entropy when output is binary classification\n",
    "catagorical cross entropy when output is multi class classification\n",
    "\n",
    "mean squared error,mean Absolute error when output is regression"
   ]
  },
  {
   "cell_type": "code",
   "execution_count": 94,
   "metadata": {},
   "outputs": [],
   "source": [
    "# y_pred= ann.predict(X_test)\n",
    "# type(y_pred)"
   ]
  },
  {
   "cell_type": "code",
   "execution_count": 95,
   "metadata": {},
   "outputs": [],
   "source": [
    "import numpy as np\n",
    "\n",
    "# y_pred=np.array([1 if i >=0.5 else 0 for i in y_pred])"
   ]
  },
  {
   "cell_type": "code",
   "execution_count": 96,
   "metadata": {},
   "outputs": [],
   "source": [
    "# y_pred=np.where(y_pred>0.5,1,0)"
   ]
  },
  {
   "cell_type": "code",
   "execution_count": 97,
   "metadata": {},
   "outputs": [],
   "source": [
    "# from sklearn.metrics import accuracy_score\n",
    "\n",
    "# print(accuracy_score(y_test,y_pred))"
   ]
  },
  {
   "cell_type": "code",
   "execution_count": 98,
   "metadata": {},
   "outputs": [],
   "source": [
    "# y_pred[y_pred>=0.5]=1\n",
    "# y_pred[y_pred<0.5]=0"
   ]
  },
  {
   "cell_type": "markdown",
   "metadata": {},
   "source": [
    "Validation: \n"
   ]
  },
  {
   "cell_type": "code",
   "execution_count": 99,
   "metadata": {},
   "outputs": [],
   "source": [
    "# ann.compile(optimizer='adam',loss='binary_crossentropy',metrics=['accuracy'])\n",
    "# history=ann.fit(X_train,y_train,epochs=100,batch_size=32,validation_data=(X_test,y_test))\n",
    "\n",
    "# history=history.history"
   ]
  },
  {
   "cell_type": "code",
   "execution_count": 100,
   "metadata": {},
   "outputs": [],
   "source": [
    "# y_pred = ann.predict(X_test)\n",
    "\n",
    "# y_pred=np.where(y_pred>0.5,1,0)"
   ]
  },
  {
   "cell_type": "code",
   "execution_count": 101,
   "metadata": {},
   "outputs": [],
   "source": [
    "# from matplotlib import pyplot as plt\n",
    "\n",
    "# plt.plot(range(1,101),history['loss'])\n",
    "# plt.plot(range(1,101),history['val_loss'])\n",
    "# plt.legend(['Training loss','Validation loss'])\n",
    "# plt.title('Learning Curve')\n",
    "# plt.xlabel('Epochs')\n",
    "# plt.ylabel('loss')"
   ]
  },
  {
   "cell_type": "markdown",
   "metadata": {},
   "source": [
    "Regularizarion parameter"
   ]
  },
  {
   "cell_type": "code",
   "execution_count": 102,
   "metadata": {},
   "outputs": [],
   "source": [
    "# "
   ]
  },
  {
   "cell_type": "markdown",
   "metadata": {},
   "source": [
    "Varience and Bias\n",
    "\n",
    "Varience is variety of data learned by our model \n",
    "\n",
    "bias is assumption made by our model"
   ]
  },
  {
   "cell_type": "markdown",
   "metadata": {},
   "source": [
    "- Overfitting when varience is high and bias is low, when model is trained on training data and performs well on training data but not on test data\n",
    "- Underfitting when varience is low and bias is high, when model is trained on training data and performs poorly on training data and test data"
   ]
  },
  {
   "cell_type": "markdown",
   "metadata": {},
   "source": []
  },
  {
   "cell_type": "markdown",
   "metadata": {},
   "source": [
    "# 17/11/22"
   ]
  },
  {
   "cell_type": "markdown",
   "metadata": {},
   "source": [
    "Underfitting"
   ]
  },
  {
   "cell_type": "code",
   "execution_count": 103,
   "metadata": {},
   "outputs": [],
   "source": [
    "# from matplotlib import pyplot as plt\n",
    "# # adam=tf.keras.optimizers.Adam(learning_rate=2)\n",
    "# adam=tf.keras.optimizers.Adam(learning_rate=0.0001)\n",
    "# ann.compile(optimizer=adam,loss='binary_crossentropy',metrics=['accuracy'])\n",
    "# history=ann.fit(X_train,y_train,epochs=50,batch_size=32,validation_data=(X_test,y_test))\n",
    "\n",
    "# history=history.history\n",
    "\n",
    "# y_pred = ann.predict(X_test)\n",
    "\n",
    "# y_pred = np.where(y_pred > 0.5, 1, 0)\n",
    "\n",
    "# plt.plot(range(1, 51), history['loss'])\n",
    "# plt.plot(range(1, 51), history['val_loss'])\n",
    "# plt.legend(['Training loss', 'Validation loss'])\n",
    "# plt.title('Learning Curve')\n",
    "# plt.xlabel('Epochs')\n",
    "# plt.ylabel('loss')\n"
   ]
  },
  {
   "cell_type": "markdown",
   "metadata": {},
   "source": [
    "same Training and Validation loss means model is ok"
   ]
  },
  {
   "cell_type": "code",
   "execution_count": 104,
   "metadata": {},
   "outputs": [],
   "source": [
    "# ann.save('ann.h5')"
   ]
  },
  {
   "cell_type": "markdown",
   "metadata": {},
   "source": [
    "Callbacks in keras"
   ]
  },
  {
   "cell_type": "code",
   "execution_count": 105,
   "metadata": {},
   "outputs": [
    {
     "name": "stdout",
     "output_type": "stream",
     "text": [
      "Epoch 1/100\n",
      "250/250 [==============================] - 1s 3ms/step - loss: 0.7817 - accuracy: 0.4947 - val_loss: 0.7397 - val_accuracy: 0.5380\n",
      "Epoch 2/100\n",
      "250/250 [==============================] - 1s 3ms/step - loss: 0.6687 - accuracy: 0.6109 - val_loss: 0.6454 - val_accuracy: 0.6300\n",
      "Epoch 3/100\n",
      "250/250 [==============================] - 1s 3ms/step - loss: 0.5937 - accuracy: 0.6974 - val_loss: 0.5823 - val_accuracy: 0.7030\n",
      "Epoch 4/100\n",
      "250/250 [==============================] - 0s 2ms/step - loss: 0.5438 - accuracy: 0.7487 - val_loss: 0.5400 - val_accuracy: 0.7525\n",
      "Epoch 5/100\n",
      "250/250 [==============================] - 0s 2ms/step - loss: 0.5106 - accuracy: 0.7741 - val_loss: 0.5112 - val_accuracy: 0.7755\n",
      "Epoch 6/100\n",
      "250/250 [==============================] - 0s 2ms/step - loss: 0.4883 - accuracy: 0.7928 - val_loss: 0.4913 - val_accuracy: 0.7925\n",
      "Epoch 7/100\n",
      "250/250 [==============================] - 0s 2ms/step - loss: 0.4728 - accuracy: 0.8010 - val_loss: 0.4770 - val_accuracy: 0.7975\n",
      "Epoch 8/100\n",
      "250/250 [==============================] - 0s 2ms/step - loss: 0.4618 - accuracy: 0.8064 - val_loss: 0.4663 - val_accuracy: 0.8060\n",
      "Epoch 9/100\n",
      "250/250 [==============================] - 0s 2ms/step - loss: 0.4537 - accuracy: 0.8074 - val_loss: 0.4582 - val_accuracy: 0.8075\n",
      "Epoch 10/100\n",
      "250/250 [==============================] - 0s 2ms/step - loss: 0.4474 - accuracy: 0.8095 - val_loss: 0.4518 - val_accuracy: 0.8090\n",
      "Epoch 11/100\n",
      "250/250 [==============================] - 0s 2ms/step - loss: 0.4424 - accuracy: 0.8104 - val_loss: 0.4465 - val_accuracy: 0.8140\n",
      "Epoch 12/100\n",
      "250/250 [==============================] - 0s 2ms/step - loss: 0.4382 - accuracy: 0.8112 - val_loss: 0.4419 - val_accuracy: 0.8165\n",
      "Epoch 13/100\n",
      "250/250 [==============================] - 0s 2ms/step - loss: 0.4347 - accuracy: 0.8124 - val_loss: 0.4380 - val_accuracy: 0.8180\n",
      "Epoch 14/100\n",
      "250/250 [==============================] - 1s 3ms/step - loss: 0.4316 - accuracy: 0.8130 - val_loss: 0.4347 - val_accuracy: 0.8170\n",
      "Epoch 15/100\n",
      "250/250 [==============================] - 1s 3ms/step - loss: 0.4289 - accuracy: 0.8141 - val_loss: 0.4316 - val_accuracy: 0.8160\n",
      "Epoch 16/100\n",
      "250/250 [==============================] - 0s 2ms/step - loss: 0.4265 - accuracy: 0.8148 - val_loss: 0.4289 - val_accuracy: 0.8175\n",
      "Epoch 17/100\n",
      "250/250 [==============================] - 0s 2ms/step - loss: 0.4242 - accuracy: 0.8148 - val_loss: 0.4263 - val_accuracy: 0.8185\n",
      "Epoch 18/100\n",
      "250/250 [==============================] - 0s 2ms/step - loss: 0.4221 - accuracy: 0.8152 - val_loss: 0.4239 - val_accuracy: 0.8205\n",
      "Epoch 19/100\n",
      "250/250 [==============================] - 0s 2ms/step - loss: 0.4202 - accuracy: 0.8159 - val_loss: 0.4216 - val_accuracy: 0.8205\n",
      "Epoch 20/100\n",
      "250/250 [==============================] - 0s 2ms/step - loss: 0.4183 - accuracy: 0.8164 - val_loss: 0.4194 - val_accuracy: 0.8215\n",
      "Epoch 21/100\n",
      "250/250 [==============================] - 0s 2ms/step - loss: 0.4164 - accuracy: 0.8173 - val_loss: 0.4173 - val_accuracy: 0.8225\n",
      "Epoch 22/100\n",
      "250/250 [==============================] - 0s 2ms/step - loss: 0.4147 - accuracy: 0.8185 - val_loss: 0.4154 - val_accuracy: 0.8235\n",
      "Epoch 23/100\n",
      "250/250 [==============================] - 0s 2ms/step - loss: 0.4130 - accuracy: 0.8184 - val_loss: 0.4134 - val_accuracy: 0.8255\n",
      "Epoch 24/100\n",
      "250/250 [==============================] - 0s 2ms/step - loss: 0.4113 - accuracy: 0.8199 - val_loss: 0.4114 - val_accuracy: 0.8260\n",
      "Epoch 25/100\n",
      "250/250 [==============================] - 0s 2ms/step - loss: 0.4096 - accuracy: 0.8211 - val_loss: 0.4094 - val_accuracy: 0.8270\n",
      "Epoch 26/100\n",
      "250/250 [==============================] - 1s 2ms/step - loss: 0.4079 - accuracy: 0.8226 - val_loss: 0.4076 - val_accuracy: 0.8270\n",
      "Epoch 27/100\n",
      "250/250 [==============================] - 1s 2ms/step - loss: 0.4063 - accuracy: 0.8231 - val_loss: 0.4057 - val_accuracy: 0.8290\n",
      "Epoch 28/100\n",
      "250/250 [==============================] - 0s 2ms/step - loss: 0.4047 - accuracy: 0.8246 - val_loss: 0.4038 - val_accuracy: 0.8300\n",
      "Epoch 29/100\n",
      "250/250 [==============================] - 0s 2ms/step - loss: 0.4030 - accuracy: 0.8267 - val_loss: 0.4020 - val_accuracy: 0.8315\n",
      "Epoch 30/100\n",
      "250/250 [==============================] - 0s 2ms/step - loss: 0.4014 - accuracy: 0.8273 - val_loss: 0.4002 - val_accuracy: 0.8325\n",
      "Epoch 31/100\n",
      "250/250 [==============================] - 0s 2ms/step - loss: 0.3998 - accuracy: 0.8278 - val_loss: 0.3985 - val_accuracy: 0.8350\n",
      "Epoch 32/100\n",
      "250/250 [==============================] - 0s 2ms/step - loss: 0.3982 - accuracy: 0.8292 - val_loss: 0.3967 - val_accuracy: 0.8365\n",
      "Epoch 33/100\n",
      "250/250 [==============================] - 0s 2ms/step - loss: 0.3966 - accuracy: 0.8307 - val_loss: 0.3951 - val_accuracy: 0.8385\n",
      "Epoch 34/100\n",
      "250/250 [==============================] - 0s 2ms/step - loss: 0.3950 - accuracy: 0.8310 - val_loss: 0.3932 - val_accuracy: 0.8390\n",
      "Epoch 35/100\n",
      "250/250 [==============================] - 0s 2ms/step - loss: 0.3934 - accuracy: 0.8317 - val_loss: 0.3915 - val_accuracy: 0.8400\n",
      "Epoch 36/100\n",
      "250/250 [==============================] - 0s 2ms/step - loss: 0.3918 - accuracy: 0.8336 - val_loss: 0.3898 - val_accuracy: 0.8410\n",
      "Epoch 37/100\n",
      "250/250 [==============================] - 0s 2ms/step - loss: 0.3903 - accuracy: 0.8341 - val_loss: 0.3882 - val_accuracy: 0.8415\n",
      "Epoch 38/100\n",
      "250/250 [==============================] - 0s 2ms/step - loss: 0.3888 - accuracy: 0.8350 - val_loss: 0.3866 - val_accuracy: 0.8425\n",
      "Epoch 39/100\n",
      "250/250 [==============================] - 0s 2ms/step - loss: 0.3873 - accuracy: 0.8360 - val_loss: 0.3850 - val_accuracy: 0.8435\n",
      "Epoch 40/100\n",
      "250/250 [==============================] - 0s 2ms/step - loss: 0.3858 - accuracy: 0.8364 - val_loss: 0.3834 - val_accuracy: 0.8440\n",
      "Epoch 41/100\n",
      "250/250 [==============================] - 0s 2ms/step - loss: 0.3844 - accuracy: 0.8370 - val_loss: 0.3820 - val_accuracy: 0.8450\n",
      "Epoch 42/100\n",
      "250/250 [==============================] - 0s 2ms/step - loss: 0.3830 - accuracy: 0.8385 - val_loss: 0.3804 - val_accuracy: 0.8450\n",
      "Epoch 43/100\n",
      "250/250 [==============================] - 0s 2ms/step - loss: 0.3816 - accuracy: 0.8395 - val_loss: 0.3791 - val_accuracy: 0.8450\n",
      "Epoch 44/100\n",
      "250/250 [==============================] - 0s 2ms/step - loss: 0.3803 - accuracy: 0.8404 - val_loss: 0.3776 - val_accuracy: 0.8465\n",
      "Epoch 45/100\n",
      "250/250 [==============================] - 0s 2ms/step - loss: 0.3791 - accuracy: 0.8425 - val_loss: 0.3764 - val_accuracy: 0.8485\n",
      "Epoch 46/100\n",
      "250/250 [==============================] - 0s 2ms/step - loss: 0.3778 - accuracy: 0.8430 - val_loss: 0.3749 - val_accuracy: 0.8500\n",
      "Epoch 47/100\n",
      "250/250 [==============================] - 0s 2ms/step - loss: 0.3766 - accuracy: 0.8441 - val_loss: 0.3738 - val_accuracy: 0.8505\n",
      "Epoch 48/100\n",
      "250/250 [==============================] - 0s 2ms/step - loss: 0.3754 - accuracy: 0.8443 - val_loss: 0.3726 - val_accuracy: 0.8510\n",
      "Epoch 49/100\n",
      "250/250 [==============================] - 1s 2ms/step - loss: 0.3743 - accuracy: 0.8447 - val_loss: 0.3713 - val_accuracy: 0.8515\n",
      "Epoch 50/100\n",
      "250/250 [==============================] - 0s 2ms/step - loss: 0.3732 - accuracy: 0.8447 - val_loss: 0.3702 - val_accuracy: 0.8520\n",
      "Epoch 51/100\n",
      "250/250 [==============================] - 0s 2ms/step - loss: 0.3721 - accuracy: 0.8451 - val_loss: 0.3693 - val_accuracy: 0.8530\n",
      "Epoch 52/100\n",
      "250/250 [==============================] - 0s 2ms/step - loss: 0.3711 - accuracy: 0.8464 - val_loss: 0.3681 - val_accuracy: 0.8545\n",
      "Epoch 53/100\n",
      "250/250 [==============================] - 0s 2ms/step - loss: 0.3700 - accuracy: 0.8469 - val_loss: 0.3671 - val_accuracy: 0.8545\n",
      "Epoch 54/100\n",
      "250/250 [==============================] - 0s 2ms/step - loss: 0.3691 - accuracy: 0.8471 - val_loss: 0.3661 - val_accuracy: 0.8545\n",
      "Epoch 55/100\n",
      "250/250 [==============================] - 0s 2ms/step - loss: 0.3681 - accuracy: 0.8478 - val_loss: 0.3653 - val_accuracy: 0.8545\n",
      "Epoch 56/100\n",
      "250/250 [==============================] - 0s 2ms/step - loss: 0.3672 - accuracy: 0.8478 - val_loss: 0.3644 - val_accuracy: 0.8540\n",
      "Epoch 57/100\n",
      "250/250 [==============================] - 0s 2ms/step - loss: 0.3664 - accuracy: 0.8491 - val_loss: 0.3635 - val_accuracy: 0.8550\n",
      "Epoch 58/100\n",
      "250/250 [==============================] - 0s 2ms/step - loss: 0.3655 - accuracy: 0.8494 - val_loss: 0.3627 - val_accuracy: 0.8555\n",
      "Epoch 59/100\n",
      "250/250 [==============================] - 0s 2ms/step - loss: 0.3647 - accuracy: 0.8500 - val_loss: 0.3619 - val_accuracy: 0.8555\n",
      "Epoch 60/100\n",
      "250/250 [==============================] - 0s 2ms/step - loss: 0.3639 - accuracy: 0.8504 - val_loss: 0.3611 - val_accuracy: 0.8555\n",
      "Epoch 61/100\n",
      "250/250 [==============================] - 0s 2ms/step - loss: 0.3632 - accuracy: 0.8504 - val_loss: 0.3604 - val_accuracy: 0.8560\n",
      "Epoch 62/100\n",
      "250/250 [==============================] - 0s 2ms/step - loss: 0.3624 - accuracy: 0.8506 - val_loss: 0.3596 - val_accuracy: 0.8580\n",
      "Epoch 63/100\n",
      "250/250 [==============================] - 0s 2ms/step - loss: 0.3618 - accuracy: 0.8512 - val_loss: 0.3591 - val_accuracy: 0.8570\n",
      "Epoch 64/100\n",
      "250/250 [==============================] - 0s 2ms/step - loss: 0.3611 - accuracy: 0.8520 - val_loss: 0.3584 - val_accuracy: 0.8575\n",
      "Epoch 65/100\n",
      "250/250 [==============================] - 0s 2ms/step - loss: 0.3604 - accuracy: 0.8526 - val_loss: 0.3578 - val_accuracy: 0.8570\n",
      "Epoch 66/100\n",
      "250/250 [==============================] - 0s 2ms/step - loss: 0.3598 - accuracy: 0.8519 - val_loss: 0.3571 - val_accuracy: 0.8575\n",
      "Epoch 67/100\n",
      "250/250 [==============================] - 0s 2ms/step - loss: 0.3592 - accuracy: 0.8524 - val_loss: 0.3566 - val_accuracy: 0.8570\n",
      "Epoch 68/100\n",
      "250/250 [==============================] - 0s 2ms/step - loss: 0.3586 - accuracy: 0.8534 - val_loss: 0.3562 - val_accuracy: 0.8570\n",
      "Epoch 69/100\n",
      "250/250 [==============================] - 0s 2ms/step - loss: 0.3581 - accuracy: 0.8537 - val_loss: 0.3557 - val_accuracy: 0.8565\n",
      "Epoch 70/100\n",
      "250/250 [==============================] - 0s 2ms/step - loss: 0.3576 - accuracy: 0.8535 - val_loss: 0.3552 - val_accuracy: 0.8575\n",
      "Epoch 71/100\n",
      "250/250 [==============================] - 0s 2ms/step - loss: 0.3570 - accuracy: 0.8536 - val_loss: 0.3547 - val_accuracy: 0.8585\n",
      "Epoch 72/100\n",
      "250/250 [==============================] - 0s 2ms/step - loss: 0.3566 - accuracy: 0.8540 - val_loss: 0.3543 - val_accuracy: 0.8575\n",
      "Epoch 73/100\n",
      "250/250 [==============================] - 0s 2ms/step - loss: 0.3561 - accuracy: 0.8545 - val_loss: 0.3538 - val_accuracy: 0.8580\n",
      "Epoch 74/100\n",
      "250/250 [==============================] - 0s 2ms/step - loss: 0.3556 - accuracy: 0.8541 - val_loss: 0.3535 - val_accuracy: 0.8580\n",
      "Epoch 75/100\n",
      "250/250 [==============================] - 0s 2ms/step - loss: 0.3552 - accuracy: 0.8535 - val_loss: 0.3530 - val_accuracy: 0.8580\n",
      "Epoch 76/100\n",
      "250/250 [==============================] - 0s 2ms/step - loss: 0.3548 - accuracy: 0.8544 - val_loss: 0.3527 - val_accuracy: 0.8570\n",
      "Epoch 77/100\n",
      "250/250 [==============================] - 0s 2ms/step - loss: 0.3543 - accuracy: 0.8549 - val_loss: 0.3523 - val_accuracy: 0.8575\n",
      "Epoch 78/100\n",
      "250/250 [==============================] - 0s 2ms/step - loss: 0.3540 - accuracy: 0.8545 - val_loss: 0.3521 - val_accuracy: 0.8575\n",
      "Epoch 79/100\n",
      "250/250 [==============================] - 0s 2ms/step - loss: 0.3536 - accuracy: 0.8553 - val_loss: 0.3518 - val_accuracy: 0.8555\n",
      "Epoch 80/100\n",
      "250/250 [==============================] - 0s 2ms/step - loss: 0.3532 - accuracy: 0.8550 - val_loss: 0.3514 - val_accuracy: 0.8570\n",
      "Epoch 81/100\n",
      "250/250 [==============================] - 0s 2ms/step - loss: 0.3529 - accuracy: 0.8556 - val_loss: 0.3510 - val_accuracy: 0.8565\n",
      "Epoch 82/100\n",
      "250/250 [==============================] - 1s 2ms/step - loss: 0.3525 - accuracy: 0.8561 - val_loss: 0.3508 - val_accuracy: 0.8565\n",
      "Epoch 83/100\n",
      "250/250 [==============================] - 0s 2ms/step - loss: 0.3521 - accuracy: 0.8566 - val_loss: 0.3505 - val_accuracy: 0.8565\n",
      "Epoch 84/100\n",
      "250/250 [==============================] - 0s 2ms/step - loss: 0.3518 - accuracy: 0.8566 - val_loss: 0.3503 - val_accuracy: 0.8570\n",
      "Epoch 85/100\n",
      "250/250 [==============================] - 0s 2ms/step - loss: 0.3514 - accuracy: 0.8576 - val_loss: 0.3499 - val_accuracy: 0.8560\n",
      "Epoch 86/100\n",
      "250/250 [==============================] - 0s 2ms/step - loss: 0.3512 - accuracy: 0.8576 - val_loss: 0.3496 - val_accuracy: 0.8570\n",
      "Epoch 87/100\n",
      "250/250 [==============================] - 0s 2ms/step - loss: 0.3509 - accuracy: 0.8580 - val_loss: 0.3494 - val_accuracy: 0.8570\n",
      "Epoch 88/100\n",
      "250/250 [==============================] - 0s 2ms/step - loss: 0.3506 - accuracy: 0.8575 - val_loss: 0.3492 - val_accuracy: 0.8565\n",
      "Epoch 89/100\n",
      "250/250 [==============================] - 0s 2ms/step - loss: 0.3503 - accuracy: 0.8584 - val_loss: 0.3489 - val_accuracy: 0.8565\n",
      "Epoch 90/100\n",
      "250/250 [==============================] - 0s 2ms/step - loss: 0.3500 - accuracy: 0.8569 - val_loss: 0.3487 - val_accuracy: 0.8560\n",
      "Epoch 91/100\n",
      "250/250 [==============================] - 0s 2ms/step - loss: 0.3497 - accuracy: 0.8586 - val_loss: 0.3484 - val_accuracy: 0.8550\n",
      "Epoch 92/100\n",
      "250/250 [==============================] - 0s 2ms/step - loss: 0.3494 - accuracy: 0.8581 - val_loss: 0.3482 - val_accuracy: 0.8550\n",
      "Epoch 93/100\n",
      "250/250 [==============================] - 0s 2ms/step - loss: 0.3492 - accuracy: 0.8585 - val_loss: 0.3480 - val_accuracy: 0.8545\n",
      "Epoch 94/100\n",
      "250/250 [==============================] - 0s 2ms/step - loss: 0.3489 - accuracy: 0.8586 - val_loss: 0.3478 - val_accuracy: 0.8545\n",
      "Epoch 95/100\n",
      "250/250 [==============================] - 0s 2ms/step - loss: 0.3487 - accuracy: 0.8584 - val_loss: 0.3476 - val_accuracy: 0.8545\n",
      "Epoch 96/100\n",
      "250/250 [==============================] - 0s 2ms/step - loss: 0.3484 - accuracy: 0.8589 - val_loss: 0.3474 - val_accuracy: 0.8545\n",
      "Epoch 97/100\n",
      "250/250 [==============================] - 0s 2ms/step - loss: 0.3482 - accuracy: 0.8586 - val_loss: 0.3472 - val_accuracy: 0.8550\n",
      "Epoch 98/100\n",
      "250/250 [==============================] - 0s 2ms/step - loss: 0.3479 - accuracy: 0.8587 - val_loss: 0.3470 - val_accuracy: 0.8555\n",
      "Epoch 99/100\n",
      "250/250 [==============================] - 0s 2ms/step - loss: 0.3477 - accuracy: 0.8587 - val_loss: 0.3468 - val_accuracy: 0.8555\n",
      "Epoch 100/100\n",
      "250/250 [==============================] - 1s 2ms/step - loss: 0.3475 - accuracy: 0.8589 - val_loss: 0.3468 - val_accuracy: 0.8560\n",
      "63/63 [==============================] - 0s 1ms/step\n"
     ]
    }
   ],
   "source": [
    "#  callback\n",
    "from matplotlib import pyplot as plt\n",
    "# adam=tf.keras.optimizers.Adam(learning_rate=2)\n",
    "adam = tf.keras.optimizers.Adam(learning_rate=0.0001)\n",
    "ann.compile(optimizer=adam, loss='binary_crossentropy', metrics=['accuracy'])\n",
    "\n",
    "call1=tf.keras.callbacks.ModelCheckpoint(save_best_only=True,filepath='ann.h5')\n",
    "cal2=tf.keras.callbacks.EarlyStopping(patience=4)\n",
    "\n",
    "history = ann.fit(X_train, y_train, epochs=100, batch_size=32,\n",
    "                  validation_data=(X_test, y_test),callbacks=[call1,cal2])\n",
    "\n",
    "history = history.history\n",
    "\n",
    "y_pred = ann.predict(X_test)\n",
    "\n",
    "y_pred = np.where(y_pred > 0.5, 1, 0)\n",
    "\n",
    "# plt.plot(range(1, 101), history['loss'])\n",
    "# plt.plot(range(1, 101), history['val_loss'])\n",
    "# plt.legend(['Training loss', 'Validation loss'])\n",
    "# plt.title('Learning Curve')\n",
    "# plt.xlabel('Epochs')\n",
    "# plt.ylabel('loss')\n",
    "ann.save('ann.h5')\n",
    "\n"
   ]
  },
  {
   "cell_type": "code",
   "execution_count": null,
   "metadata": {},
   "outputs": [],
   "source": []
  }
 ],
 "metadata": {
  "kernelspec": {
   "display_name": "Python 3.9.12 ('base')",
   "language": "python",
   "name": "python3"
  },
  "language_info": {
   "codemirror_mode": {
    "name": "ipython",
    "version": 3
   },
   "file_extension": ".py",
   "mimetype": "text/x-python",
   "name": "python",
   "nbconvert_exporter": "python",
   "pygments_lexer": "ipython3",
   "version": "3.9.12"
  },
  "orig_nbformat": 4,
  "vscode": {
   "interpreter": {
    "hash": "73fa04910e3d127807ceeedb19e1b3e59ccb4070037b8d0933101bf9843736ea"
   }
  }
 },
 "nbformat": 4,
 "nbformat_minor": 2
}
