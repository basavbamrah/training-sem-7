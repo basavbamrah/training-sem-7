{
 "cells": [
  {
   "cell_type": "markdown",
   "metadata": {},
   "source": [
    "# 14/11/22\n"
   ]
  },
  {
   "cell_type": "markdown",
   "metadata": {},
   "source": [
    "# **Deep Learning**\n"
   ]
  },
  {
   "cell_type": "markdown",
   "metadata": {},
   "source": [
    "Deep learning is usage of ANN to perform prediction on highly complex data\n"
   ]
  },
  {
   "cell_type": "code",
   "execution_count": 1,
   "metadata": {},
   "outputs": [],
   "source": [
    "# ! pip install tensorflow\n"
   ]
  },
  {
   "cell_type": "code",
   "execution_count": 2,
   "metadata": {},
   "outputs": [
    {
     "name": "stderr",
     "output_type": "stream",
     "text": [
      "2022-11-17 17:33:31.489416: I tensorflow/core/platform/cpu_feature_guard.cc:193] This TensorFlow binary is optimized with oneAPI Deep Neural Network Library (oneDNN) to use the following CPU instructions in performance-critical operations:  AVX2 FMA\n",
      "To enable them in other operations, rebuild TensorFlow with the appropriate compiler flags.\n",
      "2022-11-17 17:33:32.120881: E tensorflow/stream_executor/cuda/cuda_blas.cc:2981] Unable to register cuBLAS factory: Attempting to register factory for plugin cuBLAS when one has already been registered\n",
      "2022-11-17 17:33:34.699079: W tensorflow/stream_executor/platform/default/dso_loader.cc:64] Could not load dynamic library 'libnvinfer.so.7'; dlerror: libnvinfer.so.7: cannot open shared object file: No such file or directory; LD_LIBRARY_PATH: :/home/darklord/anaconda3/envs/tf/lib/\n",
      "2022-11-17 17:33:34.699532: W tensorflow/stream_executor/platform/default/dso_loader.cc:64] Could not load dynamic library 'libnvinfer_plugin.so.7'; dlerror: libnvinfer_plugin.so.7: cannot open shared object file: No such file or directory; LD_LIBRARY_PATH: :/home/darklord/anaconda3/envs/tf/lib/\n",
      "2022-11-17 17:33:34.699565: W tensorflow/compiler/tf2tensorrt/utils/py_utils.cc:38] TF-TRT Warning: Cannot dlopen some TensorRT libraries. If you would like to use Nvidia GPU with TensorRT, please make sure the missing libraries mentioned above are installed properly.\n"
     ]
    }
   ],
   "source": [
    "import tensorflow as tf\n"
   ]
  },
  {
   "cell_type": "markdown",
   "metadata": {},
   "source": [
    "# 15/11/22\n"
   ]
  },
  {
   "cell_type": "markdown",
   "metadata": {},
   "source": [
    "parts of neural networks\n",
    "\n",
    "1. Input layer\n",
    "2. Hidden layer\n",
    "3. Output layer\n",
    "\n",
    "Layer is set of neurons or tensor or units\n",
    "\n",
    "neuron consists of activation function and maps it to specific output range\n",
    "\n",
    "next hidden layes contains neurons less than half of previous layer"
   ]
  },
  {
   "cell_type": "code",
   "execution_count": 3,
   "metadata": {},
   "outputs": [],
   "source": [
    "from sklearn.model_selection import train_test_split\n",
    "from sklearn.preprocessing import OneHotEncoder\n",
    "from sklearn.compose import ColumnTransformer\n",
    "from sklearn.preprocessing import StandardScaler\n",
    "from sklearn.preprocessing import LabelEncoder\n",
    "import tensorflow as tf\n",
    "import pandas as pd\n",
    "\n",
    "df = pd.read_csv('./Churn_Modelling.csv')\n",
    "# df\n",
    "\n",
    "# print(df.isna().sum())\n",
    "\n",
    "df = df.drop(columns=['RowNumber', 'CustomerId', 'Surname'])\n",
    "# df\n",
    "\n",
    "y = df['Exited']\n",
    "X = df.drop(columns='Exited')\n",
    "# X\n",
    "\n",
    "# print(X.dtypes)\n",
    "\n",
    "# Gender\n",
    "\n",
    "le = LabelEncoder()\n",
    "X['Gender'] = le.fit_transform(X['Gender'])\n",
    "# X\n",
    "\n",
    "# print(X['Geography'].value_counts())\n",
    "# Geography\n",
    "\n",
    "ct = ColumnTransformer(\n",
    "    [('encode', OneHotEncoder(), [1])], remainder='passthrough')\n",
    "X = ct.fit_transform(X)\n",
    "\n",
    "sc = StandardScaler()\n",
    "X = sc.fit_transform(X)\n",
    "\n",
    "\n",
    "X_train, X_test, y_train, y_test = train_test_split(\n",
    "    X, y, test_size=.2, random_state=0)\n"
   ]
  },
  {
   "cell_type": "code",
   "execution_count": 4,
   "metadata": {},
   "outputs": [
    {
     "data": {
      "text/plain": [
       "(8000, 12)"
      ]
     },
     "execution_count": 4,
     "metadata": {},
     "output_type": "execute_result"
    }
   ],
   "source": [
    "X_train.shape\n"
   ]
  },
  {
   "cell_type": "markdown",
   "metadata": {},
   "source": [
    "types of nn\n",
    "\n",
    "1. Feed forward\n",
    "2. Recurrent\n",
    "3. Convolutional\n",
    "\n",
    "types of \n",
    "\n",
    "1. sequential\n",
    "2. non sequential"
   ]
  },
  {
   "cell_type": "markdown",
   "metadata": {},
   "source": [
    "sigmoid function: 1+1/(1+e^-x)\n",
    "\n",
    "\n",
    "x is input<br>\n",
    "tells us the probability of true class\n",
    "\n",
    "\n",
    "Graph of sigmoid function is S shaped\n"
   ]
  },
  {
   "cell_type": "markdown",
   "metadata": {},
   "source": [
    "Types of activation functions\n",
    "1. Sigmoid\n",
    "2. Softmax: formula is e^x/sum(e^x) for all x: Softmax is used for multi class classification\n",
    "\n",
    "3. ReLU (rectified linear unit) (most used) : max(0,x) (x is input) \n",
    "4. ELU (exponential linear unit)\n",
    "5. tanh (hyperbolic tangent)\n",
    "6. Leaky ReLU \n",
    "7. Softplus"
   ]
  },
  {
   "cell_type": "code",
   "execution_count": 5,
   "metadata": {},
   "outputs": [
    {
     "name": "stderr",
     "output_type": "stream",
     "text": [
      "2022-11-17 17:33:38.475790: I tensorflow/stream_executor/cuda/cuda_gpu_executor.cc:980] successful NUMA node read from SysFS had negative value (-1), but there must be at least one NUMA node, so returning NUMA node zero\n",
      "2022-11-17 17:33:38.506429: I tensorflow/stream_executor/cuda/cuda_gpu_executor.cc:980] successful NUMA node read from SysFS had negative value (-1), but there must be at least one NUMA node, so returning NUMA node zero\n",
      "2022-11-17 17:33:38.507010: I tensorflow/stream_executor/cuda/cuda_gpu_executor.cc:980] successful NUMA node read from SysFS had negative value (-1), but there must be at least one NUMA node, so returning NUMA node zero\n",
      "2022-11-17 17:33:38.508603: I tensorflow/core/platform/cpu_feature_guard.cc:193] This TensorFlow binary is optimized with oneAPI Deep Neural Network Library (oneDNN) to use the following CPU instructions in performance-critical operations:  AVX2 FMA\n",
      "To enable them in other operations, rebuild TensorFlow with the appropriate compiler flags.\n",
      "2022-11-17 17:33:38.509568: I tensorflow/stream_executor/cuda/cuda_gpu_executor.cc:980] successful NUMA node read from SysFS had negative value (-1), but there must be at least one NUMA node, so returning NUMA node zero\n",
      "2022-11-17 17:33:38.510421: I tensorflow/stream_executor/cuda/cuda_gpu_executor.cc:980] successful NUMA node read from SysFS had negative value (-1), but there must be at least one NUMA node, so returning NUMA node zero\n",
      "2022-11-17 17:33:38.511226: I tensorflow/stream_executor/cuda/cuda_gpu_executor.cc:980] successful NUMA node read from SysFS had negative value (-1), but there must be at least one NUMA node, so returning NUMA node zero\n",
      "2022-11-17 17:33:39.779043: I tensorflow/stream_executor/cuda/cuda_gpu_executor.cc:980] successful NUMA node read from SysFS had negative value (-1), but there must be at least one NUMA node, so returning NUMA node zero\n",
      "2022-11-17 17:33:39.779711: I tensorflow/stream_executor/cuda/cuda_gpu_executor.cc:980] successful NUMA node read from SysFS had negative value (-1), but there must be at least one NUMA node, so returning NUMA node zero\n",
      "2022-11-17 17:33:39.780000: I tensorflow/stream_executor/cuda/cuda_gpu_executor.cc:980] successful NUMA node read from SysFS had negative value (-1), but there must be at least one NUMA node, so returning NUMA node zero\n",
      "2022-11-17 17:33:39.780219: I tensorflow/core/common_runtime/gpu/gpu_device.cc:1616] Created device /job:localhost/replica:0/task:0/device:GPU:0 with 1620 MB memory:  -> device: 0, name: NVIDIA GeForce MX130, pci bus id: 0000:02:00.0, compute capability: 5.0\n"
     ]
    }
   ],
   "source": [
    "ann=tf.keras.models.Sequential()\n",
    "# input layer\n",
    "ann.add(tf.keras.layers.Input(shape=12))\n",
    "# 1st hidden layer\n",
    "# ann.add(tf.keras.layers.Dense(units=200,activation='relu'))\n",
    "ann.add(tf.keras.layers.Dense(units=24,activation='relu'))\n",
    "# ann.add(tf.keras.layers.Dropout(0.2))\n",
    "# ann.add(tf.keras.layers.Dense(units=150,activation='relu'))\n",
    "# ann.add(tf.keras.layers.Dropout(0.2))\n",
    "# ann.add(tf.keras.layers.Dense(units=100,activation='relu'))\n",
    "\n",
    "# output layer\n",
    "\n",
    "ann.add(tf.keras.layers.Dense(units=1,activation='sigmoid'))\n"
   ]
  },
  {
   "cell_type": "markdown",
   "metadata": {},
   "source": [
    "**Note:**\n",
    "\n",
    "1. Which function to use in hidden layes\n",
    "mostly relu, tanh, elu\n",
    "\n",
    "2. Which function to use in output layer\n",
    "a. if regression then use relu or tanh\n",
    "b. if classification then use softmax(multi-class classification), sigmoid(binary classification)\n",
    "\n",
    "use softmax when both categoreis are independent of each other "
   ]
  },
  {
   "cell_type": "markdown",
   "metadata": {},
   "source": []
  },
  {
   "cell_type": "markdown",
   "metadata": {},
   "source": [
    "# 16/11/22"
   ]
  },
  {
   "cell_type": "markdown",
   "metadata": {},
   "source": [
    "Disadvantages of relu\n",
    "no negative values\n"
   ]
  },
  {
   "cell_type": "code",
   "execution_count": 6,
   "metadata": {},
   "outputs": [],
   "source": [
    "# ann.compile(optimizer='adam',loss='binary_crossentropy',metrics=['accuracy'])\n",
    "# history=ann.fit(X_train,y_train,epochs=50,batch_size=32)\n",
    "\n",
    "# history=history.history"
   ]
  },
  {
   "cell_type": "markdown",
   "metadata": {},
   "source": [
    "- Batch Size: number of samples given to neural network at a time to find loss and optimize\n",
    "- Epoch: number of times our neural network will be trained on entire dataset"
   ]
  },
  {
   "cell_type": "markdown",
   "metadata": {},
   "source": [
    "optimization function\n",
    "1. adam\n",
    "2. rmsprop (root mean square prop)\n",
    "3. SGD (stochastic gradient descent)\n",
    "4. autodelta\n",
    "5. Nadam"
   ]
  },
  {
   "cell_type": "markdown",
   "metadata": {},
   "source": [
    "binary cross entropy when output is binary classification\n",
    "catagorical cross entropy when output is multi class classification\n",
    "\n",
    "mean squared error,mean Absolute error when output is regression"
   ]
  },
  {
   "cell_type": "code",
   "execution_count": 7,
   "metadata": {},
   "outputs": [],
   "source": [
    "# y_pred= ann.predict(X_test)\n",
    "# type(y_pred)"
   ]
  },
  {
   "cell_type": "code",
   "execution_count": 8,
   "metadata": {},
   "outputs": [],
   "source": [
    "import numpy as np\n",
    "\n",
    "# y_pred=np.array([1 if i >=0.5 else 0 for i in y_pred])"
   ]
  },
  {
   "cell_type": "code",
   "execution_count": 9,
   "metadata": {},
   "outputs": [],
   "source": [
    "# y_pred=np.where(y_pred>0.5,1,0)"
   ]
  },
  {
   "cell_type": "code",
   "execution_count": 10,
   "metadata": {},
   "outputs": [],
   "source": [
    "# from sklearn.metrics import accuracy_score\n",
    "\n",
    "# print(accuracy_score(y_test,y_pred))"
   ]
  },
  {
   "cell_type": "code",
   "execution_count": 11,
   "metadata": {},
   "outputs": [],
   "source": [
    "# y_pred[y_pred>=0.5]=1\n",
    "# y_pred[y_pred<0.5]=0"
   ]
  },
  {
   "cell_type": "markdown",
   "metadata": {},
   "source": [
    "Validation: \n"
   ]
  },
  {
   "cell_type": "code",
   "execution_count": 12,
   "metadata": {},
   "outputs": [],
   "source": [
    "# ann.compile(optimizer='adam',loss='binary_crossentropy',metrics=['accuracy'])\n",
    "# history=ann.fit(X_train,y_train,epochs=100,batch_size=32,validation_data=(X_test,y_test))\n",
    "\n",
    "# history=history.history"
   ]
  },
  {
   "cell_type": "code",
   "execution_count": 13,
   "metadata": {},
   "outputs": [],
   "source": [
    "# y_pred = ann.predict(X_test)\n",
    "\n",
    "# y_pred=np.where(y_pred>0.5,1,0)"
   ]
  },
  {
   "cell_type": "code",
   "execution_count": 14,
   "metadata": {},
   "outputs": [],
   "source": [
    "# from matplotlib import pyplot as plt\n",
    "\n",
    "# plt.plot(range(1,101),history['loss'])\n",
    "# plt.plot(range(1,101),history['val_loss'])\n",
    "# plt.legend(['Training loss','Validation loss'])\n",
    "# plt.title('Learning Curve')\n",
    "# plt.xlabel('Epochs')\n",
    "# plt.ylabel('loss')"
   ]
  },
  {
   "cell_type": "markdown",
   "metadata": {},
   "source": [
    "Regularizarion parameter"
   ]
  },
  {
   "cell_type": "code",
   "execution_count": 15,
   "metadata": {},
   "outputs": [],
   "source": [
    "# "
   ]
  },
  {
   "cell_type": "markdown",
   "metadata": {},
   "source": [
    "Varience and Bias\n",
    "\n",
    "Varience is variety of data learned by our model \n",
    "\n",
    "bias is assumption made by our model"
   ]
  },
  {
   "cell_type": "markdown",
   "metadata": {},
   "source": [
    "- Overfitting when varience is high and bias is low, when model is trained on training data and performs well on training data but not on test data\n",
    "- Underfitting when varience is low and bias is high, when model is trained on training data and performs poorly on training data and test data"
   ]
  },
  {
   "cell_type": "markdown",
   "metadata": {},
   "source": []
  },
  {
   "cell_type": "markdown",
   "metadata": {},
   "source": [
    "# 17/11/22"
   ]
  },
  {
   "cell_type": "markdown",
   "metadata": {},
   "source": [
    "Underfitting"
   ]
  },
  {
   "cell_type": "code",
   "execution_count": 16,
   "metadata": {},
   "outputs": [],
   "source": [
    "# from matplotlib import pyplot as plt\n",
    "# # adam=tf.keras.optimizers.Adam(learning_rate=2)\n",
    "# adam=tf.keras.optimizers.Adam(learning_rate=0.0001)\n",
    "# ann.compile(optimizer=adam,loss='binary_crossentropy',metrics=['accuracy'])\n",
    "# history=ann.fit(X_train,y_train,epochs=50,batch_size=32,validation_data=(X_test,y_test))\n",
    "\n",
    "# history=history.history\n",
    "\n",
    "# y_pred = ann.predict(X_test)\n",
    "\n",
    "# y_pred = np.where(y_pred > 0.5, 1, 0)\n",
    "\n",
    "# plt.plot(range(1, 51), history['loss'])\n",
    "# plt.plot(range(1, 51), history['val_loss'])\n",
    "# plt.legend(['Training loss', 'Validation loss'])\n",
    "# plt.title('Learning Curve')\n",
    "# plt.xlabel('Epochs')\n",
    "# plt.ylabel('loss')\n"
   ]
  },
  {
   "cell_type": "markdown",
   "metadata": {},
   "source": [
    "same Training and Validation loss means model is ok"
   ]
  },
  {
   "cell_type": "code",
   "execution_count": 17,
   "metadata": {},
   "outputs": [],
   "source": [
    "# ann.save('ann.h5')"
   ]
  },
  {
   "cell_type": "markdown",
   "metadata": {},
   "source": [
    "Callbacks in keras"
   ]
  },
  {
   "cell_type": "code",
   "execution_count": 22,
   "metadata": {},
   "outputs": [],
   "source": [
    "# ! pip install matplotlib"
   ]
  },
  {
   "cell_type": "code",
   "execution_count": 20,
   "metadata": {},
   "outputs": [
    {
     "name": "stdout",
     "output_type": "stream",
     "text": [
      "Epoch 1/100\n",
      "250/250 [==============================] - 2s 3ms/step - loss: 0.7098 - accuracy: 0.5769 - val_loss: 0.6735 - val_accuracy: 0.6140\n",
      "Epoch 2/100\n",
      "250/250 [==============================] - 1s 3ms/step - loss: 0.6131 - accuracy: 0.6874 - val_loss: 0.5952 - val_accuracy: 0.7060\n",
      "Epoch 3/100\n",
      "250/250 [==============================] - 1s 3ms/step - loss: 0.5509 - accuracy: 0.7440 - val_loss: 0.5447 - val_accuracy: 0.7405\n",
      "Epoch 4/100\n",
      "250/250 [==============================] - 1s 3ms/step - loss: 0.5117 - accuracy: 0.7730 - val_loss: 0.5121 - val_accuracy: 0.7710\n",
      "Epoch 5/100\n",
      "250/250 [==============================] - 1s 3ms/step - loss: 0.4869 - accuracy: 0.7870 - val_loss: 0.4908 - val_accuracy: 0.7830\n",
      "Epoch 6/100\n",
      "250/250 [==============================] - 1s 3ms/step - loss: 0.4709 - accuracy: 0.7914 - val_loss: 0.4762 - val_accuracy: 0.7865\n",
      "Epoch 7/100\n",
      "250/250 [==============================] - 1s 4ms/step - loss: 0.4601 - accuracy: 0.7960 - val_loss: 0.4658 - val_accuracy: 0.7930\n",
      "Epoch 8/100\n",
      "250/250 [==============================] - 1s 4ms/step - loss: 0.4523 - accuracy: 0.7999 - val_loss: 0.4578 - val_accuracy: 0.7965\n",
      "Epoch 9/100\n",
      "250/250 [==============================] - 2s 6ms/step - loss: 0.4465 - accuracy: 0.8033 - val_loss: 0.4517 - val_accuracy: 0.8015\n",
      "Epoch 10/100\n",
      "250/250 [==============================] - 1s 6ms/step - loss: 0.4418 - accuracy: 0.8039 - val_loss: 0.4466 - val_accuracy: 0.8040\n",
      "Epoch 11/100\n",
      "250/250 [==============================] - 2s 6ms/step - loss: 0.4379 - accuracy: 0.8061 - val_loss: 0.4423 - val_accuracy: 0.8050\n",
      "Epoch 12/100\n",
      "250/250 [==============================] - 2s 6ms/step - loss: 0.4346 - accuracy: 0.8074 - val_loss: 0.4386 - val_accuracy: 0.8070\n",
      "Epoch 13/100\n",
      "250/250 [==============================] - 1s 5ms/step - loss: 0.4317 - accuracy: 0.8083 - val_loss: 0.4355 - val_accuracy: 0.8085\n",
      "Epoch 14/100\n",
      "250/250 [==============================] - 1s 5ms/step - loss: 0.4291 - accuracy: 0.8106 - val_loss: 0.4324 - val_accuracy: 0.8105\n",
      "Epoch 15/100\n",
      "250/250 [==============================] - 1s 4ms/step - loss: 0.4267 - accuracy: 0.8117 - val_loss: 0.4297 - val_accuracy: 0.8120\n",
      "Epoch 16/100\n",
      "250/250 [==============================] - 1s 4ms/step - loss: 0.4244 - accuracy: 0.8129 - val_loss: 0.4273 - val_accuracy: 0.8130\n",
      "Epoch 17/100\n",
      "250/250 [==============================] - 1s 4ms/step - loss: 0.4223 - accuracy: 0.8151 - val_loss: 0.4247 - val_accuracy: 0.8160\n",
      "Epoch 18/100\n",
      "250/250 [==============================] - 1s 3ms/step - loss: 0.4203 - accuracy: 0.8164 - val_loss: 0.4225 - val_accuracy: 0.8175\n",
      "Epoch 19/100\n",
      "250/250 [==============================] - 1s 3ms/step - loss: 0.4183 - accuracy: 0.8177 - val_loss: 0.4203 - val_accuracy: 0.8190\n",
      "Epoch 20/100\n",
      "250/250 [==============================] - 1s 3ms/step - loss: 0.4164 - accuracy: 0.8188 - val_loss: 0.4183 - val_accuracy: 0.8185\n",
      "Epoch 21/100\n",
      "250/250 [==============================] - 1s 3ms/step - loss: 0.4145 - accuracy: 0.8194 - val_loss: 0.4163 - val_accuracy: 0.8190\n",
      "Epoch 22/100\n",
      "250/250 [==============================] - 1s 3ms/step - loss: 0.4127 - accuracy: 0.8200 - val_loss: 0.4143 - val_accuracy: 0.8200\n",
      "Epoch 23/100\n",
      "250/250 [==============================] - 1s 3ms/step - loss: 0.4109 - accuracy: 0.8210 - val_loss: 0.4122 - val_accuracy: 0.8220\n",
      "Epoch 24/100\n",
      "250/250 [==============================] - 1s 3ms/step - loss: 0.4092 - accuracy: 0.8224 - val_loss: 0.4103 - val_accuracy: 0.8240\n",
      "Epoch 25/100\n",
      "250/250 [==============================] - 1s 3ms/step - loss: 0.4074 - accuracy: 0.8241 - val_loss: 0.4083 - val_accuracy: 0.8255\n",
      "Epoch 26/100\n",
      "250/250 [==============================] - 1s 3ms/step - loss: 0.4057 - accuracy: 0.8245 - val_loss: 0.4065 - val_accuracy: 0.8260\n",
      "Epoch 27/100\n",
      "250/250 [==============================] - 1s 3ms/step - loss: 0.4040 - accuracy: 0.8261 - val_loss: 0.4045 - val_accuracy: 0.8280\n",
      "Epoch 28/100\n",
      "250/250 [==============================] - 1s 3ms/step - loss: 0.4024 - accuracy: 0.8278 - val_loss: 0.4026 - val_accuracy: 0.8280\n",
      "Epoch 29/100\n",
      "250/250 [==============================] - 1s 3ms/step - loss: 0.4007 - accuracy: 0.8291 - val_loss: 0.4009 - val_accuracy: 0.8280\n",
      "Epoch 30/100\n",
      "250/250 [==============================] - 1s 3ms/step - loss: 0.3991 - accuracy: 0.8306 - val_loss: 0.3989 - val_accuracy: 0.8300\n",
      "Epoch 31/100\n",
      "250/250 [==============================] - 1s 3ms/step - loss: 0.3975 - accuracy: 0.8325 - val_loss: 0.3972 - val_accuracy: 0.8320\n",
      "Epoch 32/100\n",
      "250/250 [==============================] - 1s 3ms/step - loss: 0.3959 - accuracy: 0.8331 - val_loss: 0.3955 - val_accuracy: 0.8330\n",
      "Epoch 33/100\n",
      "250/250 [==============================] - 1s 3ms/step - loss: 0.3944 - accuracy: 0.8336 - val_loss: 0.3937 - val_accuracy: 0.8340\n",
      "Epoch 34/100\n",
      "250/250 [==============================] - 1s 3ms/step - loss: 0.3928 - accuracy: 0.8340 - val_loss: 0.3922 - val_accuracy: 0.8345\n",
      "Epoch 35/100\n",
      "250/250 [==============================] - 1s 3ms/step - loss: 0.3913 - accuracy: 0.8356 - val_loss: 0.3906 - val_accuracy: 0.8365\n",
      "Epoch 36/100\n",
      "250/250 [==============================] - 1s 3ms/step - loss: 0.3899 - accuracy: 0.8353 - val_loss: 0.3890 - val_accuracy: 0.8360\n",
      "Epoch 37/100\n",
      "250/250 [==============================] - 1s 3ms/step - loss: 0.3885 - accuracy: 0.8361 - val_loss: 0.3873 - val_accuracy: 0.8360\n",
      "Epoch 38/100\n",
      "250/250 [==============================] - 1s 3ms/step - loss: 0.3870 - accuracy: 0.8374 - val_loss: 0.3857 - val_accuracy: 0.8385\n",
      "Epoch 39/100\n",
      "250/250 [==============================] - 1s 3ms/step - loss: 0.3856 - accuracy: 0.8388 - val_loss: 0.3842 - val_accuracy: 0.8400\n",
      "Epoch 40/100\n",
      "250/250 [==============================] - 1s 3ms/step - loss: 0.3843 - accuracy: 0.8399 - val_loss: 0.3828 - val_accuracy: 0.8415\n",
      "Epoch 41/100\n",
      "250/250 [==============================] - 1s 3ms/step - loss: 0.3829 - accuracy: 0.8403 - val_loss: 0.3813 - val_accuracy: 0.8430\n",
      "Epoch 42/100\n",
      "250/250 [==============================] - 1s 3ms/step - loss: 0.3816 - accuracy: 0.8406 - val_loss: 0.3799 - val_accuracy: 0.8445\n",
      "Epoch 43/100\n",
      "250/250 [==============================] - 1s 3ms/step - loss: 0.3804 - accuracy: 0.8411 - val_loss: 0.3785 - val_accuracy: 0.8455\n",
      "Epoch 44/100\n",
      "250/250 [==============================] - 1s 3ms/step - loss: 0.3791 - accuracy: 0.8421 - val_loss: 0.3772 - val_accuracy: 0.8470\n",
      "Epoch 45/100\n",
      "250/250 [==============================] - 1s 3ms/step - loss: 0.3779 - accuracy: 0.8429 - val_loss: 0.3760 - val_accuracy: 0.8480\n",
      "Epoch 46/100\n",
      "250/250 [==============================] - 1s 3ms/step - loss: 0.3767 - accuracy: 0.8434 - val_loss: 0.3747 - val_accuracy: 0.8485\n",
      "Epoch 47/100\n",
      "250/250 [==============================] - 1s 3ms/step - loss: 0.3756 - accuracy: 0.8441 - val_loss: 0.3736 - val_accuracy: 0.8495\n",
      "Epoch 48/100\n",
      "250/250 [==============================] - 1s 3ms/step - loss: 0.3745 - accuracy: 0.8456 - val_loss: 0.3724 - val_accuracy: 0.8505\n",
      "Epoch 49/100\n",
      "250/250 [==============================] - 1s 3ms/step - loss: 0.3735 - accuracy: 0.8461 - val_loss: 0.3711 - val_accuracy: 0.8510\n",
      "Epoch 50/100\n",
      "250/250 [==============================] - 1s 3ms/step - loss: 0.3724 - accuracy: 0.8464 - val_loss: 0.3701 - val_accuracy: 0.8520\n",
      "Epoch 51/100\n",
      "250/250 [==============================] - 1s 3ms/step - loss: 0.3714 - accuracy: 0.8470 - val_loss: 0.3691 - val_accuracy: 0.8525\n",
      "Epoch 52/100\n",
      "250/250 [==============================] - 1s 3ms/step - loss: 0.3704 - accuracy: 0.8476 - val_loss: 0.3681 - val_accuracy: 0.8530\n",
      "Epoch 53/100\n",
      "250/250 [==============================] - 1s 3ms/step - loss: 0.3695 - accuracy: 0.8474 - val_loss: 0.3671 - val_accuracy: 0.8520\n",
      "Epoch 54/100\n",
      "250/250 [==============================] - 1s 3ms/step - loss: 0.3685 - accuracy: 0.8482 - val_loss: 0.3661 - val_accuracy: 0.8530\n",
      "Epoch 55/100\n",
      "250/250 [==============================] - 1s 3ms/step - loss: 0.3676 - accuracy: 0.8493 - val_loss: 0.3652 - val_accuracy: 0.8525\n",
      "Epoch 56/100\n",
      "250/250 [==============================] - 1s 3ms/step - loss: 0.3668 - accuracy: 0.8493 - val_loss: 0.3643 - val_accuracy: 0.8530\n",
      "Epoch 57/100\n",
      "250/250 [==============================] - 1s 3ms/step - loss: 0.3659 - accuracy: 0.8499 - val_loss: 0.3635 - val_accuracy: 0.8545\n",
      "Epoch 58/100\n",
      "250/250 [==============================] - 1s 3ms/step - loss: 0.3651 - accuracy: 0.8505 - val_loss: 0.3626 - val_accuracy: 0.8545\n",
      "Epoch 59/100\n",
      "250/250 [==============================] - 1s 3ms/step - loss: 0.3643 - accuracy: 0.8508 - val_loss: 0.3619 - val_accuracy: 0.8555\n",
      "Epoch 60/100\n",
      "250/250 [==============================] - 1s 3ms/step - loss: 0.3635 - accuracy: 0.8504 - val_loss: 0.3610 - val_accuracy: 0.8560\n",
      "Epoch 61/100\n",
      "250/250 [==============================] - 1s 3ms/step - loss: 0.3628 - accuracy: 0.8515 - val_loss: 0.3602 - val_accuracy: 0.8560\n",
      "Epoch 62/100\n",
      "250/250 [==============================] - 1s 3ms/step - loss: 0.3620 - accuracy: 0.8516 - val_loss: 0.3596 - val_accuracy: 0.8580\n",
      "Epoch 63/100\n",
      "250/250 [==============================] - 1s 3ms/step - loss: 0.3613 - accuracy: 0.8530 - val_loss: 0.3590 - val_accuracy: 0.8570\n",
      "Epoch 64/100\n",
      "250/250 [==============================] - 1s 3ms/step - loss: 0.3606 - accuracy: 0.8526 - val_loss: 0.3584 - val_accuracy: 0.8585\n",
      "Epoch 65/100\n",
      "250/250 [==============================] - 1s 3ms/step - loss: 0.3600 - accuracy: 0.8534 - val_loss: 0.3576 - val_accuracy: 0.8590\n",
      "Epoch 66/100\n",
      "250/250 [==============================] - 1s 3ms/step - loss: 0.3593 - accuracy: 0.8536 - val_loss: 0.3571 - val_accuracy: 0.8590\n",
      "Epoch 67/100\n",
      "250/250 [==============================] - 1s 3ms/step - loss: 0.3587 - accuracy: 0.8536 - val_loss: 0.3567 - val_accuracy: 0.8565\n",
      "Epoch 68/100\n",
      "250/250 [==============================] - 1s 3ms/step - loss: 0.3581 - accuracy: 0.8540 - val_loss: 0.3560 - val_accuracy: 0.8555\n",
      "Epoch 69/100\n",
      "250/250 [==============================] - 1s 3ms/step - loss: 0.3576 - accuracy: 0.8533 - val_loss: 0.3555 - val_accuracy: 0.8555\n",
      "Epoch 70/100\n",
      "250/250 [==============================] - 1s 3ms/step - loss: 0.3570 - accuracy: 0.8543 - val_loss: 0.3550 - val_accuracy: 0.8555\n",
      "Epoch 71/100\n",
      "250/250 [==============================] - 1s 3ms/step - loss: 0.3565 - accuracy: 0.8544 - val_loss: 0.3544 - val_accuracy: 0.8555\n",
      "Epoch 72/100\n",
      "250/250 [==============================] - 1s 3ms/step - loss: 0.3560 - accuracy: 0.8549 - val_loss: 0.3539 - val_accuracy: 0.8555\n",
      "Epoch 73/100\n",
      "250/250 [==============================] - 1s 4ms/step - loss: 0.3555 - accuracy: 0.8549 - val_loss: 0.3534 - val_accuracy: 0.8550\n",
      "Epoch 74/100\n",
      "250/250 [==============================] - 1s 4ms/step - loss: 0.3550 - accuracy: 0.8554 - val_loss: 0.3530 - val_accuracy: 0.8550\n",
      "Epoch 75/100\n",
      "250/250 [==============================] - 1s 4ms/step - loss: 0.3546 - accuracy: 0.8564 - val_loss: 0.3527 - val_accuracy: 0.8540\n",
      "Epoch 76/100\n",
      "250/250 [==============================] - 1s 3ms/step - loss: 0.3542 - accuracy: 0.8564 - val_loss: 0.3521 - val_accuracy: 0.8545\n",
      "Epoch 77/100\n",
      "250/250 [==============================] - 1s 3ms/step - loss: 0.3537 - accuracy: 0.8566 - val_loss: 0.3517 - val_accuracy: 0.8550\n",
      "Epoch 78/100\n",
      "250/250 [==============================] - 1s 3ms/step - loss: 0.3533 - accuracy: 0.8561 - val_loss: 0.3514 - val_accuracy: 0.8545\n",
      "Epoch 79/100\n",
      "250/250 [==============================] - 1s 3ms/step - loss: 0.3529 - accuracy: 0.8562 - val_loss: 0.3510 - val_accuracy: 0.8540\n",
      "Epoch 80/100\n",
      "250/250 [==============================] - 1s 3ms/step - loss: 0.3525 - accuracy: 0.8568 - val_loss: 0.3507 - val_accuracy: 0.8530\n",
      "Epoch 81/100\n",
      "250/250 [==============================] - 1s 3ms/step - loss: 0.3521 - accuracy: 0.8559 - val_loss: 0.3504 - val_accuracy: 0.8545\n",
      "Epoch 82/100\n",
      "250/250 [==============================] - 1s 3ms/step - loss: 0.3518 - accuracy: 0.8570 - val_loss: 0.3501 - val_accuracy: 0.8545\n",
      "Epoch 83/100\n",
      "250/250 [==============================] - 1s 3ms/step - loss: 0.3515 - accuracy: 0.8572 - val_loss: 0.3498 - val_accuracy: 0.8540\n",
      "Epoch 84/100\n",
      "250/250 [==============================] - 1s 3ms/step - loss: 0.3511 - accuracy: 0.8571 - val_loss: 0.3494 - val_accuracy: 0.8550\n",
      "Epoch 85/100\n",
      "250/250 [==============================] - 1s 3ms/step - loss: 0.3508 - accuracy: 0.8576 - val_loss: 0.3491 - val_accuracy: 0.8540\n",
      "Epoch 86/100\n",
      "250/250 [==============================] - 1s 3ms/step - loss: 0.3504 - accuracy: 0.8575 - val_loss: 0.3488 - val_accuracy: 0.8530\n",
      "Epoch 87/100\n",
      "250/250 [==============================] - 1s 3ms/step - loss: 0.3501 - accuracy: 0.8576 - val_loss: 0.3485 - val_accuracy: 0.8540\n",
      "Epoch 88/100\n",
      "250/250 [==============================] - 1s 3ms/step - loss: 0.3498 - accuracy: 0.8581 - val_loss: 0.3482 - val_accuracy: 0.8550\n",
      "Epoch 89/100\n",
      "250/250 [==============================] - 1s 3ms/step - loss: 0.3495 - accuracy: 0.8575 - val_loss: 0.3480 - val_accuracy: 0.8565\n",
      "Epoch 90/100\n",
      "250/250 [==============================] - 1s 3ms/step - loss: 0.3492 - accuracy: 0.8577 - val_loss: 0.3478 - val_accuracy: 0.8555\n",
      "Epoch 91/100\n",
      "250/250 [==============================] - 1s 3ms/step - loss: 0.3489 - accuracy: 0.8575 - val_loss: 0.3476 - val_accuracy: 0.8560\n",
      "Epoch 92/100\n",
      "250/250 [==============================] - 1s 3ms/step - loss: 0.3486 - accuracy: 0.8585 - val_loss: 0.3474 - val_accuracy: 0.8550\n",
      "Epoch 93/100\n",
      "250/250 [==============================] - 1s 3ms/step - loss: 0.3484 - accuracy: 0.8580 - val_loss: 0.3472 - val_accuracy: 0.8555\n",
      "Epoch 94/100\n",
      "250/250 [==============================] - 1s 3ms/step - loss: 0.3481 - accuracy: 0.8580 - val_loss: 0.3469 - val_accuracy: 0.8560\n",
      "Epoch 95/100\n",
      "250/250 [==============================] - 1s 3ms/step - loss: 0.3479 - accuracy: 0.8581 - val_loss: 0.3468 - val_accuracy: 0.8550\n",
      "Epoch 96/100\n",
      "250/250 [==============================] - 1s 3ms/step - loss: 0.3476 - accuracy: 0.8587 - val_loss: 0.3465 - val_accuracy: 0.8550\n",
      "Epoch 97/100\n",
      "250/250 [==============================] - 1s 3ms/step - loss: 0.3474 - accuracy: 0.8579 - val_loss: 0.3464 - val_accuracy: 0.8560\n",
      "Epoch 98/100\n",
      "250/250 [==============================] - 1s 3ms/step - loss: 0.3471 - accuracy: 0.8580 - val_loss: 0.3462 - val_accuracy: 0.8565\n",
      "Epoch 99/100\n",
      "250/250 [==============================] - 1s 3ms/step - loss: 0.3469 - accuracy: 0.8584 - val_loss: 0.3459 - val_accuracy: 0.8570\n",
      "Epoch 100/100\n",
      "250/250 [==============================] - 1s 3ms/step - loss: 0.3467 - accuracy: 0.8594 - val_loss: 0.3458 - val_accuracy: 0.8575\n",
      "63/63 [==============================] - 0s 2ms/step\n"
     ]
    }
   ],
   "source": [
    "#  callback\n",
    "# from matplotlib import pyplot as plt\n",
    "# adam=tf.keras.optimizers.Adam(learning_rate=2)\n",
    "adam = tf.keras.optimizers.Adam(learning_rate=0.0001)\n",
    "ann.compile(optimizer=adam, loss='binary_crossentropy', metrics=['accuracy'])\n",
    "\n",
    "call1=tf.keras.callbacks.ModelCheckpoint(save_best_only=True,filepath='ann.h5')\n",
    "cal2=tf.keras.callbacks.EarlyStopping(patience=4)\n",
    "\n",
    "history = ann.fit(X_train, y_train, epochs=100, batch_size=32,\n",
    "                  validation_data=(X_test, y_test),callbacks=[call1,cal2])\n",
    "\n",
    "history = history.history\n",
    "\n",
    "y_pred = ann.predict(X_test)\n",
    "\n",
    "y_pred = np.where(y_pred > 0.5, 1, 0)\n",
    "\n",
    "# plt.plot(range(1, 101), history['loss'])\n",
    "# plt.plot(range(1, 101), history['val_loss'])\n",
    "# plt.legend(['Training loss', 'Validation loss'])\n",
    "# plt.title('Learning Curve')\n",
    "# plt.xlabel('Epochs')\n",
    "# plt.ylabel('loss')\n",
    "ann.save('ann.h5')\n",
    "\n"
   ]
  },
  {
   "cell_type": "code",
   "execution_count": 21,
   "metadata": {},
   "outputs": [
    {
     "name": "stdout",
     "output_type": "stream",
     "text": [
      "/bin/bash: /home/darklord/anaconda3/envs/tf/lib/libtinfo.so.6: no version information available (required by /bin/bash)\n",
      "Collecting seaborn\n",
      "  Downloading seaborn-0.12.1-py3-none-any.whl (288 kB)\n",
      "\u001b[2K     \u001b[90m━━━━━━━━━━━━━━━━━━━━━━━━━━━━━━━━━━━━━\u001b[0m \u001b[32m288.2/288.2 kB\u001b[0m \u001b[31m319.1 kB/s\u001b[0m eta \u001b[36m0:00:00\u001b[0m00:01\u001b[0m00:01\u001b[0m\n",
      "\u001b[?25hRequirement already satisfied: matplotlib!=3.6.1,>=3.1 in /home/darklord/anaconda3/envs/tf/lib/python3.9/site-packages (from seaborn) (3.6.2)\n",
      "Requirement already satisfied: pandas>=0.25 in /home/darklord/anaconda3/envs/tf/lib/python3.9/site-packages (from seaborn) (1.5.1)\n",
      "Requirement already satisfied: numpy>=1.17 in /home/darklord/anaconda3/envs/tf/lib/python3.9/site-packages (from seaborn) (1.23.4)\n",
      "Requirement already satisfied: python-dateutil>=2.7 in /home/darklord/anaconda3/envs/tf/lib/python3.9/site-packages (from matplotlib!=3.6.1,>=3.1->seaborn) (2.8.2)\n",
      "Requirement already satisfied: kiwisolver>=1.0.1 in /home/darklord/anaconda3/envs/tf/lib/python3.9/site-packages (from matplotlib!=3.6.1,>=3.1->seaborn) (1.4.4)\n",
      "Requirement already satisfied: cycler>=0.10 in /home/darklord/anaconda3/envs/tf/lib/python3.9/site-packages (from matplotlib!=3.6.1,>=3.1->seaborn) (0.11.0)\n",
      "Requirement already satisfied: fonttools>=4.22.0 in /home/darklord/anaconda3/envs/tf/lib/python3.9/site-packages (from matplotlib!=3.6.1,>=3.1->seaborn) (4.38.0)\n",
      "Requirement already satisfied: pyparsing>=2.2.1 in /home/darklord/anaconda3/envs/tf/lib/python3.9/site-packages (from matplotlib!=3.6.1,>=3.1->seaborn) (3.0.9)\n",
      "Requirement already satisfied: packaging>=20.0 in /home/darklord/anaconda3/envs/tf/lib/python3.9/site-packages (from matplotlib!=3.6.1,>=3.1->seaborn) (21.3)\n",
      "Requirement already satisfied: pillow>=6.2.0 in /home/darklord/anaconda3/envs/tf/lib/python3.9/site-packages (from matplotlib!=3.6.1,>=3.1->seaborn) (9.3.0)\n",
      "Requirement already satisfied: contourpy>=1.0.1 in /home/darklord/anaconda3/envs/tf/lib/python3.9/site-packages (from matplotlib!=3.6.1,>=3.1->seaborn) (1.0.6)\n",
      "Requirement already satisfied: pytz>=2020.1 in /home/darklord/anaconda3/envs/tf/lib/python3.9/site-packages (from pandas>=0.25->seaborn) (2022.6)\n",
      "Requirement already satisfied: six>=1.5 in /home/darklord/anaconda3/envs/tf/lib/python3.9/site-packages (from python-dateutil>=2.7->matplotlib!=3.6.1,>=3.1->seaborn) (1.16.0)\n",
      "Installing collected packages: seaborn\n",
      "Successfully installed seaborn-0.12.1\n"
     ]
    }
   ],
   "source": [
    "# ! pip install seaborn"
   ]
  },
  {
   "cell_type": "code",
   "execution_count": null,
   "metadata": {},
   "outputs": [],
   "source": []
  }
 ],
 "metadata": {
  "kernelspec": {
   "display_name": "Python 3.9.15 ('tf')",
   "language": "python",
   "name": "python3"
  },
  "language_info": {
   "codemirror_mode": {
    "name": "ipython",
    "version": 3
   },
   "file_extension": ".py",
   "mimetype": "text/x-python",
   "name": "python",
   "nbconvert_exporter": "python",
   "pygments_lexer": "ipython3",
   "version": "3.9.15"
  },
  "orig_nbformat": 4,
  "vscode": {
   "interpreter": {
    "hash": "0c4d9a0e5ba6242edd2fd2e769e4c5824f15741c73839fea08f11b8693327fde"
   }
  }
 },
 "nbformat": 4,
 "nbformat_minor": 2
}
